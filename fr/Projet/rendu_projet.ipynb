{
 "cells": [
  {
   "attachments": {},
   "cell_type": "markdown",
   "metadata": {},
   "source": [
    "# Rendu de projet de:\n",
    "\n",
    "Yamine KEBAILI  \n",
    "Morgane QUELENNEC"
   ]
  },
  {
   "cell_type": "markdown",
   "metadata": {},
   "source": [
    "# 1) Collecte de données\n",
    "## a) Approches automatisées de la collecte de données"
   ]
  },
  {
   "cell_type": "markdown",
   "metadata": {},
   "source": [
    "Nous avons téléchargé un dataset sur Kaggle contenant une banque d'image et un csv contenant des informations pour chaque images."
   ]
  },
  {
   "cell_type": "code",
   "execution_count": 1,
   "metadata": {},
   "outputs": [
    {
     "name": "stdout",
     "output_type": "stream",
     "text": [
      "\n",
      "System:\n",
      "    python: 3.10.6 (main, Nov 14 2022, 16:10:14) [GCC 11.3.0]\n",
      "executable: /bin/python3\n",
      "   machine: Linux-5.4.72-microsoft-standard-WSL2-x86_64-with-glibc2.35\n",
      "\n",
      "Python dependencies:\n",
      "      sklearn: 1.2.1\n",
      "          pip: 22.0.2\n",
      "   setuptools: 66.0.0\n",
      "        numpy: 1.24.2\n",
      "        scipy: 1.10.1\n",
      "       Cython: None\n",
      "       pandas: 1.5.3\n",
      "   matplotlib: 3.5.1\n",
      "       joblib: 1.2.0\n",
      "threadpoolctl: 3.1.0\n",
      "\n",
      "Built with OpenMP: True\n",
      "\n",
      "threadpoolctl info:\n",
      "       user_api: blas\n",
      "   internal_api: openblas\n",
      "         prefix: libopenblas\n",
      "       filepath: /home/morgane/.local/lib/python3.10/site-packages/numpy.libs/libopenblas64_p-r0-15028c96.3.21.so\n",
      "        version: 0.3.21\n",
      "threading_layer: pthreads\n",
      "   architecture: SkylakeX\n",
      "    num_threads: 8\n",
      "\n",
      "       user_api: openmp\n",
      "   internal_api: openmp\n",
      "         prefix: libgomp\n",
      "       filepath: /usr/lib/x86_64-linux-gnu/libgomp.so.1.0.0\n",
      "        version: None\n",
      "    num_threads: 8\n",
      "\n",
      "       user_api: openmp\n",
      "   internal_api: openmp\n",
      "         prefix: libgomp\n",
      "       filepath: /home/morgane/.local/lib/python3.10/site-packages/scikit_learn.libs/libgomp-a34b3233.so.1.0.0\n",
      "        version: None\n",
      "    num_threads: 8\n",
      "\n",
      "       user_api: blas\n",
      "   internal_api: openblas\n",
      "         prefix: libopenblas\n",
      "       filepath: /home/morgane/.local/lib/python3.10/site-packages/scipy.libs/libopenblasp-r0-41284840.3.18.so\n",
      "        version: 0.3.18\n",
      "threading_layer: pthreads\n",
      "   architecture: SkylakeX\n",
      "    num_threads: 8\n"
     ]
    }
   ],
   "source": [
    "# Import des fonctions et outils utilisé\n",
    "# imports\n",
    "\n",
    "from mpl_toolkits.mplot3d import Axes3D\n",
    "from sklearn.preprocessing import StandardScaler\n",
    "import sklearn\n",
    "import matplotlib.pyplot as plt\n",
    "import matplotlib.image as mpimg\n",
    "import numpy as np # linear algebra\n",
    "import pandas as pd # data processing, CSV file I/O (e.g. pd.read_csv)\n",
    "import os # accessing directory structure\n",
    "import csv\n",
    "import math\n",
    "import random\n",
    "import json\n",
    "import namegenerator\n",
    "\n",
    "sklearn.show_versions()\n",
    "from nltk.corpus import stopwords          # liste des mots non pris en compte\n",
    "from nltk.tokenize import word_tokenize    # fonction de tokenisation\n",
    "from nltk.stem import WordNetLemmatizer    # fonction de lemmatisation\n",
    "from nltk.stem.porter import PorterStemmer # fonction de stemming\n",
    "import math"
   ]
  },
  {
   "cell_type": "code",
   "execution_count": 2,
   "metadata": {},
   "outputs": [
    {
     "name": "stderr",
     "output_type": "stream",
     "text": [
      "/tmp/ipykernel_8952/2530632312.py:4: FutureWarning: The error_bad_lines argument has been deprecated and will be removed in a future version. Use on_bad_lines in the future.\n",
      "\n",
      "\n",
      "  df = pd.read_csv(r'dataset/pokemon.csv', sep=',', error_bad_lines=False, warn_bad_lines=False)\n",
      "/tmp/ipykernel_8952/2530632312.py:4: FutureWarning: The warn_bad_lines argument has been deprecated and will be removed in a future version. Use on_bad_lines in the future.\n",
      "\n",
      "\n",
      "  df = pd.read_csv(r'dataset/pokemon.csv', sep=',', error_bad_lines=False, warn_bad_lines=False)\n"
     ]
    },
    {
     "data": {
      "text/html": [
       "<div>\n",
       "<style scoped>\n",
       "    .dataframe tbody tr th:only-of-type {\n",
       "        vertical-align: middle;\n",
       "    }\n",
       "\n",
       "    .dataframe tbody tr th {\n",
       "        vertical-align: top;\n",
       "    }\n",
       "\n",
       "    .dataframe thead th {\n",
       "        text-align: right;\n",
       "    }\n",
       "</style>\n",
       "<table border=\"1\" class=\"dataframe\">\n",
       "  <thead>\n",
       "    <tr style=\"text-align: right;\">\n",
       "      <th></th>\n",
       "      <th>id</th>\n",
       "      <th>Type1</th>\n",
       "      <th>Type2</th>\n",
       "      <th>Description</th>\n",
       "    </tr>\n",
       "  </thead>\n",
       "  <tbody>\n",
       "    <tr>\n",
       "      <th>0</th>\n",
       "      <td>abomasnow</td>\n",
       "      <td>Grass</td>\n",
       "      <td>Ice</td>\n",
       "      <td>is a dual-type Grass/Ice Pokémon introduced in...</td>\n",
       "    </tr>\n",
       "    <tr>\n",
       "      <th>1</th>\n",
       "      <td>abra</td>\n",
       "      <td>Psychic</td>\n",
       "      <td>NaN</td>\n",
       "      <td>is a Psychic-type Pokémon introduced in Genera...</td>\n",
       "    </tr>\n",
       "    <tr>\n",
       "      <th>2</th>\n",
       "      <td>absol</td>\n",
       "      <td>Dark</td>\n",
       "      <td>NaN</td>\n",
       "      <td>is a Dark-type Pokémon introduced in Generatio...</td>\n",
       "    </tr>\n",
       "    <tr>\n",
       "      <th>3</th>\n",
       "      <td>accelgor</td>\n",
       "      <td>Bug</td>\n",
       "      <td>NaN</td>\n",
       "      <td>is a Bug-type Pokémon introduced in Generation V.</td>\n",
       "    </tr>\n",
       "    <tr>\n",
       "      <th>4</th>\n",
       "      <td>aegislash-blade</td>\n",
       "      <td>Steel</td>\n",
       "      <td>Ghost</td>\n",
       "      <td>is a dual-type Steel/Ghost Pokémon introduced ...</td>\n",
       "    </tr>\n",
       "    <tr>\n",
       "      <th>...</th>\n",
       "      <td>...</td>\n",
       "      <td>...</td>\n",
       "      <td>...</td>\n",
       "      <td>...</td>\n",
       "    </tr>\n",
       "    <tr>\n",
       "      <th>94</th>\n",
       "      <td>charizard</td>\n",
       "      <td>Fire</td>\n",
       "      <td>Flying</td>\n",
       "      <td>Charizard is a dual-type Fire/Flying Pokémon i...</td>\n",
       "    </tr>\n",
       "    <tr>\n",
       "      <th>95</th>\n",
       "      <td>charmander</td>\n",
       "      <td>Fire</td>\n",
       "      <td>NaN</td>\n",
       "      <td>Charmander is a Fire-type Pokémon introduced i...</td>\n",
       "    </tr>\n",
       "    <tr>\n",
       "      <th>96</th>\n",
       "      <td>charmeleon</td>\n",
       "      <td>Fire</td>\n",
       "      <td>NaN</td>\n",
       "      <td>Charmeleon is a Fire-type Pokémon introduced i...</td>\n",
       "    </tr>\n",
       "    <tr>\n",
       "      <th>97</th>\n",
       "      <td>chatot</td>\n",
       "      <td>Normal</td>\n",
       "      <td>Flying</td>\n",
       "      <td>Chatot is a dual-type Normal/Flying Pokémon in...</td>\n",
       "    </tr>\n",
       "    <tr>\n",
       "      <th>41</th>\n",
       "      <td>id</td>\n",
       "      <td>Type1</td>\n",
       "      <td>Type2</td>\n",
       "      <td>Description</td>\n",
       "    </tr>\n",
       "  </tbody>\n",
       "</table>\n",
       "<p>98 rows × 4 columns</p>\n",
       "</div>"
      ],
      "text/plain": [
       "                 id    Type1   Type2  \\\n",
       "0         abomasnow    Grass     Ice   \n",
       "1              abra  Psychic     NaN   \n",
       "2             absol     Dark     NaN   \n",
       "3          accelgor      Bug     NaN   \n",
       "4   aegislash-blade    Steel   Ghost   \n",
       "..              ...      ...     ...   \n",
       "94        charizard     Fire  Flying   \n",
       "95       charmander     Fire     NaN   \n",
       "96       charmeleon     Fire     NaN   \n",
       "97           chatot   Normal  Flying   \n",
       "41               id    Type1   Type2   \n",
       "\n",
       "                                          Description  \n",
       "0   is a dual-type Grass/Ice Pokémon introduced in...  \n",
       "1   is a Psychic-type Pokémon introduced in Genera...  \n",
       "2   is a Dark-type Pokémon introduced in Generatio...  \n",
       "3   is a Bug-type Pokémon introduced in Generation V.  \n",
       "4   is a dual-type Steel/Ghost Pokémon introduced ...  \n",
       "..                                                ...  \n",
       "94  Charizard is a dual-type Fire/Flying Pokémon i...  \n",
       "95  Charmander is a Fire-type Pokémon introduced i...  \n",
       "96  Charmeleon is a Fire-type Pokémon introduced i...  \n",
       "97  Chatot is a dual-type Normal/Flying Pokémon in...  \n",
       "41                                        Description  \n",
       "\n",
       "[98 rows x 4 columns]"
      ]
     },
     "execution_count": 2,
     "metadata": {},
     "output_type": "execute_result"
    }
   ],
   "source": [
    "# Ouverture du dataset\n",
    "\n",
    "# Récupération entête csv\n",
    "df = pd.read_csv(r'dataset/pokemon.csv', sep=',', error_bad_lines=False, warn_bad_lines=False)\n",
    "df.sort_values('id', ascending = True )"
   ]
  },
  {
   "attachments": {},
   "cell_type": "markdown",
   "metadata": {},
   "source": [
    "Chaque ligne correspond à une image. par exemple la ligne contenant le nom de pokémon charizard possède l'image suivante:"
   ]
  },
  {
   "cell_type": "code",
   "execution_count": 3,
   "metadata": {},
   "outputs": [
    {
     "data": {
      "image/png": "[encoded data removed]",
      "text/plain": [
       "<Figure size 640x480 with 1 Axes>"
      ]
     },
     "metadata": {},
     "output_type": "display_data"
    }
   ],
   "source": [
    "import matplotlib.pyplot as plt\n",
    "import matplotlib.image as mpimg\n",
    "import os\n",
    "\n",
    "image_name = \"charizard\"\n",
    "image_path = f\"./dataset/images/{image_name}.png\"\n",
    "\n",
    "if not os.path.exists(image_path):\n",
    "    print(f\"Erreur: le fichier {image_path} n'existe pas.\")\n",
    "else:\n",
    "    try:\n",
    "        img = mpimg.imread(image_path)\n",
    "        imgplot = plt.imshow(img)\n",
    "        plt.show()\n",
    "    except:\n",
    "        print(f\"Erreur: impossible de lire l'image {image_path}.\")\n"
   ]
  },
  {
   "cell_type": "markdown",
   "metadata": {},
   "source": [
    "Les informations correspondant à cette image sont les suivantes: "
   ]
  },
  {
   "cell_type": "code",
   "execution_count": 4,
   "metadata": {},
   "outputs": [
    {
     "data": {
      "text/html": [
       "<div>\n",
       "<style scoped>\n",
       "    .dataframe tbody tr th:only-of-type {\n",
       "        vertical-align: middle;\n",
       "    }\n",
       "\n",
       "    .dataframe tbody tr th {\n",
       "        vertical-align: top;\n",
       "    }\n",
       "\n",
       "    .dataframe thead th {\n",
       "        text-align: right;\n",
       "    }\n",
       "</style>\n",
       "<table border=\"1\" class=\"dataframe\">\n",
       "  <thead>\n",
       "    <tr style=\"text-align: right;\">\n",
       "      <th></th>\n",
       "      <th>id</th>\n",
       "      <th>Type1</th>\n",
       "      <th>Type2</th>\n",
       "      <th>Description</th>\n",
       "    </tr>\n",
       "  </thead>\n",
       "  <tbody>\n",
       "    <tr>\n",
       "      <th>94</th>\n",
       "      <td>charizard</td>\n",
       "      <td>Fire</td>\n",
       "      <td>Flying</td>\n",
       "      <td>Charizard is a dual-type Fire/Flying Pokémon i...</td>\n",
       "    </tr>\n",
       "  </tbody>\n",
       "</table>\n",
       "</div>"
      ],
      "text/plain": [
       "           id Type1   Type2                                        Description\n",
       "94  charizard  Fire  Flying  Charizard is a dual-type Fire/Flying Pokémon i..."
      ]
     },
     "execution_count": 4,
     "metadata": {},
     "output_type": "execute_result"
    }
   ],
   "source": [
    "df.loc[df['id'].isin([\"charizard\"])]"
   ]
  },
  {
   "attachments": {},
   "cell_type": "markdown",
   "metadata": {},
   "source": [
    "Pour répondre aux questions suivantes: \n",
    "\n",
    "**Approches automatisées de la collecte de données** \n",
    "\n",
    "--> Nous avons choisi cette méthode car elle nous permettait de répondre rapidement aux exigences du projet. Qui plus \n",
    "est, ce dernier est bien fourni en données\n",
    "\n",
    "\n",
    "**Utilisation d'images sous licence libre**\n",
    "\n",
    "--> Les images sont disponibles ici: https://www.kaggle.com/dataset/vishalsubbiah/pokemon-images-and-types. Elles sont libres de droits\n",
    "\n",
    "**Stockage et gestion des images et des métadonnées associées**\n",
    "\n",
    "--> Les images sont disponibles dans le zip et sont à dézipper (dataset.zip). Les méta-données elles sont disponibles dans le csv: dataset/pokemon.csv\n",
    "\n",
    "**Approches automatisées de l'étiquetage / Stockage et gestion des étiquettes et des annotations des images**\n",
    "\n",
    "--> Contenu de notre dataset téléchargé, pas besoin d'étiquettage."
   ]
  },
  {
   "cell_type": "markdown",
   "metadata": {},
   "source": [
    "# Méthode par Text-Mining"
   ]
  },
  {
   "cell_type": "markdown",
   "metadata": {},
   "source": [
    "## OBJECTIF :\n",
    "\n",
    "Le but de cette application est de proposer des images selon la sélection d'une ou plusieurs images par un utilisateur. La première façon de faire est d'utilisé le text-mining. On utilise la description de l'image pour faire une recherche de similarity sur toutes les descriptions des images.\n",
    "\n",
    "\n",
    "### Vers de la DOCUMENTATION COMPLEMENTAIRE :\n",
    "\n",
    "Cette présentation a été conçue grâce aux documentations suivantes :\n",
    "\n",
    "https://scikit-learn.org/stable/tutorial/text_analytics/working_with_text_data.html<br>\n",
    "http://www.nltk.org/\n",
    "\n",
    "## Plan du document :\n",
    "\n",
    "1. **Principe de l'algorithme**\n",
    "    1. **Traitement du corpus**\n",
    "        1. **Transformation des descriptions**\n",
    "        1. **Présentation des différentes étapes avec exemples**\n",
    "    2. **Traitement d'une recherche**\n",
    "        1. **Vectorisation de la requête**\n",
    "        1. **Calcul de similarité**\n",
    "1. **Exécution de l'application**"
   ]
  },
  {
   "cell_type": "markdown",
   "metadata": {},
   "source": [
    "## 1. Principe de l'algorithme\n",
    "\n",
    "L'algorithme se base sur l'analyse de la fréquence des mots dans les textes, et fonctionne en deux phases distinctes :\n",
    "\n",
    "- Une première phase de travail préliminaire de traitement du corpus, qui a pour but de construire une matrice représentatrice de ce dernier\n",
    "- La phase de recherche à proprement parler, qui consiste représenter de manière vectorielle la requête de l'utilisateur (soit la description de l'image choisir par celui-ci) et trouver la ligne de la matrice du corpus (donc des autres images) lui correspondant le plus\n",
    "\n",
    "### A. Traitement du corpus\n",
    "\n",
    "Le but est à partir du corpus constitué de description d'image sous la forme d'une chaîne de caractère de construire une matrice représentatrice de ce dernier. \n",
    "\n",
    "Chaque ligne de la matrice représentera une description et chaque colonne représentera un mot présent dans cette corpus. **La valeur dans la matrice à la place (i, j) correspond à l'importance du mot j pour le texte i par rapport au reste des descriptions.** \n",
    "\n",
    "Cette valeur doit permettre de choisir parmis les descriptions, ainsi l'importance du mot doit être comprise comme importance au sein du texte en lui-même (répétition du mot dans le texte) et importance dans ce texte par rapport aux autres descriptions (mot présent dans la description mais peu dans le reste du corpus).\n",
    "\n",
    "#### a. Transformation des descriptions\n",
    "\n",
    "Pour construire la matrice, on commence par \"découper\" les descriptions en listes de mots (**tokenisation**). \n",
    "\n",
    "On va ensuite éliminer les mots trop communs (**stopwords**), que l'on considère comme ayant trop peu de sens pour être pris en compte (cela peut aussi être la ponctuation). \n",
    "\n",
    "On va ensuite appliquer aux mots des transformations, afin de rassembler ceux ayant un sens identique ou proche, de deux types :\n",
    "- **lemmatisation** : Rassembler des mots sous un même mot-clé\n",
    "- **stemming** (ou radicalisation) : Rassembler des mots sous un même radical\n",
    "\n",
    "On utilise pour cela la bibliothèque **nltk** (Natural Language ToolKit) de python. On définit ainsi la fonction \"split\" suivante :"
   ]
  },
  {
   "cell_type": "markdown",
   "metadata": {},
   "source": [
    "\n",
    "\n",
    "#### b. Présentation des différentes étapes de scoring avec exemples"
   ]
  },
  {
   "cell_type": "markdown",
   "metadata": {},
   "source": [
    "Pour cette méthode, nous allons travailler uniquement à l'aide des descriptions des images"
   ]
  },
  {
   "cell_type": "code",
   "execution_count": 5,
   "metadata": {},
   "outputs": [
    {
     "data": {
      "text/html": [
       "<div>\n",
       "<style scoped>\n",
       "    .dataframe tbody tr th:only-of-type {\n",
       "        vertical-align: middle;\n",
       "    }\n",
       "\n",
       "    .dataframe tbody tr th {\n",
       "        vertical-align: top;\n",
       "    }\n",
       "\n",
       "    .dataframe thead th {\n",
       "        text-align: right;\n",
       "    }\n",
       "</style>\n",
       "<table border=\"1\" class=\"dataframe\">\n",
       "  <thead>\n",
       "    <tr style=\"text-align: right;\">\n",
       "      <th></th>\n",
       "      <th>id</th>\n",
       "      <th>Description</th>\n",
       "    </tr>\n",
       "  </thead>\n",
       "  <tbody>\n",
       "    <tr>\n",
       "      <th>0</th>\n",
       "      <td>abomasnow</td>\n",
       "      <td>is a dual-type Grass/Ice Pokémon introduced in...</td>\n",
       "    </tr>\n",
       "    <tr>\n",
       "      <th>1</th>\n",
       "      <td>abra</td>\n",
       "      <td>is a Psychic-type Pokémon introduced in Genera...</td>\n",
       "    </tr>\n",
       "    <tr>\n",
       "      <th>2</th>\n",
       "      <td>absol</td>\n",
       "      <td>is a Dark-type Pokémon introduced in Generatio...</td>\n",
       "    </tr>\n",
       "    <tr>\n",
       "      <th>3</th>\n",
       "      <td>accelgor</td>\n",
       "      <td>is a Bug-type Pokémon introduced in Generation V.</td>\n",
       "    </tr>\n",
       "    <tr>\n",
       "      <th>4</th>\n",
       "      <td>aegislash-blade</td>\n",
       "      <td>is a dual-type Steel/Ghost Pokémon introduced ...</td>\n",
       "    </tr>\n",
       "    <tr>\n",
       "      <th>...</th>\n",
       "      <td>...</td>\n",
       "      <td>...</td>\n",
       "    </tr>\n",
       "    <tr>\n",
       "      <th>93</th>\n",
       "      <td>chansey</td>\n",
       "      <td>Chansey is a Normal-type Pokémon introduced in...</td>\n",
       "    </tr>\n",
       "    <tr>\n",
       "      <th>94</th>\n",
       "      <td>charizard</td>\n",
       "      <td>Charizard is a dual-type Fire/Flying Pokémon i...</td>\n",
       "    </tr>\n",
       "    <tr>\n",
       "      <th>95</th>\n",
       "      <td>charmander</td>\n",
       "      <td>Charmander is a Fire-type Pokémon introduced i...</td>\n",
       "    </tr>\n",
       "    <tr>\n",
       "      <th>96</th>\n",
       "      <td>charmeleon</td>\n",
       "      <td>Charmeleon is a Fire-type Pokémon introduced i...</td>\n",
       "    </tr>\n",
       "    <tr>\n",
       "      <th>97</th>\n",
       "      <td>chatot</td>\n",
       "      <td>Chatot is a dual-type Normal/Flying Pokémon in...</td>\n",
       "    </tr>\n",
       "  </tbody>\n",
       "</table>\n",
       "<p>98 rows × 2 columns</p>\n",
       "</div>"
      ],
      "text/plain": [
       "                 id                                        Description\n",
       "0         abomasnow  is a dual-type Grass/Ice Pokémon introduced in...\n",
       "1              abra  is a Psychic-type Pokémon introduced in Genera...\n",
       "2             absol  is a Dark-type Pokémon introduced in Generatio...\n",
       "3          accelgor  is a Bug-type Pokémon introduced in Generation V.\n",
       "4   aegislash-blade  is a dual-type Steel/Ghost Pokémon introduced ...\n",
       "..              ...                                                ...\n",
       "93          chansey  Chansey is a Normal-type Pokémon introduced in...\n",
       "94        charizard  Charizard is a dual-type Fire/Flying Pokémon i...\n",
       "95       charmander  Charmander is a Fire-type Pokémon introduced i...\n",
       "96       charmeleon  Charmeleon is a Fire-type Pokémon introduced i...\n",
       "97           chatot  Chatot is a dual-type Normal/Flying Pokémon in...\n",
       "\n",
       "[98 rows x 2 columns]"
      ]
     },
     "execution_count": 5,
     "metadata": {},
     "output_type": "execute_result"
    }
   ],
   "source": [
    "# Suppresion des colonnes inutiles\n",
    "df = df.drop(['Type1', 'Type2'], axis=1)\n",
    "df"
   ]
  },
  {
   "cell_type": "code",
   "execution_count": 6,
   "metadata": {},
   "outputs": [
    {
     "name": "stdout",
     "output_type": "stream",
     "text": [
      "[sudo] password for morgane: \n"
     ]
    }
   ],
   "source": [
    "!sudo apt install python3-nltk"
   ]
  },
  {
   "cell_type": "code",
   "execution_count": 7,
   "metadata": {},
   "outputs": [
    {
     "name": "stdout",
     "output_type": "stream",
     "text": [
      "/usr/lib/python3.10/runpy.py:126: RuntimeWarning: 'nltk.downloader' found in sys.modules after import of package 'nltk', but prior to execution of 'nltk.downloader'; this may result in unpredictable behaviour\n",
      "  warn(RuntimeWarning(msg))\n",
      "[nltk_data] Error loading stopwords: <urlopen error [Errno -3]\n",
      "[nltk_data]     Temporary failure in name resolution>\n",
      "Error installing package. Retry? [n/y/e]\n",
      "^C\n",
      "Traceback (most recent call last):\n",
      "  File \"/usr/lib/python3.10/runpy.py\", line 196, in _run_module_as_main\n",
      "    return _run_code(code, main_globals, None,\n",
      "  File \"/usr/lib/python3.10/runpy.py\", line 86, in _run_code\n",
      "    exec(code, run_globals)\n",
      "  File \"/home/morgane/.local/lib/python3.10/site-packages/nltk/downloader.py\", line 2544, in <module>\n",
      "    rv = downloader.download(\n",
      "  File \"/home/morgane/.local/lib/python3.10/site-packages/nltk/downloader.py\", line 788, in download\n",
      "    choice = input().strip()\n",
      "KeyboardInterrupt\n"
     ]
    }
   ],
   "source": [
    "!python3 -m nltk.downloader stopwords"
   ]
  },
  {
   "cell_type": "code",
   "execution_count": 8,
   "metadata": {},
   "outputs": [],
   "source": [
    "# Import des fonctions et outils utilisé\n",
    "from nltk.corpus import stopwords          # liste des mots non pris en compte\n",
    "from nltk.tokenize import word_tokenize    # fonction de tokenisation\n",
    "from nltk.stem import WordNetLemmatizer    # fonction de lemmatisation\n",
    "from nltk.stem.porter import PorterStemmer # fonction de stemming\n",
    "\n",
    "# \"Hyperparamètres\"\n",
    "stop_words = set(stopwords.words('english'))\n",
    "# On peut modeler la liste des mots non pris en compte\n",
    "stop_words.update(stop_words,{'.',',','!','?','\\'s', '<', '>', ':', ';', '/', '(', ')', '-', '_', '{', '}', '--', '...'})\n",
    "lmtzr=WordNetLemmatizer()\n",
    "ps = PorterStemmer()\n",
    "\n",
    "\n",
    "def split(Description):\n",
    "    \"\"\" Fonction qui prend en paramètre un texte (une description d'image) et qui \n",
    "    renvoie la liste de ses mots ayant été filtrés puis ayant subits certaines \n",
    "    transformations: lemming puis stemming \"\"\"\n",
    "\n",
    "    # Tokenisation ************************************************************\n",
    "    # Découpage du texte en mots (words est une liste de chaine de caractère)\n",
    "    words = word_tokenize(str(Description))\n",
    "\n",
    "    # Stop-words **************************************************************\n",
    "    # Filtrage des mots : on supprime de words ceux qui sont contenus dans \n",
    "    # stop_words car ils sont supposés avoir trop peu de sens.\n",
    "    # (mots trop communs, mots de liaisons, ponctuation)\n",
    "    words_clean = []\n",
    "    for word in words:\n",
    "        if word.lower() not in stop_words:\n",
    "            words_clean.append(word)\n",
    "    \n",
    "    # Lemming *****************************************************************\n",
    "    # Transformation des mots en un unique mot-clé (lemme) les représentant. \n",
    "    # Ex: divided, dividing, divided, divides -> divide\n",
    "    words_lemmed = [lmtzr.lemmatize(word) for word in words_clean]\n",
    "            \n",
    "    # Stemming ****************************************************************\n",
    "    # Transformation des mots en un unique radical les représentant. \n",
    "    # Ex: divided, dividing, divided, divides -> divid\n",
    "    words_stemmed = [ps.stem(word) for word in words_lemmed]\n",
    "    \n",
    "    return words_stemmed"
   ]
  },
  {
   "cell_type": "code",
   "execution_count": null,
   "metadata": {},
   "outputs": [],
   "source": [
    "!sudo pip install -U nltk"
   ]
  },
  {
   "cell_type": "markdown",
   "metadata": {},
   "source": [
    "Exemple de la fonction split"
   ]
  },
  {
   "cell_type": "code",
   "execution_count": 9,
   "metadata": {},
   "outputs": [
    {
     "data": {
      "text/html": [
       "<div>\n",
       "<style scoped>\n",
       "    .dataframe tbody tr th:only-of-type {\n",
       "        vertical-align: middle;\n",
       "    }\n",
       "\n",
       "    .dataframe tbody tr th {\n",
       "        vertical-align: top;\n",
       "    }\n",
       "\n",
       "    .dataframe thead th {\n",
       "        text-align: right;\n",
       "    }\n",
       "</style>\n",
       "<table border=\"1\" class=\"dataframe\">\n",
       "  <thead>\n",
       "    <tr style=\"text-align: right;\">\n",
       "      <th></th>\n",
       "      <th>id</th>\n",
       "      <th>Description</th>\n",
       "    </tr>\n",
       "  </thead>\n",
       "  <tbody>\n",
       "    <tr>\n",
       "      <th>1</th>\n",
       "      <td>abra</td>\n",
       "      <td>is a Psychic-type Pokémon introduced in Genera...</td>\n",
       "    </tr>\n",
       "  </tbody>\n",
       "</table>\n",
       "</div>"
      ],
      "text/plain": [
       "     id                                        Description\n",
       "1  abra  is a Psychic-type Pokémon introduced in Genera..."
      ]
     },
     "execution_count": 9,
     "metadata": {},
     "output_type": "execute_result"
    }
   ],
   "source": [
    "# splitons la ligne suivante: \n",
    "keep_line = df.loc[df['id'].isin([\"abra\"])]\n",
    "keep_line"
   ]
  },
  {
   "cell_type": "code",
   "execution_count": 10,
   "metadata": {},
   "outputs": [
    {
     "name": "stdout",
     "output_type": "stream",
     "text": [
      "['is', 'a', 'Psychic-type', 'Pokémon', 'introduced', 'in', 'Generation', 'I.']\n"
     ]
    }
   ],
   "source": [
    "# On obtient alors: \n",
    "description_test = keep_line['Description'][1]\n",
    "try:\n",
    "    words = description_test.split()\n",
    "    print(words)\n",
    "except Exception as e:\n",
    "    print(f\"An error occurred: {e}\")"
   ]
  },
  {
   "cell_type": "markdown",
   "metadata": {},
   "source": [
    "On peut alors identifier les **\"tokens\"** (mots distincts) du corpus, qui forment donc une base de représentation des descriptions sous forme vectorielle."
   ]
  },
  {
   "cell_type": "markdown",
   "metadata": {},
   "source": [
    "Tachons à présent de transformer nos descriptions en matrice via les différents fonctions suivantes:"
   ]
  },
  {
   "cell_type": "code",
   "execution_count": 20,
   "metadata": {},
   "outputs": [],
   "source": [
    "def count(words, wordbase):\n",
    "    \"\"\" Fonction qui prend en paramètre un texte 'splité' en mots et la liste \n",
    "    des tokens du corpus, et renvoie le vecteur contenant le nombre d'occurence \n",
    "    dans le texte des tokens du corpus.\"\"\"\n",
    "    \n",
    "    vector = [0 for i in range(len(wordbase))]\n",
    "    for i in range(len(wordbase)):\n",
    "        if wordbase[i] in words:\n",
    "            vector[i] += 1\n",
    "    return vector\n",
    "\n",
    "\n",
    "def preliminaryWork(corpus):\n",
    "    \"\"\" Fonction qui prend en paramètre un corpus de description sous la forme d'une \n",
    "    liste de chaines de caractère, et qui renvoie la liste des mots utilisés \n",
    "    comme base pour représenter les textes qui le compose, et la matrice de ces\n",
    "    textes dans cette base, les coordonnées étant calculées par la formule du \n",
    "    TF-IDF.\"\"\"\n",
    "    \n",
    "    # Découpage, tri et transformation des textes (voir split)\n",
    "    corpus_words = []\n",
    "    for i in range(len(corpus)):\n",
    "        corpus_words.append(split(corpus[i]))\n",
    "        \n",
    "    # Construction de la liste des mots du corpus (intersection des mots des \n",
    "    # textes). Wordset est un objet de type set, intéressant car il permet de \n",
    "    # faire l'intersection seul, mais pas ordonné. On construit donc wordbase\n",
    "    # à partir des mots de wordset pour pouvoir associer 1 mot à 1 coordonnée.\n",
    "    wordset = set()\n",
    "    for words in corpus_words:\n",
    "        wordset = wordset.union(set(words))\n",
    "    wordbase = [word for word in wordset]\n",
    "    \n",
    "    # Construction de la matrice représentant les textes dans la base wordbase.\n",
    "    # On l'initialise avec les vecteurs dont les coordonnées sont les \n",
    "    # occurences brutes.\n",
    "    matrix = []\n",
    "    for words in corpus_words:\n",
    "        matrix.append(count(words, wordbase))\n",
    "        \n",
    "    # Calcul du nombe de textes contenant chaque mot\n",
    "    nt = [0 for m in range(len(wordbase))]\n",
    "    for m in range(len(wordbase)):\n",
    "        for line in matrix:\n",
    "            if line[m] > 0:\n",
    "                nt[m] += 1\n",
    "    \n",
    "    # Calcul du tf-idf de chaque mot dans chaque texte\n",
    "    # TF(mot dans un texte) = log(1 + nb d'occurence de ce mot dans ce texte)\n",
    "    # IDF(mot) = log(nombre de textes total / nombre de texte cntenant ce mot)\n",
    "    # TF-IDF(mot dans un texte) = TF(mot dans un texte) * IDF(mot)\n",
    "    for t in range(len(matrix)):\n",
    "        for m in range(len(wordbase)):\n",
    "            matrix[t][m] = math.log(1 + matrix[t][m]) * math.log(len(corpus) / nt[m])\n",
    "            \n",
    "    return (matrix, wordbase)"
   ]
  },
  {
   "cell_type": "code",
   "execution_count": 15,
   "metadata": {},
   "outputs": [
    {
     "name": "stderr",
     "output_type": "stream",
     "text": [
      "[nltk_data] Downloading package wordnet to /home/morgane/nltk_data...\n",
      "[nltk_data]   Package wordnet is already up-to-date!\n"
     ]
    },
    {
     "data": {
      "text/plain": [
       "True"
      ]
     },
     "execution_count": 15,
     "metadata": {},
     "output_type": "execute_result"
    }
   ],
   "source": [
    "import nltk\n",
    "nltk.download('wordnet')"
   ]
  },
  {
   "cell_type": "markdown",
   "metadata": {},
   "source": [
    "Exemple: Prenons les 4 premières lignes de la feuille de styles.csv"
   ]
  },
  {
   "cell_type": "code",
   "execution_count": 21,
   "metadata": {},
   "outputs": [
    {
     "name": "stdout",
     "output_type": "stream",
     "text": [
      "description 0: is a dual-type Grass/Ice Pokémon introduced in Generation IV.\n",
      "description 1: is a Psychic-type Pokémon introduced in Generation I.\n",
      "description 2: is a Dark-type Pokémon introduced in Generation III.\n",
      "description 3: is a Bug-type Pokémon introduced in Generation V.\n"
     ]
    }
   ],
   "source": [
    "nombre_de_description_test= 4\n",
    "compteur = 0\n",
    "\n",
    "while compteur < nombre_de_description_test:\n",
    "    print(f\"description {compteur}: {df['Description'][compteur]}\")\n",
    "    compteur = compteur+1\n",
    "\n",
    "(matrix, wordbase) = preliminaryWork(df['Description'][:nombre_de_description_test])"
   ]
  },
  {
   "cell_type": "markdown",
   "metadata": {},
   "source": [
    "Affichons la matrice "
   ]
  },
  {
   "cell_type": "code",
   "execution_count": 22,
   "metadata": {},
   "outputs": [
    {
     "data": {
      "text/html": [
       "<div>\n",
       "<style scoped>\n",
       "    .dataframe tbody tr th:only-of-type {\n",
       "        vertical-align: middle;\n",
       "    }\n",
       "\n",
       "    .dataframe tbody tr th {\n",
       "        vertical-align: top;\n",
       "    }\n",
       "\n",
       "    .dataframe thead th {\n",
       "        text-align: right;\n",
       "    }\n",
       "</style>\n",
       "<table border=\"1\" class=\"dataframe\">\n",
       "  <thead>\n",
       "    <tr style=\"text-align: right;\">\n",
       "      <th></th>\n",
       "      <th>bug-typ</th>\n",
       "      <th>introduc</th>\n",
       "      <th>v</th>\n",
       "      <th>dark-typ</th>\n",
       "      <th>grass/ic</th>\n",
       "      <th>iii</th>\n",
       "      <th>pokémon</th>\n",
       "      <th>iv</th>\n",
       "      <th>psychic-typ</th>\n",
       "      <th>dual-typ</th>\n",
       "      <th>gener</th>\n",
       "    </tr>\n",
       "    <tr>\n",
       "      <th>id</th>\n",
       "      <th></th>\n",
       "      <th></th>\n",
       "      <th></th>\n",
       "      <th></th>\n",
       "      <th></th>\n",
       "      <th></th>\n",
       "      <th></th>\n",
       "      <th></th>\n",
       "      <th></th>\n",
       "      <th></th>\n",
       "      <th></th>\n",
       "    </tr>\n",
       "  </thead>\n",
       "  <tbody>\n",
       "    <tr>\n",
       "      <th>abomasnow</th>\n",
       "      <td>0.000000</td>\n",
       "      <td>0.0</td>\n",
       "      <td>0.000000</td>\n",
       "      <td>0.000000</td>\n",
       "      <td>0.960906</td>\n",
       "      <td>0.000000</td>\n",
       "      <td>0.0</td>\n",
       "      <td>0.960906</td>\n",
       "      <td>0.000000</td>\n",
       "      <td>0.960906</td>\n",
       "      <td>0.0</td>\n",
       "    </tr>\n",
       "    <tr>\n",
       "      <th>abra</th>\n",
       "      <td>0.000000</td>\n",
       "      <td>0.0</td>\n",
       "      <td>0.000000</td>\n",
       "      <td>0.000000</td>\n",
       "      <td>0.000000</td>\n",
       "      <td>0.000000</td>\n",
       "      <td>0.0</td>\n",
       "      <td>0.000000</td>\n",
       "      <td>0.960906</td>\n",
       "      <td>0.000000</td>\n",
       "      <td>0.0</td>\n",
       "    </tr>\n",
       "    <tr>\n",
       "      <th>absol</th>\n",
       "      <td>0.000000</td>\n",
       "      <td>0.0</td>\n",
       "      <td>0.000000</td>\n",
       "      <td>0.960906</td>\n",
       "      <td>0.000000</td>\n",
       "      <td>0.960906</td>\n",
       "      <td>0.0</td>\n",
       "      <td>0.000000</td>\n",
       "      <td>0.000000</td>\n",
       "      <td>0.000000</td>\n",
       "      <td>0.0</td>\n",
       "    </tr>\n",
       "    <tr>\n",
       "      <th>accelgor</th>\n",
       "      <td>0.960906</td>\n",
       "      <td>0.0</td>\n",
       "      <td>0.960906</td>\n",
       "      <td>0.000000</td>\n",
       "      <td>0.000000</td>\n",
       "      <td>0.000000</td>\n",
       "      <td>0.0</td>\n",
       "      <td>0.000000</td>\n",
       "      <td>0.000000</td>\n",
       "      <td>0.000000</td>\n",
       "      <td>0.0</td>\n",
       "    </tr>\n",
       "  </tbody>\n",
       "</table>\n",
       "</div>"
      ],
      "text/plain": [
       "            bug-typ  introduc         v  dark-typ  grass/ic       iii  \\\n",
       "id                                                                      \n",
       "abomasnow  0.000000       0.0  0.000000  0.000000  0.960906  0.000000   \n",
       "abra       0.000000       0.0  0.000000  0.000000  0.000000  0.000000   \n",
       "absol      0.000000       0.0  0.000000  0.960906  0.000000  0.960906   \n",
       "accelgor   0.960906       0.0  0.960906  0.000000  0.000000  0.000000   \n",
       "\n",
       "           pokémon        iv  psychic-typ  dual-typ  gener  \n",
       "id                                                          \n",
       "abomasnow      0.0  0.960906     0.000000  0.960906    0.0  \n",
       "abra           0.0  0.000000     0.960906  0.000000    0.0  \n",
       "absol          0.0  0.000000     0.000000  0.000000    0.0  \n",
       "accelgor       0.0  0.000000     0.000000  0.000000    0.0  "
      ]
     },
     "execution_count": 22,
     "metadata": {},
     "output_type": "execute_result"
    }
   ],
   "source": [
    "df2 = pd.DataFrame(np.array(matrix),columns=wordbase,index=df['id'][:nombre_de_description_test])\n",
    "\n",
    "nombre_de_description_test= 4\n",
    "compteur = 0\n",
    "\n",
    "df2"
   ]
  },
  {
   "cell_type": "markdown",
   "metadata": {},
   "source": [
    "Le mot \"men\" apparait 1 fois dans la description 1, 2 et 3. Il obtient alors un score de 0.199. Ce qui signifie que ce mot n'est pas très important qui il se retrouve dans plusieurs description (valeur proche de zéro). \n",
    "\n",
    "Si on prend le mot \"silver\" qui ne se trouve que dans la description 3, il obtient un score de 0.960906 (proche de 1), ce qui permet de souligner l'importance de se mot d'une part dans la description, mais également par rapport aux autres descriptions."
   ]
  },
  {
   "cell_type": "markdown",
   "metadata": {},
   "source": [
    "## B. Traitement d'une recherche\n",
    "\n",
    "Une fois que la matrice représentatrice du corpus a été construite, on va vouloir traiter les requêtes de l'utilisateur. Pour cela, on va procéder en deux temps :\n",
    "- vectoriser la requête, comme on a vectorisé les descriptions du corpus\n",
    "- identifier la description la plus proche de la requête en calculant la similarité entre la requête et chaque description"
   ]
  },
  {
   "cell_type": "markdown",
   "metadata": {},
   "source": [
    "### a. Vectorisation de la requête\n",
    "\n",
    "On cherche à mettre la requête sous la forme d'un vecteur. Afin que les vecteurs de la requête et des desscriptions soient comparables et que les calculs aient un sens, il faut **appliquer à la requête le même traitement qu'on a appliqué aux descrptions**. Ainsi, on s'assure que les coordonnées de la requêtes portent bien sur les bons tokens.\n",
    "\n",
    "Pour les coordonnées du vecteur, on va simplement associer à chaque token sa fréquence dans la requête.\n",
    "\n",
    "Pour cela, on réutilise les fonctions \"split\" et \"count\" utilisées pour le traitement du corpus, afin de définir la fonction \"vectorisation\" suivante :"
   ]
  },
  {
   "cell_type": "markdown",
   "metadata": {},
   "source": [
    "### Dans notre cas, l'utiliseur possède les données suivantes:"
   ]
  },
  {
   "cell_type": "code",
   "execution_count": 23,
   "metadata": {},
   "outputs": [
    {
     "name": "stdout",
     "output_type": "stream",
     "text": [
      "data: {'users': [{'name': 'yamine', 'name_photo_liked': ['abra', 'arbok', 'cacturne', 'boldore']}, {'name': 'morgane', 'name_photo_liked': ['clefable', 'combee', 'corsola', 'dragonair']}, {'name': 'emre', 'name_photo_liked': ['crustle', 'duskull']}, {'name': 'abou', 'name_photo_liked': ['corsola', 'beldum', 'archen']}]}\n"
     ]
    }
   ],
   "source": [
    "#Chargement de nos utilisateurs\n",
    "import json\n",
    "\n",
    "with open('user_demo.json') as json_file:\n",
    "    data = json.load(json_file)\n",
    "\n",
    "print(f\"data: {data}\")"
   ]
  },
  {
   "attachments": {},
   "cell_type": "markdown",
   "metadata": {},
   "source": [
    "Par exemple l'utilisateur Yamine a liké les photos suivantes:"
   ]
  },
  {
   "cell_type": "code",
   "execution_count": 24,
   "metadata": {},
   "outputs": [
    {
     "name": "stdout",
     "output_type": "stream",
     "text": [
      "Pokemons liked by Yamine: ['abra', 'arbok', 'cacturne', 'boldore']\n",
      "\n",
      "Image Name: abra\n"
     ]
    },
    {
     "data": {
      "image/png": "[encoded data removed]",
      "text/plain": [
       "<Figure size 640x480 with 1 Axes>"
      ]
     },
     "metadata": {},
     "output_type": "display_data"
    },
    {
     "name": "stdout",
     "output_type": "stream",
     "text": [
      "\n",
      "Image Name: arbok\n"
     ]
    },
    {
     "data": {
      "image/png": "[encoded data removed]",
      "text/plain": [
       "<Figure size 640x480 with 1 Axes>"
      ]
     },
     "metadata": {},
     "output_type": "display_data"
    },
    {
     "name": "stdout",
     "output_type": "stream",
     "text": [
      "\n",
      "Image Name: cacturne\n"
     ]
    },
    {
     "data": {
      "image/png": "[encoded data removed]",
      "text/plain": [
       "<Figure size 640x480 with 1 Axes>"
      ]
     },
     "metadata": {},
     "output_type": "display_data"
    },
    {
     "name": "stdout",
     "output_type": "stream",
     "text": [
      "\n",
      "Image Name: boldore\n"
     ]
    },
    {
     "data": {
      "image/png": "[encoded data removed]",
      "text/plain": [
       "<Figure size 640x480 with 1 Axes>"
      ]
     },
     "metadata": {},
     "output_type": "display_data"
    }
   ],
   "source": [
    "def find_user(user_list: list, name: str):\n",
    "    \"\"\"Find user by his name\"\"\"\n",
    "    for i, user in enumerate(user_list):\n",
    "        if user.get('name') == name:\n",
    "            return user, i\n",
    "    raise ValueError(f\"User with name {name} not found in user list\")\n",
    "\n",
    "try:\n",
    "    user_profile, position_in_list = find_user(data['users'], \"yamine\")\n",
    "except ValueError as e:\n",
    "    print(e)\n",
    "else:\n",
    "    photo_liked_by_yamine = user_profile.get('name_photo_liked')\n",
    "    print(f\"Pokemons liked by Yamine: {photo_liked_by_yamine}\")\n",
    "\n",
    "    for image in photo_liked_by_yamine:\n",
    "        img = mpimg.imread(f\"./dataset/images/{image}.png\")\n",
    "        imgplot = plt.imshow(img)\n",
    "        print(f\"\\nImage Name: {image}\")\n",
    "        plt.show()"
   ]
  },
  {
   "cell_type": "markdown",
   "metadata": {},
   "source": [
    "Nous allons récupérer les descriptions liées à ces photos"
   ]
  },
  {
   "cell_type": "code",
   "execution_count": 25,
   "metadata": {},
   "outputs": [
    {
     "data": {
      "text/html": [
       "<div>\n",
       "<style scoped>\n",
       "    .dataframe tbody tr th:only-of-type {\n",
       "        vertical-align: middle;\n",
       "    }\n",
       "\n",
       "    .dataframe tbody tr th {\n",
       "        vertical-align: top;\n",
       "    }\n",
       "\n",
       "    .dataframe thead th {\n",
       "        text-align: right;\n",
       "    }\n",
       "</style>\n",
       "<table border=\"1\" class=\"dataframe\">\n",
       "  <thead>\n",
       "    <tr style=\"text-align: right;\">\n",
       "      <th></th>\n",
       "      <th>id</th>\n",
       "      <th>Description</th>\n",
       "    </tr>\n",
       "  </thead>\n",
       "  <tbody>\n",
       "    <tr>\n",
       "      <th>1</th>\n",
       "      <td>abra</td>\n",
       "      <td>is a Psychic-type Pokémon introduced in Genera...</td>\n",
       "    </tr>\n",
       "    <tr>\n",
       "      <th>17</th>\n",
       "      <td>arbok</td>\n",
       "      <td>is a Poison-type Pokémon introduced in Generat...</td>\n",
       "    </tr>\n",
       "    <tr>\n",
       "      <th>61</th>\n",
       "      <td>boldore</td>\n",
       "      <td>is a Rock-type Pokémon introduced in Generatio...</td>\n",
       "    </tr>\n",
       "    <tr>\n",
       "      <th>81</th>\n",
       "      <td>cacturne</td>\n",
       "      <td>is a dual-type Grass/Dark Pokémon introduced i...</td>\n",
       "    </tr>\n",
       "  </tbody>\n",
       "</table>\n",
       "</div>"
      ],
      "text/plain": [
       "          id                                        Description\n",
       "1       abra  is a Psychic-type Pokémon introduced in Genera...\n",
       "17     arbok  is a Poison-type Pokémon introduced in Generat...\n",
       "61   boldore  is a Rock-type Pokémon introduced in Generatio...\n",
       "81  cacturne  is a dual-type Grass/Dark Pokémon introduced i..."
      ]
     },
     "execution_count": 25,
     "metadata": {},
     "output_type": "execute_result"
    }
   ],
   "source": [
    "keep_df = df.loc[df['id'].isin(photo_liked_by_yamine)]\n",
    "keep_df"
   ]
  },
  {
   "cell_type": "markdown",
   "metadata": {},
   "source": [
    "Nous allons nous servir de ces dernières comme requêtes pour les photos que nous allons lui recommander\n",
    "Tentons de lui recommander 4 photos liés à la dernière images"
   ]
  },
  {
   "cell_type": "code",
   "execution_count": 26,
   "metadata": {},
   "outputs": [
    {
     "name": "stdout",
     "output_type": "stream",
     "text": [
      "description_test: is a dual-type Grass/Dark Pokémon introduced in Generation III.\n"
     ]
    }
   ],
   "source": [
    "# Récupération de la descriptions de la dernière image\n",
    "# On obtient alors: \n",
    "description_test = keep_df['Description'].values[int(len(keep_df))-1]\n",
    "print(f\"description_test: {description_test}\")"
   ]
  },
  {
   "cell_type": "code",
   "execution_count": 27,
   "metadata": {},
   "outputs": [],
   "source": [
    "def vectorisation(text, wordbase):\n",
    "    \"\"\" Fonction qui prend en paramètre un texte sous la forme d'une chaine de \n",
    "    caractère, et la liste des mots du corpus et qui renvoie le vecteur \n",
    "    représentant le texte dans la base du corpus.\"\"\"\n",
    "    \n",
    "    return count(split(text), wordbase)"
   ]
  },
  {
   "cell_type": "markdown",
   "metadata": {},
   "source": [
    "### b. Calcul de similarité\n",
    "\n",
    "On va calculer pour chaque description un score correspondant à sa proximité à la requête. \n",
    "\n",
    "Pour cela on calcule pour chaque vecteur de texte du corpus (donc ligne de la matrice) sa similarité avec le vecteur de la requête.\n",
    "\n",
    "On utilise ici la similarité cosinus qui se calcule de la manière suivante :<br>\n",
    "Sim(t) = <R, T> / ( ||R|| * ||T|| )<br>\n",
    "Où T est le vecteur du texte t (= la ligne M[t]), R le vecteur de la requête,  < , > un produit scalaire et || || la norme associée.\n",
    "\n",
    "On va donc calculer la liste de ces valeurs pour chaque test, puis sélectionner les meilleurs résultats (le nombre de résultat choisi étant arbitraire). On définit donc les fonctions suivantes :"
   ]
  },
  {
   "cell_type": "markdown",
   "metadata": {},
   "source": [
    "Nous allons lui recommander 3 images par rapport à l'image précédentes"
   ]
  },
  {
   "cell_type": "code",
   "execution_count": 28,
   "metadata": {},
   "outputs": [],
   "source": [
    "import math\n",
    "nbTop =  3\n",
    "\n",
    "def scal(v1, v2):\n",
    "    \"\"\" Fonction qui calcule le produit scalaire entre deux vecteurs de même taille et la renvoie.\"\"\"\n",
    "    scal = 0\n",
    "    for i in range(len(v1)):\n",
    "        scal += v1[i] * v2[i]\n",
    "    return (scal)\n",
    "  \n",
    "    \n",
    "def norm(v):\n",
    "    \"\"\" Fonction qui calcule la norme 2 d'un vecteur et la renvoie.\"\"\"\n",
    "    n = math.sqrt(scal(v, v))\n",
    "    if (n == 0):\n",
    "        n = 1\n",
    "    return (n)\n",
    "\n",
    "\n",
    "def iMax(similarity):\n",
    "    \"\"\" Fonction qui renvoie l'indice du maximum de la liste passée en paramètre \"\"\"\n",
    "    imax = 0\n",
    "    for i in range(1,len(similarity)):\n",
    "        if (similarity[i] > similarity[imax]):\n",
    "            imax = i\n",
    "    return (imax)\n",
    "\n",
    "\n",
    "def top(similarity, nbTop):\n",
    "    \"\"\" Fonction qui renvoie la liste des indices des nbTop éléments \n",
    "    les plus grands de la liste passée en paramètre (similarity), \n",
    "    dans l'ordre décroissant. \"\"\"\n",
    "    order = []\n",
    "    cptTop = 0\n",
    "    imax = iMax(similarity)\n",
    "    while (similarity[imax] >= 0 and cptTop < nbTop):\n",
    "        order.append(imax)\n",
    "        # On met à -1 l'élément dont on vient de prendre l'indice pour ne plus le prendre en compte\n",
    "        similarity[imax] = -1\n",
    "        cptTop += 1\n",
    "        imax = iMax(similarity)\n",
    "    return (order)\n",
    "\n",
    "\n",
    "def research(request, matrix, wordbase):\n",
    "    \"\"\" Fonction qui prend en paramètre une requête sous la forme d'une\n",
    "    chaîne de caractère, la matrice représentatrice du corpus et la liste\n",
    "    des tokens, et qui renvoie la liste des indices des descriptions dans le\n",
    "    corpus correspondant le plus à la requête. \"\"\"\n",
    "    # Vectorisation de la requête\n",
    "    vector = vectorisation(request, wordbase)\n",
    "    # Calcul de la liste des score de similarité pour chaque vecteur de la matrice\n",
    "    similarity = []\n",
    "    for v2 in matrix:\n",
    "        similarity.append(scal(vector, v2) / (norm(vector) * norm(v2)))\n",
    "    # On renvoie les meilleurs résultats\n",
    "    return (top(similarity, nbTop))\n",
    "\n",
    "\n",
    "def printResearch(order, corpus):\n",
    "    \"\"\" Fonction qui à partir des résultats d'une requête (liste d'indices) et \n",
    "    du corpus utilisé affiche les textes dans la console, le plus représentatif\n",
    "    en premier\"\"\"\n",
    "    print(\"*\\t*\\t*\\t*\\t*\\t*\\t*\\t*\")\n",
    "    print(\"*\\t*\\tRésultats de la recherche\\t*\\t*\")\n",
    "    print(\"*\\t*\\t*\\t*\\t*\\t*\\t*\\t*\\n\\n\")\n",
    "    for i in range(len(order)):\n",
    "        print(\"*\\t*\\t*\\t*\\t*\\t*\\t*\\t*\")\n",
    "        print(\"*\\t*\\tNuméro \" + str(i + 1) + \" - Images \" + str(order[i]) + \"\\t*\\t*\\t*\")\n",
    "        print(\"*\\t*\\t*\\t*\\t*\\t*\\t*\\t*\\n\\n\")\n",
    "        print(corpus[order[i]])\n",
    "        printImage(str(order[i]))\n",
    "\n",
    "    \n",
    "def printImage(rows: str):\n",
    "    \"\"\"Affiche l'image correspondante à ligne trouvée\"\"\"\n",
    "    current_id = df.iloc[int(rows)][\"id\"]\n",
    "    print(f\"current_id: {current_id}\")\n",
    "    img = mpimg.imread(f\"dataset/images/{current_id}.png\")\n",
    "    imgplot = plt.imshow(img)\n",
    "    plt.show()"
   ]
  },
  {
   "cell_type": "markdown",
   "metadata": {},
   "source": [
    "## 2. Exécution de l'application"
   ]
  },
  {
   "cell_type": "markdown",
   "metadata": {},
   "source": [
    "Ouverture des données"
   ]
  },
  {
   "cell_type": "code",
   "execution_count": 29,
   "metadata": {},
   "outputs": [
    {
     "name": "stderr",
     "output_type": "stream",
     "text": [
      "/tmp/ipykernel_8952/2042103732.py:4: FutureWarning: The error_bad_lines argument has been deprecated and will be removed in a future version. Use on_bad_lines in the future.\n",
      "\n",
      "\n",
      "  df = pd.read_csv(r'dataset/pokemon.csv', sep=',', error_bad_lines=False, warn_bad_lines=False)\n",
      "/tmp/ipykernel_8952/2042103732.py:4: FutureWarning: The warn_bad_lines argument has been deprecated and will be removed in a future version. Use on_bad_lines in the future.\n",
      "\n",
      "\n",
      "  df = pd.read_csv(r'dataset/pokemon.csv', sep=',', error_bad_lines=False, warn_bad_lines=False)\n"
     ]
    },
    {
     "data": {
      "text/html": [
       "<div>\n",
       "<style scoped>\n",
       "    .dataframe tbody tr th:only-of-type {\n",
       "        vertical-align: middle;\n",
       "    }\n",
       "\n",
       "    .dataframe tbody tr th {\n",
       "        vertical-align: top;\n",
       "    }\n",
       "\n",
       "    .dataframe thead th {\n",
       "        text-align: right;\n",
       "    }\n",
       "</style>\n",
       "<table border=\"1\" class=\"dataframe\">\n",
       "  <thead>\n",
       "    <tr style=\"text-align: right;\">\n",
       "      <th></th>\n",
       "      <th>id</th>\n",
       "      <th>Description</th>\n",
       "    </tr>\n",
       "  </thead>\n",
       "  <tbody>\n",
       "    <tr>\n",
       "      <th>0</th>\n",
       "      <td>abomasnow</td>\n",
       "      <td>is a dual-type Grass/Ice Pokémon introduced in...</td>\n",
       "    </tr>\n",
       "    <tr>\n",
       "      <th>1</th>\n",
       "      <td>abra</td>\n",
       "      <td>is a Psychic-type Pokémon introduced in Genera...</td>\n",
       "    </tr>\n",
       "    <tr>\n",
       "      <th>2</th>\n",
       "      <td>absol</td>\n",
       "      <td>is a Dark-type Pokémon introduced in Generatio...</td>\n",
       "    </tr>\n",
       "    <tr>\n",
       "      <th>3</th>\n",
       "      <td>accelgor</td>\n",
       "      <td>is a Bug-type Pokémon introduced in Generation V.</td>\n",
       "    </tr>\n",
       "    <tr>\n",
       "      <th>4</th>\n",
       "      <td>aegislash-blade</td>\n",
       "      <td>is a dual-type Steel/Ghost Pokémon introduced ...</td>\n",
       "    </tr>\n",
       "    <tr>\n",
       "      <th>...</th>\n",
       "      <td>...</td>\n",
       "      <td>...</td>\n",
       "    </tr>\n",
       "    <tr>\n",
       "      <th>93</th>\n",
       "      <td>chansey</td>\n",
       "      <td>Chansey is a Normal-type Pokémon introduced in...</td>\n",
       "    </tr>\n",
       "    <tr>\n",
       "      <th>94</th>\n",
       "      <td>charizard</td>\n",
       "      <td>Charizard is a dual-type Fire/Flying Pokémon i...</td>\n",
       "    </tr>\n",
       "    <tr>\n",
       "      <th>95</th>\n",
       "      <td>charmander</td>\n",
       "      <td>Charmander is a Fire-type Pokémon introduced i...</td>\n",
       "    </tr>\n",
       "    <tr>\n",
       "      <th>96</th>\n",
       "      <td>charmeleon</td>\n",
       "      <td>Charmeleon is a Fire-type Pokémon introduced i...</td>\n",
       "    </tr>\n",
       "    <tr>\n",
       "      <th>97</th>\n",
       "      <td>chatot</td>\n",
       "      <td>Chatot is a dual-type Normal/Flying Pokémon in...</td>\n",
       "    </tr>\n",
       "  </tbody>\n",
       "</table>\n",
       "<p>98 rows × 2 columns</p>\n",
       "</div>"
      ],
      "text/plain": [
       "                 id                                        Description\n",
       "0         abomasnow  is a dual-type Grass/Ice Pokémon introduced in...\n",
       "1              abra  is a Psychic-type Pokémon introduced in Genera...\n",
       "2             absol  is a Dark-type Pokémon introduced in Generatio...\n",
       "3          accelgor  is a Bug-type Pokémon introduced in Generation V.\n",
       "4   aegislash-blade  is a dual-type Steel/Ghost Pokémon introduced ...\n",
       "..              ...                                                ...\n",
       "93          chansey  Chansey is a Normal-type Pokémon introduced in...\n",
       "94        charizard  Charizard is a dual-type Fire/Flying Pokémon i...\n",
       "95       charmander  Charmander is a Fire-type Pokémon introduced i...\n",
       "96       charmeleon  Charmeleon is a Fire-type Pokémon introduced i...\n",
       "97           chatot  Chatot is a dual-type Normal/Flying Pokémon in...\n",
       "\n",
       "[98 rows x 2 columns]"
      ]
     },
     "execution_count": 29,
     "metadata": {},
     "output_type": "execute_result"
    }
   ],
   "source": [
    "# Ouverture du dataset\n",
    "\n",
    "# Récupération entête csv\n",
    "df = pd.read_csv(r'dataset/pokemon.csv', sep=',', error_bad_lines=False, warn_bad_lines=False)\n",
    "df.sort_values('id', ascending = True )\n",
    "# Suppresion des colonnes inutiles\n",
    "df = df.drop(['Type1', 'Type2'], axis=1)\n",
    "df"
   ]
  },
  {
   "attachments": {},
   "cell_type": "markdown",
   "metadata": {},
   "source": [
    "Rappelons les photos likées par l'utilisateur appelé \"yamine\""
   ]
  },
  {
   "cell_type": "code",
   "execution_count": 30,
   "metadata": {},
   "outputs": [
    {
     "name": "stdout",
     "output_type": "stream",
     "text": [
      "Pokemons liked by Yamine: ['abra', 'arbok', 'cacturne', 'boldore']\n",
      "\n",
      "Nom de l'image: abra\n"
     ]
    },
    {
     "data": {
      "image/png": "[encoded data removed]",
      "text/plain": [
       "<Figure size 640x480 with 1 Axes>"
      ]
     },
     "metadata": {},
     "output_type": "display_data"
    },
    {
     "name": "stdout",
     "output_type": "stream",
     "text": [
      "\n",
      "Nom de l'image: arbok\n"
     ]
    },
    {
     "data": {
      "image/png": "[encoded data removed]",
      "text/plain": [
       "<Figure size 640x480 with 1 Axes>"
      ]
     },
     "metadata": {},
     "output_type": "display_data"
    },
    {
     "name": "stdout",
     "output_type": "stream",
     "text": [
      "\n",
      "Nom de l'image: cacturne\n"
     ]
    },
    {
     "data": {
      "image/png": "[encoded data removed]",
      "text/plain": [
       "<Figure size 640x480 with 1 Axes>"
      ]
     },
     "metadata": {},
     "output_type": "display_data"
    },
    {
     "name": "stdout",
     "output_type": "stream",
     "text": [
      "\n",
      "Nom de l'image: boldore\n"
     ]
    },
    {
     "data": {
      "image/png": "[encoded data removed]",
      "text/plain": [
       "<Figure size 640x480 with 1 Axes>"
      ]
     },
     "metadata": {},
     "output_type": "display_data"
    }
   ],
   "source": [
    "def find_user(user_list: list, name: str):\n",
    "    \"\"\"Find user by his name\"\"\"\n",
    "    for i, user in enumerate(user_list):\n",
    "        if user.get('name') == name:\n",
    "            return user, i\n",
    "    raise ValueError(f\"User with name {name} not found in user list\")\n",
    "\n",
    "try:\n",
    "    user_profile, position_in_list = find_user(data['users'], \"yamine\")\n",
    "except ValueError as e:\n",
    "    print(e)\n",
    "else:\n",
    "    photo_liked_by_yamine = user_profile.get('name_photo_liked')\n",
    "    print(f\"Pokemons liked by Yamine: {photo_liked_by_yamine}\")\n",
    "\n",
    "    for image in photo_liked_by_yamine:\n",
    "        img = mpimg.imread(f\"./dataset/images/{image}.png\")\n",
    "        imgplot = plt.imshow(img)\n",
    "        print(f\"\\nNom de l'image: {image}\")\n",
    "        plt.show()\n"
   ]
  },
  {
   "cell_type": "code",
   "execution_count": 31,
   "metadata": {},
   "outputs": [
    {
     "name": "stdout",
     "output_type": "stream",
     "text": [
      "row yamine liked:           id                                        Description\n",
      "1       abra  is a Psychic-type Pokémon introduced in Genera...\n",
      "17     arbok  is a Poison-type Pokémon introduced in Generat...\n",
      "61   boldore  is a Rock-type Pokémon introduced in Generatio...\n",
      "81  cacturne  is a dual-type Grass/Dark Pokémon introduced i...\n",
      "\n",
      "df with rows deletes:                  id                                        Description\n",
      "0         abomasnow  is a dual-type Grass/Ice Pokémon introduced in...\n",
      "2             absol  is a Dark-type Pokémon introduced in Generatio...\n",
      "3          accelgor  is a Bug-type Pokémon introduced in Generation V.\n",
      "4   aegislash-blade  is a dual-type Steel/Ghost Pokémon introduced ...\n",
      "5        aerodactyl  is a dual-type Rock/Flying Pokémon introduced ...\n",
      "..              ...                                                ...\n",
      "93          chansey  Chansey is a Normal-type Pokémon introduced in...\n",
      "94        charizard  Charizard is a dual-type Fire/Flying Pokémon i...\n",
      "95       charmander  Charmander is a Fire-type Pokémon introduced i...\n",
      "96       charmeleon  Charmeleon is a Fire-type Pokémon introduced i...\n",
      "97           chatot  Chatot is a dual-type Normal/Flying Pokémon in...\n",
      "\n",
      "[94 rows x 2 columns]\n"
     ]
    }
   ],
   "source": [
    "# Récupération des lignes concernées\n",
    "keep_df = df.loc[df['id'].isin(photo_liked_by_yamine)]\n",
    "print(f\"row yamine liked: {keep_df}\\n\")\n",
    "\n",
    "# Suppression des lignes dans le dataset\n",
    "for id_photo in photo_liked_by_yamine:\n",
    "    indexNames = df[df['id'] == id_photo].index\n",
    "    # Delete these row indexes from dataFrame\n",
    "    df.drop(indexNames , inplace=True)\n",
    "    \n",
    "print(f\"df with rows deletes: {df}\")"
   ]
  },
  {
   "cell_type": "code",
   "execution_count": 32,
   "metadata": {},
   "outputs": [
    {
     "data": {
      "text/plain": [
       "11"
      ]
     },
     "execution_count": 32,
     "metadata": {},
     "output_type": "execute_result"
    }
   ],
   "source": [
    "# Nombre de ligne à conserver\n",
    "line_number = len(df)//8\n",
    "line_number"
   ]
  },
  {
   "cell_type": "code",
   "execution_count": 45,
   "metadata": {},
   "outputs": [
    {
     "ename": "KeyError",
     "evalue": "1",
     "output_type": "error",
     "traceback": [
      "\u001b[0;31m---------------------------------------------------------------------------\u001b[0m",
      "\u001b[0;31mKeyError\u001b[0m                                  Traceback (most recent call last)",
      "File \u001b[0;32m~/.local/lib/python3.10/site-packages/pandas/core/indexes/base.py:3802\u001b[0m, in \u001b[0;36mIndex.get_loc\u001b[0;34m(self, key, method, tolerance)\u001b[0m\n\u001b[1;32m   3801\u001b[0m \u001b[39mtry\u001b[39;00m:\n\u001b[0;32m-> 3802\u001b[0m     \u001b[39mreturn\u001b[39;00m \u001b[39mself\u001b[39;49m\u001b[39m.\u001b[39;49m_engine\u001b[39m.\u001b[39;49mget_loc(casted_key)\n\u001b[1;32m   3803\u001b[0m \u001b[39mexcept\u001b[39;00m \u001b[39mKeyError\u001b[39;00m \u001b[39mas\u001b[39;00m err:\n",
      "File \u001b[0;32m~/.local/lib/python3.10/site-packages/pandas/_libs/index.pyx:138\u001b[0m, in \u001b[0;36mpandas._libs.index.IndexEngine.get_loc\u001b[0;34m()\u001b[0m\n",
      "File \u001b[0;32m~/.local/lib/python3.10/site-packages/pandas/_libs/index.pyx:165\u001b[0m, in \u001b[0;36mpandas._libs.index.IndexEngine.get_loc\u001b[0;34m()\u001b[0m\n",
      "File \u001b[0;32mpandas/_libs/hashtable_class_helper.pxi:2263\u001b[0m, in \u001b[0;36mpandas._libs.hashtable.Int64HashTable.get_item\u001b[0;34m()\u001b[0m\n",
      "File \u001b[0;32mpandas/_libs/hashtable_class_helper.pxi:2273\u001b[0m, in \u001b[0;36mpandas._libs.hashtable.Int64HashTable.get_item\u001b[0;34m()\u001b[0m\n",
      "\u001b[0;31mKeyError\u001b[0m: 1",
      "\nThe above exception was the direct cause of the following exception:\n",
      "\u001b[0;31mKeyError\u001b[0m                                  Traceback (most recent call last)",
      "Cell \u001b[0;32mIn[45], line 2\u001b[0m\n\u001b[1;32m      1\u001b[0m \u001b[39m# Construction de la matrice\u001b[39;00m\n\u001b[0;32m----> 2\u001b[0m (matrix, wordbase) \u001b[39m=\u001b[39m preliminaryWork(df[\u001b[39m'\u001b[39;49m\u001b[39mDescription\u001b[39;49m\u001b[39m'\u001b[39;49m][:line_number])\n\u001b[1;32m      4\u001b[0m \u001b[39m# observation des données\u001b[39;00m\n\u001b[1;32m      5\u001b[0m result \u001b[39m=\u001b[39m pd\u001b[39m.\u001b[39mDataFrame(np\u001b[39m.\u001b[39marray(matrix),columns\u001b[39m=\u001b[39mwordbase,index\u001b[39m=\u001b[39mdf[\u001b[39m'\u001b[39m\u001b[39mid\u001b[39m\u001b[39m'\u001b[39m][:line_number])\n",
      "Cell \u001b[0;32mIn[44], line 67\u001b[0m, in \u001b[0;36mpreliminaryWork\u001b[0;34m(corpus)\u001b[0m\n\u001b[1;32m     65\u001b[0m corpus_words \u001b[39m=\u001b[39m []\n\u001b[1;32m     66\u001b[0m \u001b[39mfor\u001b[39;00m i \u001b[39min\u001b[39;00m \u001b[39mrange\u001b[39m(\u001b[39mlen\u001b[39m(corpus)):\n\u001b[0;32m---> 67\u001b[0m     corpus_words\u001b[39m.\u001b[39mappend(split(corpus[i]))\n\u001b[1;32m     69\u001b[0m \u001b[39m# Construction de la liste des mots du corpus (intersection des mots des \u001b[39;00m\n\u001b[1;32m     70\u001b[0m \u001b[39m# textes). Wordset est un objet de type set, intéressant car il permet de \u001b[39;00m\n\u001b[1;32m     71\u001b[0m \u001b[39m# faire l'intersection seul, mais pas ordonné. On construit donc wordbase\u001b[39;00m\n\u001b[1;32m     72\u001b[0m \u001b[39m# à partir des mots de wordset pour pouvoir associer 1 mot à 1 coordonnée.\u001b[39;00m\n\u001b[1;32m     73\u001b[0m wordset \u001b[39m=\u001b[39m \u001b[39mset\u001b[39m()\n",
      "File \u001b[0;32m~/.local/lib/python3.10/site-packages/pandas/core/series.py:981\u001b[0m, in \u001b[0;36mSeries.__getitem__\u001b[0;34m(self, key)\u001b[0m\n\u001b[1;32m    978\u001b[0m     \u001b[39mreturn\u001b[39;00m \u001b[39mself\u001b[39m\u001b[39m.\u001b[39m_values[key]\n\u001b[1;32m    980\u001b[0m \u001b[39melif\u001b[39;00m key_is_scalar:\n\u001b[0;32m--> 981\u001b[0m     \u001b[39mreturn\u001b[39;00m \u001b[39mself\u001b[39;49m\u001b[39m.\u001b[39;49m_get_value(key)\n\u001b[1;32m    983\u001b[0m \u001b[39mif\u001b[39;00m is_hashable(key):\n\u001b[1;32m    984\u001b[0m     \u001b[39m# Otherwise index.get_value will raise InvalidIndexError\u001b[39;00m\n\u001b[1;32m    985\u001b[0m     \u001b[39mtry\u001b[39;00m:\n\u001b[1;32m    986\u001b[0m         \u001b[39m# For labels that don't resolve as scalars like tuples and frozensets\u001b[39;00m\n",
      "File \u001b[0;32m~/.local/lib/python3.10/site-packages/pandas/core/series.py:1089\u001b[0m, in \u001b[0;36mSeries._get_value\u001b[0;34m(self, label, takeable)\u001b[0m\n\u001b[1;32m   1086\u001b[0m     \u001b[39mreturn\u001b[39;00m \u001b[39mself\u001b[39m\u001b[39m.\u001b[39m_values[label]\n\u001b[1;32m   1088\u001b[0m \u001b[39m# Similar to Index.get_value, but we do not fall back to positional\u001b[39;00m\n\u001b[0;32m-> 1089\u001b[0m loc \u001b[39m=\u001b[39m \u001b[39mself\u001b[39;49m\u001b[39m.\u001b[39;49mindex\u001b[39m.\u001b[39;49mget_loc(label)\n\u001b[1;32m   1090\u001b[0m \u001b[39mreturn\u001b[39;00m \u001b[39mself\u001b[39m\u001b[39m.\u001b[39mindex\u001b[39m.\u001b[39m_get_values_for_loc(\u001b[39mself\u001b[39m, loc, label)\n",
      "File \u001b[0;32m~/.local/lib/python3.10/site-packages/pandas/core/indexes/base.py:3804\u001b[0m, in \u001b[0;36mIndex.get_loc\u001b[0;34m(self, key, method, tolerance)\u001b[0m\n\u001b[1;32m   3802\u001b[0m     \u001b[39mreturn\u001b[39;00m \u001b[39mself\u001b[39m\u001b[39m.\u001b[39m_engine\u001b[39m.\u001b[39mget_loc(casted_key)\n\u001b[1;32m   3803\u001b[0m \u001b[39mexcept\u001b[39;00m \u001b[39mKeyError\u001b[39;00m \u001b[39mas\u001b[39;00m err:\n\u001b[0;32m-> 3804\u001b[0m     \u001b[39mraise\u001b[39;00m \u001b[39mKeyError\u001b[39;00m(key) \u001b[39mfrom\u001b[39;00m \u001b[39merr\u001b[39;00m\n\u001b[1;32m   3805\u001b[0m \u001b[39mexcept\u001b[39;00m \u001b[39mTypeError\u001b[39;00m:\n\u001b[1;32m   3806\u001b[0m     \u001b[39m# If we have a listlike key, _check_indexing_error will raise\u001b[39;00m\n\u001b[1;32m   3807\u001b[0m     \u001b[39m#  InvalidIndexError. Otherwise we fall through and re-raise\u001b[39;00m\n\u001b[1;32m   3808\u001b[0m     \u001b[39m#  the TypeError.\u001b[39;00m\n\u001b[1;32m   3809\u001b[0m     \u001b[39mself\u001b[39m\u001b[39m.\u001b[39m_check_indexing_error(key)\n",
      "\u001b[0;31mKeyError\u001b[0m: 1"
     ]
    }
   ],
   "source": [
    "# Construction de la matrice\n",
    "(matrix, wordbase) = preliminaryWork(df['Description'][:line_number])\n",
    "\n",
    "# observation des données\n",
    "result = pd.DataFrame(np.array(matrix),columns=wordbase,index=df['id'][:line_number])\n",
    "result"
   ]
  },
  {
   "cell_type": "markdown",
   "metadata": {},
   "source": [
    "Créons la liste des images à recommander"
   ]
  },
  {
   "cell_type": "code",
   "execution_count": 38,
   "metadata": {},
   "outputs": [
    {
     "name": "stdout",
     "output_type": "stream",
     "text": [
      "row yamine liked:           id                                        Description\n",
      "1       abra  is a Psychic-type Pokémon introduced in Genera...\n",
      "17     arbok  is a Poison-type Pokémon introduced in Generat...\n",
      "61   boldore  is a Rock-type Pokémon introduced in Generatio...\n",
      "81  cacturne  is a dual-type Grass/Dark Pokémon introduced i...\n",
      "\n",
      "\n",
      " Recommandation pour\n"
     ]
    },
    {
     "data": {
      "image/png": "[encoded data removed]",
      "text/plain": [
       "<Figure size 640x480 with 1 Axes>"
      ]
     },
     "metadata": {},
     "output_type": "display_data"
    },
    {
     "name": "stdout",
     "output_type": "stream",
     "text": [
      "order: [1, 0, 2]\n",
      "*\t*\t*\t*\t*\t*\t*\t*\n",
      "*\t*\tRésultats de la recherche\t*\t*\n",
      "*\t*\t*\t*\t*\t*\t*\t*\n",
      "\n",
      "\n",
      "*\t*\t*\t*\t*\t*\t*\t*\n",
      "*\t*\tNuméro 1 - Images 1\t*\t*\t*\n",
      "*\t*\t*\t*\t*\t*\t*\t*\n",
      "\n",
      "\n"
     ]
    },
    {
     "ename": "KeyError",
     "evalue": "1",
     "output_type": "error",
     "traceback": [
      "\u001b[0;31m---------------------------------------------------------------------------\u001b[0m",
      "\u001b[0;31mKeyError\u001b[0m                                  Traceback (most recent call last)",
      "File \u001b[0;32m~/.local/lib/python3.10/site-packages/pandas/core/indexes/base.py:3802\u001b[0m, in \u001b[0;36mIndex.get_loc\u001b[0;34m(self, key, method, tolerance)\u001b[0m\n\u001b[1;32m   3801\u001b[0m \u001b[39mtry\u001b[39;00m:\n\u001b[0;32m-> 3802\u001b[0m     \u001b[39mreturn\u001b[39;00m \u001b[39mself\u001b[39;49m\u001b[39m.\u001b[39;49m_engine\u001b[39m.\u001b[39;49mget_loc(casted_key)\n\u001b[1;32m   3803\u001b[0m \u001b[39mexcept\u001b[39;00m \u001b[39mKeyError\u001b[39;00m \u001b[39mas\u001b[39;00m err:\n",
      "File \u001b[0;32m~/.local/lib/python3.10/site-packages/pandas/_libs/index.pyx:138\u001b[0m, in \u001b[0;36mpandas._libs.index.IndexEngine.get_loc\u001b[0;34m()\u001b[0m\n",
      "File \u001b[0;32m~/.local/lib/python3.10/site-packages/pandas/_libs/index.pyx:165\u001b[0m, in \u001b[0;36mpandas._libs.index.IndexEngine.get_loc\u001b[0;34m()\u001b[0m\n",
      "File \u001b[0;32mpandas/_libs/hashtable_class_helper.pxi:2263\u001b[0m, in \u001b[0;36mpandas._libs.hashtable.Int64HashTable.get_item\u001b[0;34m()\u001b[0m\n",
      "File \u001b[0;32mpandas/_libs/hashtable_class_helper.pxi:2273\u001b[0m, in \u001b[0;36mpandas._libs.hashtable.Int64HashTable.get_item\u001b[0;34m()\u001b[0m\n",
      "\u001b[0;31mKeyError\u001b[0m: 1",
      "\nThe above exception was the direct cause of the following exception:\n",
      "\u001b[0;31mKeyError\u001b[0m                                  Traceback (most recent call last)",
      "Cell \u001b[0;32mIn[38], line 17\u001b[0m\n\u001b[1;32m     15\u001b[0m order \u001b[39m=\u001b[39m research(current_description, matrix, wordbase)\n\u001b[1;32m     16\u001b[0m \u001b[39mprint\u001b[39m(\u001b[39mf\u001b[39m\u001b[39m\"\u001b[39m\u001b[39morder: \u001b[39m\u001b[39m{\u001b[39;00morder\u001b[39m}\u001b[39;00m\u001b[39m\"\u001b[39m)\n\u001b[0;32m---> 17\u001b[0m printResearch(order,df[\u001b[39m'\u001b[39;49m\u001b[39mDescription\u001b[39;49m\u001b[39m'\u001b[39;49m])\n",
      "Cell \u001b[0;32mIn[28], line 71\u001b[0m, in \u001b[0;36mprintResearch\u001b[0;34m(order, corpus)\u001b[0m\n\u001b[1;32m     69\u001b[0m \u001b[39mprint\u001b[39m(\u001b[39m\"\u001b[39m\u001b[39m*\u001b[39m\u001b[39m\\t\u001b[39;00m\u001b[39m*\u001b[39m\u001b[39m\\t\u001b[39;00m\u001b[39mNuméro \u001b[39m\u001b[39m\"\u001b[39m \u001b[39m+\u001b[39m \u001b[39mstr\u001b[39m(i \u001b[39m+\u001b[39m \u001b[39m1\u001b[39m) \u001b[39m+\u001b[39m \u001b[39m\"\u001b[39m\u001b[39m - Images \u001b[39m\u001b[39m\"\u001b[39m \u001b[39m+\u001b[39m \u001b[39mstr\u001b[39m(order[i]) \u001b[39m+\u001b[39m \u001b[39m\"\u001b[39m\u001b[39m\\t\u001b[39;00m\u001b[39m*\u001b[39m\u001b[39m\\t\u001b[39;00m\u001b[39m*\u001b[39m\u001b[39m\\t\u001b[39;00m\u001b[39m*\u001b[39m\u001b[39m\"\u001b[39m)\n\u001b[1;32m     70\u001b[0m \u001b[39mprint\u001b[39m(\u001b[39m\"\u001b[39m\u001b[39m*\u001b[39m\u001b[39m\\t\u001b[39;00m\u001b[39m*\u001b[39m\u001b[39m\\t\u001b[39;00m\u001b[39m*\u001b[39m\u001b[39m\\t\u001b[39;00m\u001b[39m*\u001b[39m\u001b[39m\\t\u001b[39;00m\u001b[39m*\u001b[39m\u001b[39m\\t\u001b[39;00m\u001b[39m*\u001b[39m\u001b[39m\\t\u001b[39;00m\u001b[39m*\u001b[39m\u001b[39m\\t\u001b[39;00m\u001b[39m*\u001b[39m\u001b[39m\\n\u001b[39;00m\u001b[39m\\n\u001b[39;00m\u001b[39m\"\u001b[39m)\n\u001b[0;32m---> 71\u001b[0m \u001b[39mprint\u001b[39m(corpus[order[i]])\n\u001b[1;32m     72\u001b[0m printImage(\u001b[39mstr\u001b[39m(order[i]))\n",
      "File \u001b[0;32m~/.local/lib/python3.10/site-packages/pandas/core/series.py:981\u001b[0m, in \u001b[0;36mSeries.__getitem__\u001b[0;34m(self, key)\u001b[0m\n\u001b[1;32m    978\u001b[0m     \u001b[39mreturn\u001b[39;00m \u001b[39mself\u001b[39m\u001b[39m.\u001b[39m_values[key]\n\u001b[1;32m    980\u001b[0m \u001b[39melif\u001b[39;00m key_is_scalar:\n\u001b[0;32m--> 981\u001b[0m     \u001b[39mreturn\u001b[39;00m \u001b[39mself\u001b[39;49m\u001b[39m.\u001b[39;49m_get_value(key)\n\u001b[1;32m    983\u001b[0m \u001b[39mif\u001b[39;00m is_hashable(key):\n\u001b[1;32m    984\u001b[0m     \u001b[39m# Otherwise index.get_value will raise InvalidIndexError\u001b[39;00m\n\u001b[1;32m    985\u001b[0m     \u001b[39mtry\u001b[39;00m:\n\u001b[1;32m    986\u001b[0m         \u001b[39m# For labels that don't resolve as scalars like tuples and frozensets\u001b[39;00m\n",
      "File \u001b[0;32m~/.local/lib/python3.10/site-packages/pandas/core/series.py:1089\u001b[0m, in \u001b[0;36mSeries._get_value\u001b[0;34m(self, label, takeable)\u001b[0m\n\u001b[1;32m   1086\u001b[0m     \u001b[39mreturn\u001b[39;00m \u001b[39mself\u001b[39m\u001b[39m.\u001b[39m_values[label]\n\u001b[1;32m   1088\u001b[0m \u001b[39m# Similar to Index.get_value, but we do not fall back to positional\u001b[39;00m\n\u001b[0;32m-> 1089\u001b[0m loc \u001b[39m=\u001b[39m \u001b[39mself\u001b[39;49m\u001b[39m.\u001b[39;49mindex\u001b[39m.\u001b[39;49mget_loc(label)\n\u001b[1;32m   1090\u001b[0m \u001b[39mreturn\u001b[39;00m \u001b[39mself\u001b[39m\u001b[39m.\u001b[39mindex\u001b[39m.\u001b[39m_get_values_for_loc(\u001b[39mself\u001b[39m, loc, label)\n",
      "File \u001b[0;32m~/.local/lib/python3.10/site-packages/pandas/core/indexes/base.py:3804\u001b[0m, in \u001b[0;36mIndex.get_loc\u001b[0;34m(self, key, method, tolerance)\u001b[0m\n\u001b[1;32m   3802\u001b[0m     \u001b[39mreturn\u001b[39;00m \u001b[39mself\u001b[39m\u001b[39m.\u001b[39m_engine\u001b[39m.\u001b[39mget_loc(casted_key)\n\u001b[1;32m   3803\u001b[0m \u001b[39mexcept\u001b[39;00m \u001b[39mKeyError\u001b[39;00m \u001b[39mas\u001b[39;00m err:\n\u001b[0;32m-> 3804\u001b[0m     \u001b[39mraise\u001b[39;00m \u001b[39mKeyError\u001b[39;00m(key) \u001b[39mfrom\u001b[39;00m \u001b[39merr\u001b[39;00m\n\u001b[1;32m   3805\u001b[0m \u001b[39mexcept\u001b[39;00m \u001b[39mTypeError\u001b[39;00m:\n\u001b[1;32m   3806\u001b[0m     \u001b[39m# If we have a listlike key, _check_indexing_error will raise\u001b[39;00m\n\u001b[1;32m   3807\u001b[0m     \u001b[39m#  InvalidIndexError. Otherwise we fall through and re-raise\u001b[39;00m\n\u001b[1;32m   3808\u001b[0m     \u001b[39m#  the TypeError.\u001b[39;00m\n\u001b[1;32m   3809\u001b[0m     \u001b[39mself\u001b[39m\u001b[39m.\u001b[39m_check_indexing_error(key)\n",
      "\u001b[0;31mKeyError\u001b[0m: 1"
     ]
    }
   ],
   "source": [
    "print(f\"row yamine liked: {keep_df}\\n\")\n",
    "\n",
    "for photo in photo_liked_by_yamine:\n",
    "    line_condition = keep_df['id'] == photo\n",
    "    new_df = keep_df[line_condition]\n",
    "    current_description = new_df['Description'].values[0]\n",
    "    current_id = new_df['id'].values[0]\n",
    "    \n",
    "    print(\"\\n Recommandation pour\")\n",
    "    img = mpimg.imread(f\"dataset/images/{current_id}.png\")\n",
    "    imgplot = plt.imshow(img)\n",
    "    plt.show()\n",
    "    \n",
    "    # Recherce\n",
    "    order = research(current_description, matrix, wordbase)\n",
    "    print(f\"order: {order}\")\n",
    "    printResearch(order,df['Description'])\n",
    "    \n"
   ]
  },
  {
   "attachments": {},
   "cell_type": "markdown",
   "metadata": {},
   "source": [
    "Ainsi pour chaque image liké par l'utilisateur yamine, nous avons des images à lui recommander"
   ]
  },
  {
   "cell_type": "markdown",
   "metadata": {},
   "source": [
    "## 3. Application tout en un"
   ]
  },
  {
   "cell_type": "code",
   "execution_count": 46,
   "metadata": {},
   "outputs": [
    {
     "name": "stderr",
     "output_type": "stream",
     "text": [
      "/tmp/ipykernel_8952/1149447364.py:216: FutureWarning: The error_bad_lines argument has been deprecated and will be removed in a future version. Use on_bad_lines in the future.\n",
      "\n",
      "\n",
      "  df = pd.read_csv(r'dataset/pokemon.csv', sep=',', error_bad_lines=False, warn_bad_lines=False)\n",
      "/tmp/ipykernel_8952/1149447364.py:216: FutureWarning: The warn_bad_lines argument has been deprecated and will be removed in a future version. Use on_bad_lines in the future.\n",
      "\n",
      "\n",
      "  df = pd.read_csv(r'dataset/pokemon.csv', sep=',', error_bad_lines=False, warn_bad_lines=False)\n"
     ]
    },
    {
     "ename": "ValueError",
     "evalue": "empty range for randrange() (1, 0, -1)",
     "output_type": "error",
     "traceback": [
      "\u001b[0;31m---------------------------------------------------------------------------\u001b[0m",
      "\u001b[0;31mValueError\u001b[0m                                Traceback (most recent call last)",
      "Cell \u001b[0;32mIn[46], line 341\u001b[0m\n\u001b[1;32m    337\u001b[0m             imgplot \u001b[39m=\u001b[39m plt\u001b[39m.\u001b[39mimshow(img)\n\u001b[1;32m    338\u001b[0m             plt\u001b[39m.\u001b[39mshow()\n\u001b[0;32m--> 341\u001b[0m generate_data()\n\u001b[1;32m    342\u001b[0m recommandation()\n\u001b[1;32m    343\u001b[0m show_random_user_recommandation()\n",
      "Cell \u001b[0;32mIn[46], line 239\u001b[0m, in \u001b[0;36mgenerate_data\u001b[0;34m()\u001b[0m\n\u001b[1;32m    236\u001b[0m user_counter \u001b[39m=\u001b[39m \u001b[39m0\u001b[39m\n\u001b[1;32m    238\u001b[0m \u001b[39mwhile\u001b[39;00m user_counter \u001b[39m<\u001b[39m user_max:\n\u001b[0;32m--> 239\u001b[0m     list_liked_image \u001b[39m=\u001b[39m generate_liked_image(random_number())\n\u001b[1;32m    240\u001b[0m     data[\u001b[39m\"\u001b[39m\u001b[39musers\u001b[39m\u001b[39m\"\u001b[39m]\u001b[39m.\u001b[39mappend(build_user(namegenerator\u001b[39m.\u001b[39mgen(), list_liked_image))\n\u001b[1;32m    241\u001b[0m     user_counter \u001b[39m=\u001b[39m user_counter \u001b[39m+\u001b[39m \u001b[39m1\u001b[39m\n",
      "Cell \u001b[0;32mIn[46], line 225\u001b[0m, in \u001b[0;36mgenerate_liked_image\u001b[0;34m(number_image)\u001b[0m\n\u001b[1;32m    223\u001b[0m list_liked_image \u001b[39m=\u001b[39m []\n\u001b[1;32m    224\u001b[0m \u001b[39mwhile\u001b[39;00m image_counter \u001b[39m<\u001b[39m number_image:\n\u001b[0;32m--> 225\u001b[0m     current_id \u001b[39m=\u001b[39m \u001b[39mint\u001b[39m(df\u001b[39m.\u001b[39miloc[random_number_with_parameter(line_number\u001b[39m-\u001b[39;49m\u001b[39m1\u001b[39;49m)])\n\u001b[1;32m    226\u001b[0m     list_liked_image\u001b[39m.\u001b[39mappend(current_id)\n\u001b[1;32m    227\u001b[0m     image_counter \u001b[39m=\u001b[39m image_counter \u001b[39m+\u001b[39m \u001b[39m1\u001b[39m\n",
      "Cell \u001b[0;32mIn[46], line 200\u001b[0m, in \u001b[0;36mrandom_number_with_parameter\u001b[0;34m(parameter)\u001b[0m\n\u001b[1;32m    198\u001b[0m \u001b[39mdef\u001b[39;00m \u001b[39mrandom_number_with_parameter\u001b[39m(parameter):\n\u001b[1;32m    199\u001b[0m     \u001b[39m\"\"\" Generate random number with a limite\"\"\"\u001b[39;00m\n\u001b[0;32m--> 200\u001b[0m     val \u001b[39m=\u001b[39m random\u001b[39m.\u001b[39;49mrandint(\u001b[39m1\u001b[39;49m, parameter)\n\u001b[1;32m    201\u001b[0m     \u001b[39mreturn\u001b[39;00m val\n",
      "File \u001b[0;32m/usr/lib/python3.10/random.py:370\u001b[0m, in \u001b[0;36mRandom.randint\u001b[0;34m(self, a, b)\u001b[0m\n\u001b[1;32m    366\u001b[0m \u001b[39mdef\u001b[39;00m \u001b[39mrandint\u001b[39m(\u001b[39mself\u001b[39m, a, b):\n\u001b[1;32m    367\u001b[0m     \u001b[39m\"\"\"Return random integer in range [a, b], including both end points.\u001b[39;00m\n\u001b[1;32m    368\u001b[0m \u001b[39m    \"\"\"\u001b[39;00m\n\u001b[0;32m--> 370\u001b[0m     \u001b[39mreturn\u001b[39;00m \u001b[39mself\u001b[39;49m\u001b[39m.\u001b[39;49mrandrange(a, b\u001b[39m+\u001b[39;49m\u001b[39m1\u001b[39;49m)\n",
      "File \u001b[0;32m/usr/lib/python3.10/random.py:353\u001b[0m, in \u001b[0;36mRandom.randrange\u001b[0;34m(self, start, stop, step)\u001b[0m\n\u001b[1;32m    351\u001b[0m     \u001b[39mif\u001b[39;00m width \u001b[39m>\u001b[39m \u001b[39m0\u001b[39m:\n\u001b[1;32m    352\u001b[0m         \u001b[39mreturn\u001b[39;00m istart \u001b[39m+\u001b[39m \u001b[39mself\u001b[39m\u001b[39m.\u001b[39m_randbelow(width)\n\u001b[0;32m--> 353\u001b[0m     \u001b[39mraise\u001b[39;00m \u001b[39mValueError\u001b[39;00m(\u001b[39m\"\u001b[39m\u001b[39mempty range for randrange() (\u001b[39m\u001b[39m%d\u001b[39;00m\u001b[39m, \u001b[39m\u001b[39m%d\u001b[39;00m\u001b[39m, \u001b[39m\u001b[39m%d\u001b[39;00m\u001b[39m)\u001b[39m\u001b[39m\"\u001b[39m \u001b[39m%\u001b[39m (istart, istop, width))\n\u001b[1;32m    355\u001b[0m \u001b[39m# Non-unit step argument supplied.\u001b[39;00m\n\u001b[1;32m    356\u001b[0m \u001b[39mif\u001b[39;00m istep \u001b[39m>\u001b[39m \u001b[39m0\u001b[39m:\n",
      "\u001b[0;31mValueError\u001b[0m: empty range for randrange() (1, 0, -1)"
     ]
    }
   ],
   "source": [
    "# \"Hyperparamètres\"\n",
    "stop_words = set(stopwords.words('english'))\n",
    "# On peut modeler la liste des mots non pris en compte\n",
    "stop_words.update(stop_words,{'.',',','!','?','\\'s', '<', '>', ':', ';', '/', '(', ')', '-', '_', '{', '}', '--', '...'})\n",
    "lmtzr=WordNetLemmatizer()\n",
    "ps = PorterStemmer()\n",
    "# Nombre total d'utilisateur\n",
    "user_max = 4\n",
    "# Nombre de recommandation par rapport à une image\n",
    "nbTop =  4\n",
    "# Coefficient de réduction de ligne\n",
    "coeff = 100\n",
    "\n",
    "def split(description):\n",
    "    \"\"\" Fonction qui prend en paramètre un texte (une description d'image) et qui \n",
    "    renvoie la liste de ses mots ayant été filtrés puis ayant subits certaines \n",
    "    transformations: lemming puis stemming \"\"\"\n",
    "\n",
    "    # Tokenisation ************************************************************\n",
    "    # Découpage du texte en mots (words est une liste de chaine de caractère)\n",
    "    words = word_tokenize(str(description))\n",
    "\n",
    "    # Stop-words **************************************************************\n",
    "    # Filtrage des mots : on supprime de words ceux qui sont contenus dans \n",
    "    # stop_words car ils sont supposés avoir trop peu de sens.\n",
    "    # (mots trop communs, mots de liaisons, ponctuation)\n",
    "    words_clean = []\n",
    "    for word in words:\n",
    "        if word.lower() not in stop_words:\n",
    "            words_clean.append(word)\n",
    "    \n",
    "    # Lemming *****************************************************************\n",
    "    # Transformation des mots en un unique mot-clé (lemme) les représentant. \n",
    "    # Ex: divided, dividing, divided, divides -> divide\n",
    "    words_lemmed = [lmtzr.lemmatize(word) for word in words_clean]\n",
    "            \n",
    "    # Stemming ****************************************************************\n",
    "    # Transformation des mots en un unique radical les représentant. \n",
    "    # Ex: divided, dividing, divided, divides -> divid\n",
    "    words_stemmed = [ps.stem(word) for word in words_lemmed]\n",
    "    \n",
    "    return words_stemmed\n",
    "\n",
    "\n",
    "def count(words, wordbase):\n",
    "    \"\"\" Fonction qui prend en paramètre un texte 'splité' en mots et la liste \n",
    "    des tokens du corpus, et renvoie le vecteur contenant le nombre d'occurence \n",
    "    dans le texte des tokens du corpus.\"\"\"\n",
    "    \n",
    "    vector = [0 for i in range(len(wordbase))]\n",
    "    for i in range(len(wordbase)):\n",
    "        if wordbase[i] in words:\n",
    "            vector[i] += 1\n",
    "    return vector\n",
    "\n",
    "\n",
    "def preliminaryWork(corpus):\n",
    "    \"\"\" Fonction qui prend en paramètre un corpus de description sous la forme d'une \n",
    "    liste de chaines de caractère, et qui renvoie la liste des mots utilisés \n",
    "    comme base pour représenter les textes qui le compose, et la matrice de ces\n",
    "    textes dans cette base, les coordonnées étant calculées par la formule du \n",
    "    TF-IDF.\"\"\"\n",
    "    \n",
    "    # Découpage, tri et transformation des textes (voir split)\n",
    "    corpus_words = []\n",
    "    for i in range(len(corpus)):\n",
    "        corpus_words.append(split(corpus[i]))\n",
    "        \n",
    "    # Construction de la liste des mots du corpus (intersection des mots des \n",
    "    # textes). Wordset est un objet de type set, intéressant car il permet de \n",
    "    # faire l'intersection seul, mais pas ordonné. On construit donc wordbase\n",
    "    # à partir des mots de wordset pour pouvoir associer 1 mot à 1 coordonnée.\n",
    "    wordset = set()\n",
    "    for words in corpus_words:\n",
    "        wordset = wordset.union(set(words))\n",
    "    wordbase = [word for word in wordset]\n",
    "    \n",
    "    # Construction de la matrice représentant les textes dans la base wordbase.\n",
    "    # On l'initialise avec les vecteurs dont les coordonnées sont les \n",
    "    # occurences brutes.\n",
    "    matrix = []\n",
    "    for words in corpus_words:\n",
    "        matrix.append(count(words, wordbase))\n",
    "        \n",
    "    # Calcul du nombe de textes contenant chaque mot\n",
    "    nt = [0 for m in range(len(wordbase))]\n",
    "    for m in range(len(wordbase)):\n",
    "        for line in matrix:\n",
    "            if line[m] > 0:\n",
    "                nt[m] += 1\n",
    "    \n",
    "    # Calcul du tf-idf de chaque mot dans chaque texte\n",
    "    # TF(mot dans un texte) = log(1 + nb d'occurence de ce mot dans ce texte)\n",
    "    # IDF(mot) = log(nombre de textes total / nombre de texte cntenant ce mot)\n",
    "    # TF-IDF(mot dans un texte) = TF(mot dans un texte) * IDF(mot)\n",
    "    for t in range(len(matrix)):\n",
    "        for m in range(len(wordbase)):\n",
    "            matrix[t][m] = math.log(1 + matrix[t][m]) * math.log(len(corpus) / nt[m])\n",
    "            \n",
    "    return (matrix, wordbase)\n",
    "\n",
    "\n",
    "def vectorisation(text, wordbase):\n",
    "    \"\"\" Fonction qui prend en paramètre un texte sous la forme d'une chaine de \n",
    "    caractère, et la liste des mots du corpus et qui renvoie le vecteur \n",
    "    représentant le texte dans la base du corpus.\"\"\"\n",
    "    \n",
    "    return count(split(text), wordbase)\n",
    "\n",
    "\n",
    "def scal(v1, v2):\n",
    "    \"\"\" Fonction qui calcule le produit scalaire entre deux vecteurs de même taille et la renvoie.\"\"\"\n",
    "    scal = 0\n",
    "    for i in range(len(v1)):\n",
    "        scal += v1[i] * v2[i]\n",
    "    return (scal)\n",
    "  \n",
    "    \n",
    "def norm(v):\n",
    "    \"\"\" Fonction qui calcule la norme 2 d'un vecteur et la renvoie.\"\"\"\n",
    "    n = math.sqrt(scal(v, v))\n",
    "    if (n == 0):\n",
    "        n = 1\n",
    "    return (n)\n",
    "\n",
    "\n",
    "def iMax(similarity):\n",
    "    \"\"\" Fonction qui renvoie l'indice du maximum de la liste passée en paramètre \"\"\"\n",
    "    imax = 0\n",
    "    for i in range(1,len(similarity)):\n",
    "        if (similarity[i] > similarity[imax]):\n",
    "            imax = i\n",
    "    return (imax)\n",
    "\n",
    "\n",
    "def top(similarity, nbTop):\n",
    "    \"\"\" Fonction qui renvoie la liste des indices des nbTop éléments \n",
    "    les plus grands de la liste passée en paramètre (similarity), \n",
    "    dans l'ordre décroissant. \"\"\"\n",
    "    \n",
    "    order = []\n",
    "    cptTop = 0\n",
    "    imax = iMax(similarity)\n",
    "    while (similarity[imax] >= 0 and cptTop < nbTop):\n",
    "        order.append(imax)\n",
    "        # On met à -1 l'élément dont on vient de prendre l'indice pour ne plus le prendre en compte\n",
    "        similarity[imax] = -1\n",
    "        cptTop += 1\n",
    "        imax = iMax(similarity)\n",
    "        \n",
    "    return (order)\n",
    "\n",
    "\n",
    "def research(request, matrix, wordbase):\n",
    "    \"\"\" Fonction qui prend en paramètre une requête sous la forme d'une\n",
    "    chaîne de caractère, la matrice représentatrice du corpus et la liste\n",
    "    des tokens, et qui renvoie la liste des indices des descriptions dans le\n",
    "    corpus correspondant le plus à la requête. \"\"\"\n",
    "    \n",
    "    # Vectorisation de la requête\n",
    "    vector = vectorisation(request, wordbase)\n",
    "    # Calcul de la liste des score de similarité pour chaque vecteur de la matrice\n",
    "    similarity = []\n",
    "    for v2 in matrix:\n",
    "        similarity.append(scal(vector, v2) / (norm(vector) * norm(v2)))\n",
    "    # On renvoie les meilleurs résultats\n",
    "\n",
    "    return (top(similarity, nbTop))\n",
    "\n",
    "\n",
    "def printResearch(order, corpus):\n",
    "    \"\"\" Fonction qui à partir des résultats d'une requête (liste d'indices) et \n",
    "    du corpus utilisé affiche les textes dans la console, le plus représentatif\n",
    "    en premier\"\"\"\n",
    "    print(\"*\\t*\\t*\\t*\\t*\\t*\\t*\\t*\")\n",
    "    print(\"*\\t*\\tRésultats de la recherche\\t*\\t*\")\n",
    "    print(\"*\\t*\\t*\\t*\\t*\\t*\\t*\\t*\\n\\n\")\n",
    "    for i in range(len(order)):\n",
    "        print(\"*\\t*\\t*\\t*\\t*\\t*\\t*\\t*\")\n",
    "        print(\"*\\t*\\tNuméro \" + str(i + 1) + \" - Images \" + str(order[i]) + \"\\t*\\t*\\t*\")\n",
    "        print(\"*\\t*\\t*\\t*\\t*\\t*\\t*\\t*\\n\\n\")\n",
    "        print(corpus[order[i]])\n",
    "        printImage(str(order[i]))\n",
    "\n",
    "    \n",
    "def printImage(rows: str):\n",
    "    \"\"\"Affiche l'image correspondante à ligne trouvée\"\"\"\n",
    "    current_id = df.iloc[int(rows)][\"id\"]\n",
    "    img = mpimg.imread(f\"dataset/images/{current_id}.png\")\n",
    "    imgplot = plt.imshow(img)\n",
    "    plt.show()\n",
    "    \n",
    "    \n",
    "def random_number():\n",
    "    return random.randint(1, 5)\n",
    "\n",
    "\n",
    "def random_number_with_parameter(parameter):\n",
    "    \"\"\" Generate random number with a limite\"\"\"\n",
    "    val = random.randint(1, parameter)\n",
    "    return val\n",
    "\n",
    "\n",
    "def build_user(user_name: str, list_liked_image: list):\n",
    "    \"\"\"Build incidents with parameters.\"\"\"\n",
    "    user = {\n",
    "        \"name\": user_name,\n",
    "        \"id_photo_liked\": list_liked_image,\n",
    "        \"recommandations\": []\n",
    "    }\n",
    "    return user\n",
    "               \n",
    "               \n",
    "def generate_liked_image(number_image):\n",
    "    # Récupération entête csv\n",
    "    df = pd.read_csv(r'dataset/pokemon.csv', sep=',', error_bad_lines=False, warn_bad_lines=False)\n",
    "    df.sort_values('id', ascending = True )\n",
    "    line_number = len(df)//coeff\n",
    "    # Suppresion des colonnes inutiles\n",
    "    df = df.drop(['Type1', 'Type2', 'Description'], axis=1)\n",
    "    df = df[:line_number]\n",
    "    image_counter = 0\n",
    "    list_liked_image = []\n",
    "    while image_counter < number_image:\n",
    "        current_id = int(df.iloc[random_number_with_parameter(line_number-1)])\n",
    "        list_liked_image.append(current_id)\n",
    "        image_counter = image_counter + 1\n",
    "    \n",
    "    return list_liked_image\n",
    "\n",
    "    \n",
    "def generate_data():\n",
    "    \"\"\"Generate and return data, save it on users_data.json\"\"\"\n",
    "    \n",
    "    data = {\"users\": []}\n",
    "    user_counter = 0\n",
    "\n",
    "    while user_counter < user_max:\n",
    "        list_liked_image = generate_liked_image(random_number())\n",
    "        data[\"users\"].append(build_user(namegenerator.gen(), list_liked_image))\n",
    "        user_counter = user_counter + 1\n",
    "                             \n",
    "    with open(\"users_data.json\", \"w\", encoding=\"utf-8\") as f:\n",
    "        json.dump(data, f, ensure_ascii=False, indent=4)\n",
    "\n",
    "\n",
    "def find_user(user_list: dict, name: str):\n",
    "    \"\"\"Find user by his name\"\"\"\n",
    "    \n",
    "    user_profile = {}\n",
    "    position_in_list = 0\n",
    "    for user in user_list:\n",
    "        if user.get('name') == name:\n",
    "            user_profile = user\n",
    "            good_position = position_in_list\n",
    "        position_in_list = position_in_list + 1\n",
    "    \n",
    "    return user_profile, good_position\n",
    "        \n",
    "\n",
    "def save_recommandation(user, origin_photo, recommandation):\n",
    "    \"\"\"Save recommandation\"\"\"\n",
    "    with open('users_data.json') as json_file:\n",
    "        data = json.load(json_file)\n",
    "    user_profile, position_in_list = find_user(data.get('users'), user)\n",
    "    dict_recommandation = {\n",
    "        \"origin_photo\": int(origin_photo),\n",
    "        \"recommandations\":  recommandation\n",
    "    }\n",
    "    data[\"users\"][position_in_list].get(\"recommandations\").append(dict_recommandation)\n",
    "    with open('users_data.json', 'w') as outfile:\n",
    "        json.dump(data, outfile)\n",
    "        \n",
    "\n",
    "def prepare_df():\n",
    "    \"\"\" Remove some column\"\"\"\n",
    "    df = pd.read_csv(r'./dataset/pokemon.csv', sep=',', error_bad_lines=False, warn_bad_lines=False)\n",
    "    df.sort_values('id', ascending = True )\n",
    "    # Suppresion des colonnes inutiles\n",
    "    df = df.drop(['Type1','Type2'], axis=1)\n",
    "    line_number = len(df)//coeff\n",
    "    df = df[:line_number]\n",
    "    return df\n",
    "\n",
    "\n",
    "def recommandation():\n",
    "    # Load data\n",
    "    with open('users_data.json') as json_file:\n",
    "        data = json.load(json_file)\n",
    "    # Pour chaque utilisateur\n",
    "    for user in data.get('users'):\n",
    "        user_name = user.get(\"name\")\n",
    "        photo_liked_by_user = user.get('id_photo_liked')\n",
    "        # Fabrication du DF\n",
    "        df = prepare_df()\n",
    "        # Récupération de la ligne liké\n",
    "        keep_df = df.loc[df['id'].isin(photo_liked_by_user)]\n",
    "        # Construction de la matrix à partir du DF nettoyé\n",
    "        (matrix, wordbase) = preliminaryWork(df['Description'][:len(df)])\n",
    "        # Processus de recommandation pour chaque photo\n",
    "        for photo in photo_liked_by_user:\n",
    "            line_condition = keep_df['id'] == photo\n",
    "            new_df = keep_df[line_condition]\n",
    "            current_description = new_df['Description'].values[0]\n",
    "            current_id = new_df['id'].values[0]\n",
    "            # Recherche\n",
    "            order = research(current_description, matrix, wordbase)\n",
    "            recommandation = []\n",
    "            first_recommandation = True\n",
    "            for row in order:\n",
    "                if first_recommandation:\n",
    "                    first_recommandation = False\n",
    "                else:\n",
    "                    recommandation.append(str(df.iloc[int(row)][\"id\"]))\n",
    "            save_recommandation(user_name, current_id, recommandation)\n",
    "            \n",
    "\n",
    "def show_random_user_recommandation():\n",
    "    \"\"\"Show random recommandation\"\"\"\n",
    "    # Load data\n",
    "    with open('users_data.json') as json_file:\n",
    "        data = json.load(json_file)\n",
    "    # Select random user\n",
    "    user_list_position = random_number_with_parameter(len(data.get(\"users\"))) - 1\n",
    "    print(f\"user_list_position: {user_list_position}\")\n",
    "    user =  data.get(\"users\")[user_list_position]\n",
    "    # pour chaque photo liké by this user\n",
    "    print(f\"L'utlisateur: {user.get('name')}\")\n",
    "    for photo in user.get(\"recommandations\"):\n",
    "        print(\"\\n a aimé la photo\")\n",
    "        img = mpimg.imread(f\"./dataset/images/{photo.get('origin_photo')}.png\")\n",
    "        imgplot = plt.imshow(img)\n",
    "        plt.show()\n",
    "        print(\"\\n Il lui à été recommandé: \")\n",
    "        for recommandation in photo.get(\"recommandations\"):\n",
    "            img = mpimg.imread(f\"./dataset/images/{recommandation}.png\")\n",
    "            imgplot = plt.imshow(img)\n",
    "            plt.show()\n",
    "            \n",
    "\n",
    "generate_data()\n",
    "recommandation()\n",
    "show_random_user_recommandation()"
   ]
  },
  {
   "cell_type": "markdown",
   "metadata": {},
   "source": [
    "# Méthode par Text-Mining combiné à la classification"
   ]
  },
  {
   "cell_type": "markdown",
   "metadata": {},
   "source": [
    "## OBJECTIF :\n",
    "\n",
    "Dans cette méthode, nous allons utilisé les mêmes principes de text-ming mais au lieu de réaliser un moteur de recherche, nous allons créer plusieurs classifieurs. Le principe reste quasiment le même, nous allons travailler avec les descriptions des photos  mais ces dernières seront associées à deux valeurs possibles (like ou dislike par l'utilisateurs). \n",
    "\n",
    "### Vers de la DOCUMENTATION COMPLEMENTAIRE :\n",
    "\n",
    "Cette présentation a été conçue grâce aux documentations suivantes :\n",
    "\n",
    "https://scikit-learn.org/stable/tutorial/text_analytics/working_with_text_data.html<br>\n",
    "http://www.nltk.org/"
   ]
  },
  {
   "cell_type": "code",
   "execution_count": 47,
   "metadata": {},
   "outputs": [
    {
     "name": "stdout",
     "output_type": "stream",
     "text": [
      "\n",
      "System:\n",
      "    python: 3.10.6 (main, Nov 14 2022, 16:10:14) [GCC 11.3.0]\n",
      "executable: /bin/python3\n",
      "   machine: Linux-5.4.72-microsoft-standard-WSL2-x86_64-with-glibc2.35\n",
      "\n",
      "Python dependencies:\n",
      "      sklearn: 1.2.1\n",
      "          pip: 22.0.2\n",
      "   setuptools: 66.0.0\n",
      "        numpy: 1.24.2\n",
      "        scipy: 1.10.1\n",
      "       Cython: None\n",
      "       pandas: 1.5.3\n",
      "   matplotlib: 3.5.1\n",
      "       joblib: 1.2.0\n",
      "threadpoolctl: 3.1.0\n",
      "\n",
      "Built with OpenMP: True\n",
      "\n",
      "threadpoolctl info:\n",
      "       user_api: blas\n",
      "   internal_api: openblas\n",
      "         prefix: libopenblas\n",
      "       filepath: /home/morgane/.local/lib/python3.10/site-packages/numpy.libs/libopenblas64_p-r0-15028c96.3.21.so\n",
      "        version: 0.3.21\n",
      "threading_layer: pthreads\n",
      "   architecture: SkylakeX\n",
      "    num_threads: 8\n",
      "\n",
      "       user_api: openmp\n",
      "   internal_api: openmp\n",
      "         prefix: libgomp\n",
      "       filepath: /usr/lib/x86_64-linux-gnu/libgomp.so.1.0.0\n",
      "        version: None\n",
      "    num_threads: 8\n",
      "\n",
      "       user_api: openmp\n",
      "   internal_api: openmp\n",
      "         prefix: libgomp\n",
      "       filepath: /home/morgane/.local/lib/python3.10/site-packages/scikit_learn.libs/libgomp-a34b3233.so.1.0.0\n",
      "        version: None\n",
      "    num_threads: 8\n",
      "\n",
      "       user_api: blas\n",
      "   internal_api: openblas\n",
      "         prefix: libopenblas\n",
      "       filepath: /home/morgane/.local/lib/python3.10/site-packages/scipy.libs/libopenblasp-r0-41284840.3.18.so\n",
      "        version: 0.3.18\n",
      "threading_layer: pthreads\n",
      "   architecture: SkylakeX\n",
      "    num_threads: 8\n"
     ]
    }
   ],
   "source": [
    "# Import des fonctions et outils utilisé\n",
    "# imports\n",
    "\n",
    "from mpl_toolkits.mplot3d import Axes3D\n",
    "from sklearn.preprocessing import StandardScaler\n",
    "import sklearn\n",
    "import matplotlib.pyplot as plt\n",
    "import matplotlib.image as mpimg\n",
    "import numpy as np # linear algebra\n",
    "import pandas as pd # data processing, CSV file I/O (e.g. pd.read_csv)\n",
    "import os # accessing directory structure\n",
    "import csv\n",
    "import math\n",
    "import random\n",
    "import json\n",
    "import namegenerator\n",
    "\n",
    "sklearn.show_versions()\n",
    "import nltk\n",
    "from nltk.corpus import stopwords          # liste des mots non pris en compte\n",
    "from nltk.tokenize import word_tokenize    # fonction de tokenisation\n",
    "from nltk.stem import WordNetLemmatizer    # fonction de lemmatisation\n",
    "from nltk.stem.porter import PorterStemmer # fonction de stemming\n",
    "import math\n",
    "\n",
    "from sklearn.preprocessing import LabelEncoder"
   ]
  },
  {
   "cell_type": "markdown",
   "metadata": {},
   "source": [
    "## A. Pré-traitement des données\n",
    "### 1. Ouverture du dataset"
   ]
  },
  {
   "cell_type": "code",
   "execution_count": 49,
   "metadata": {},
   "outputs": [
    {
     "name": "stderr",
     "output_type": "stream",
     "text": [
      "/tmp/ipykernel_8952/4114586332.py:4: FutureWarning: The error_bad_lines argument has been deprecated and will be removed in a future version. Use on_bad_lines in the future.\n",
      "\n",
      "\n",
      "  df = pd.read_csv(r'./dataset/pokemon.csv', sep=',', error_bad_lines=False, warn_bad_lines=False)\n",
      "/tmp/ipykernel_8952/4114586332.py:4: FutureWarning: The warn_bad_lines argument has been deprecated and will be removed in a future version. Use on_bad_lines in the future.\n",
      "\n",
      "\n",
      "  df = pd.read_csv(r'./dataset/pokemon.csv', sep=',', error_bad_lines=False, warn_bad_lines=False)\n"
     ]
    },
    {
     "data": {
      "text/html": [
       "<div>\n",
       "<style scoped>\n",
       "    .dataframe tbody tr th:only-of-type {\n",
       "        vertical-align: middle;\n",
       "    }\n",
       "\n",
       "    .dataframe tbody tr th {\n",
       "        vertical-align: top;\n",
       "    }\n",
       "\n",
       "    .dataframe thead th {\n",
       "        text-align: right;\n",
       "    }\n",
       "</style>\n",
       "<table border=\"1\" class=\"dataframe\">\n",
       "  <thead>\n",
       "    <tr style=\"text-align: right;\">\n",
       "      <th></th>\n",
       "      <th>id</th>\n",
       "      <th>Description</th>\n",
       "    </tr>\n",
       "  </thead>\n",
       "  <tbody>\n",
       "    <tr>\n",
       "      <th>0</th>\n",
       "      <td>abomasnow</td>\n",
       "      <td>is a dual-type Grass/Ice Pokémon introduced in...</td>\n",
       "    </tr>\n",
       "    <tr>\n",
       "      <th>1</th>\n",
       "      <td>abra</td>\n",
       "      <td>is a Psychic-type Pokémon introduced in Genera...</td>\n",
       "    </tr>\n",
       "    <tr>\n",
       "      <th>2</th>\n",
       "      <td>absol</td>\n",
       "      <td>is a Dark-type Pokémon introduced in Generatio...</td>\n",
       "    </tr>\n",
       "    <tr>\n",
       "      <th>3</th>\n",
       "      <td>accelgor</td>\n",
       "      <td>is a Bug-type Pokémon introduced in Generation V.</td>\n",
       "    </tr>\n",
       "    <tr>\n",
       "      <th>4</th>\n",
       "      <td>aegislash-blade</td>\n",
       "      <td>is a dual-type Steel/Ghost Pokémon introduced ...</td>\n",
       "    </tr>\n",
       "    <tr>\n",
       "      <th>...</th>\n",
       "      <td>...</td>\n",
       "      <td>...</td>\n",
       "    </tr>\n",
       "    <tr>\n",
       "      <th>93</th>\n",
       "      <td>chansey</td>\n",
       "      <td>Chansey is a Normal-type Pokémon introduced in...</td>\n",
       "    </tr>\n",
       "    <tr>\n",
       "      <th>94</th>\n",
       "      <td>charizard</td>\n",
       "      <td>Charizard is a dual-type Fire/Flying Pokémon i...</td>\n",
       "    </tr>\n",
       "    <tr>\n",
       "      <th>95</th>\n",
       "      <td>charmander</td>\n",
       "      <td>Charmander is a Fire-type Pokémon introduced i...</td>\n",
       "    </tr>\n",
       "    <tr>\n",
       "      <th>96</th>\n",
       "      <td>charmeleon</td>\n",
       "      <td>Charmeleon is a Fire-type Pokémon introduced i...</td>\n",
       "    </tr>\n",
       "    <tr>\n",
       "      <th>97</th>\n",
       "      <td>chatot</td>\n",
       "      <td>Chatot is a dual-type Normal/Flying Pokémon in...</td>\n",
       "    </tr>\n",
       "  </tbody>\n",
       "</table>\n",
       "<p>98 rows × 2 columns</p>\n",
       "</div>"
      ],
      "text/plain": [
       "                 id                                        Description\n",
       "0         abomasnow  is a dual-type Grass/Ice Pokémon introduced in...\n",
       "1              abra  is a Psychic-type Pokémon introduced in Genera...\n",
       "2             absol  is a Dark-type Pokémon introduced in Generatio...\n",
       "3          accelgor  is a Bug-type Pokémon introduced in Generation V.\n",
       "4   aegislash-blade  is a dual-type Steel/Ghost Pokémon introduced ...\n",
       "..              ...                                                ...\n",
       "93          chansey  Chansey is a Normal-type Pokémon introduced in...\n",
       "94        charizard  Charizard is a dual-type Fire/Flying Pokémon i...\n",
       "95       charmander  Charmander is a Fire-type Pokémon introduced i...\n",
       "96       charmeleon  Charmeleon is a Fire-type Pokémon introduced i...\n",
       "97           chatot  Chatot is a dual-type Normal/Flying Pokémon in...\n",
       "\n",
       "[98 rows x 2 columns]"
      ]
     },
     "execution_count": 49,
     "metadata": {},
     "output_type": "execute_result"
    }
   ],
   "source": [
    "# Ouverture du dataset\n",
    "\n",
    "# Récupération entête csv\n",
    "df = pd.read_csv(r'./dataset/pokemon.csv', sep=',', error_bad_lines=False, warn_bad_lines=False)\n",
    "df.sort_values('id', ascending = True )\n",
    "\n",
    "df = df.drop(['Type1', 'Type2'], axis=1)\n",
    "df"
   ]
  },
  {
   "cell_type": "markdown",
   "metadata": {},
   "source": [
    "### 2. Fabrication d'un profil utilisateur ayant liké et disliké des images\n",
    "\n",
    "Nous allons générer un utilisateur qui aimera (likera) aléatoirement un certains nombre de photo et n'aimera pas (dislikera) d'autres photos. Par manque de temps, cette sélection est réalisé de façon aléatoire: nous verrons que cela posera problème en ce qui concerne l'efficacité de notre classifieur."
   ]
  },
  {
   "cell_type": "code",
   "execution_count": 226,
   "metadata": {},
   "outputs": [],
   "source": [
    "# Build user\n",
    "user_max = 1\n",
    "# Coefficient de réduction de ligne\n",
    "coeff = 2\n",
    "number_image_liked =  2500\n",
    "number_image_disliked = 400\n",
    "\n",
    "def random_number_with_parameter(parameter):\n",
    "    \"\"\" Generate random number with a limite\"\"\"\n",
    "    val = random.randint(1, parameter)\n",
    "    return val\n",
    "\n",
    "\n",
    "def build_user(user_name: str, list_liked_image: list, list_disliked_image: list):\n",
    "    \"\"\"Build incidents with parameters.\"\"\"\n",
    "    user = {\n",
    "        \"name\": user_name,\n",
    "        \"id_photo_liked\": list_liked_image,\n",
    "        \"id_photo_disliked\": list_disliked_image,\n",
    "        \"recommandations\": []\n",
    "    }\n",
    "    return user\n",
    "               \n",
    "               \n",
    "def generate_liked_image(number_image):\n",
    "    # Récupération entête csv\n",
    "    df = pd.read_csv(r'dataset/myntradataset/styles.csv', sep=',', error_bad_lines=False, warn_bad_lines=False)\n",
    "    df.sort_values('id', ascending = True )\n",
    "    line_number = len(df)//coeff\n",
    "    # Suppresion des colonnes inutiles\n",
    "    df = df.drop(['gender', 'masterCategory', 'subCategory', 'articleType', 'baseColour', 'season', 'year', 'usage', 'Description'], axis=1)\n",
    "    df = df[:line_number]\n",
    "    image_counter = 0\n",
    "    list_liked_image = []\n",
    "    while image_counter < number_image:\n",
    "        current_id = int(df.iloc[random_number_with_parameter(line_number-1)])\n",
    "        list_liked_image.append(current_id)\n",
    "        image_counter = image_counter + 1\n",
    "    \n",
    "    return list_liked_image\n",
    "\n",
    "\n",
    "def generate_disliked_image(number_image: int, list_liked_image: list):\n",
    "    df = pd.read_csv(r'dataset/myntradataset/styles.csv', sep=',', error_bad_lines=False, warn_bad_lines=False)\n",
    "    df.sort_values('id', ascending = True )\n",
    "    line_number = len(df)//coeff\n",
    "    # Suppresion des colonnes inutiles\n",
    "    df = df.drop(['gender', 'masterCategory', 'subCategory', 'articleType', 'baseColour', 'season', 'year', 'usage', 'Description'], axis=1)\n",
    "    df = df[:line_number]\n",
    "    image_counter = 0\n",
    "    list_liked_image = []\n",
    "    while image_counter < number_image:\n",
    "        current_id = int(df.iloc[random_number_with_parameter(line_number-1)])\n",
    "        if current_id in list_liked_image:\n",
    "            pass\n",
    "        else:\n",
    "            list_liked_image.append(current_id)\n",
    "            image_counter = image_counter + 1\n",
    "    return list_liked_image\n",
    "\n",
    "    \n",
    "def generate_data():\n",
    "    \"\"\"Generate and return data, save it on users_data.json\"\"\"\n",
    "    \n",
    "    data = {\"users\": []}\n",
    "    user_counter = 0\n",
    "\n",
    "    while user_counter < user_max:\n",
    "        list_liked_image = generate_liked_image(number_image_liked)\n",
    "        list_disliked_image = generate_disliked_image(number_image_disliked, list_liked_image)\n",
    "        data[\"users\"].append(build_user(namegenerator.gen(), list_liked_image, list_disliked_image))\n",
    "        user_counter = user_counter + 1\n",
    "                             \n",
    "    with open(\"user_demo_version_classifieur.json\", \"w\", encoding=\"utf-8\") as f:\n",
    "        json.dump(data, f, ensure_ascii=False, indent=4)\n",
    "\n",
    "generate_data()"
   ]
  },
  {
   "cell_type": "code",
   "execution_count": 227,
   "metadata": {},
   "outputs": [
    {
     "name": "stdout",
     "output_type": "stream",
     "text": [
      "nombre de photo likées: 2500\n",
      "nombre de photo dislikées: 400\n"
     ]
    }
   ],
   "source": [
    "#Chargement de nos utilisateurs\n",
    "import json\n",
    "\n",
    "with open('user_demo_version_classifieur.json') as json_file:\n",
    "    data = json.load(json_file)\n",
    "\n",
    "name = data['users'][0][\"name\"]\n",
    "\n",
    "def find_user(user_list: dict, name: str):\n",
    "    \"\"\"Find user by his name\"\"\"\n",
    "    user_profile = {}\n",
    "    position_in_list = 0\n",
    "    for user in user_list:\n",
    "        if user.get('name') == name:\n",
    "            user_profile = user\n",
    "        position_in_list = position_in_list + 1\n",
    "    return user_profile, position_in_list\n",
    "\n",
    "user_profile, position_in_list = find_user(data.get('users'), name)\n",
    "photo_liked_by_user = user_profile.get('id_photo_liked')\n",
    "print(f\"nombre de photo likées: {len(photo_liked_by_user)}\")\n",
    "photo_disliked_by_user = user_profile.get('id_photo_disliked')\n",
    "print(f\"nombre de photo dislikées: {len(photo_disliked_by_user)}\")"
   ]
  },
  {
   "cell_type": "code",
   "execution_count": 228,
   "metadata": {},
   "outputs": [
    {
     "name": "stdout",
     "output_type": "stream",
     "text": [
      "récupération des photos likées\n"
     ]
    },
    {
     "name": "stderr",
     "output_type": "stream",
     "text": [
      "<ipython-input-228-3b4bc0da4baf>:3: SettingWithCopyWarning: \n",
      "A value is trying to be set on a copy of a slice from a DataFrame.\n",
      "Try using .loc[row_indexer,col_indexer] = value instead\n",
      "\n",
      "See the caveats in the documentation: https://pandas.pydata.org/pandas-docs/stable/user_guide/indexing.html#returning-a-view-versus-a-copy\n",
      "  df_liked[\"avis\"] = \"liked\"\n"
     ]
    },
    {
     "data": {
      "text/html": [
       "<div>\n",
       "<style scoped>\n",
       "    .dataframe tbody tr th:only-of-type {\n",
       "        vertical-align: middle;\n",
       "    }\n",
       "\n",
       "    .dataframe tbody tr th {\n",
       "        vertical-align: top;\n",
       "    }\n",
       "\n",
       "    .dataframe thead th {\n",
       "        text-align: right;\n",
       "    }\n",
       "</style>\n",
       "<table border=\"1\" class=\"dataframe\">\n",
       "  <thead>\n",
       "    <tr style=\"text-align: right;\">\n",
       "      <th></th>\n",
       "      <th>id</th>\n",
       "      <th>productDisplayName</th>\n",
       "      <th>avis</th>\n",
       "    </tr>\n",
       "  </thead>\n",
       "  <tbody>\n",
       "    <tr>\n",
       "      <th>4</th>\n",
       "      <td>53759</td>\n",
       "      <td>Puma Men Grey T-shirt</td>\n",
       "      <td>liked</td>\n",
       "    </tr>\n",
       "    <tr>\n",
       "      <th>36</th>\n",
       "      <td>58183</td>\n",
       "      <td>Rocky S Women White Handbag</td>\n",
       "      <td>liked</td>\n",
       "    </tr>\n",
       "    <tr>\n",
       "      <th>66</th>\n",
       "      <td>43993</td>\n",
       "      <td>Police Women Passion Perfume</td>\n",
       "      <td>liked</td>\n",
       "    </tr>\n",
       "    <tr>\n",
       "      <th>77</th>\n",
       "      <td>2872</td>\n",
       "      <td>Catwalk Women Leather Flats</td>\n",
       "      <td>liked</td>\n",
       "    </tr>\n",
       "    <tr>\n",
       "      <th>106</th>\n",
       "      <td>8746</td>\n",
       "      <td>Crocs Kids Navy Blue Clogs</td>\n",
       "      <td>liked</td>\n",
       "    </tr>\n",
       "    <tr>\n",
       "      <th>...</th>\n",
       "      <td>...</td>\n",
       "      <td>...</td>\n",
       "      <td>...</td>\n",
       "    </tr>\n",
       "    <tr>\n",
       "      <th>22189</th>\n",
       "      <td>39734</td>\n",
       "      <td>Arrow Woman Pink &amp; Yellow Check Shirt</td>\n",
       "      <td>liked</td>\n",
       "    </tr>\n",
       "    <tr>\n",
       "      <th>22191</th>\n",
       "      <td>11962</td>\n",
       "      <td>Ganuchi Men Casual Black Slipper</td>\n",
       "      <td>liked</td>\n",
       "    </tr>\n",
       "    <tr>\n",
       "      <th>22198</th>\n",
       "      <td>34817</td>\n",
       "      <td>ADIDAS Men Adizero Black Sports Shoes</td>\n",
       "      <td>liked</td>\n",
       "    </tr>\n",
       "    <tr>\n",
       "      <th>22203</th>\n",
       "      <td>19333</td>\n",
       "      <td>United Colors of Benetton Women Solid Navy Blu...</td>\n",
       "      <td>liked</td>\n",
       "    </tr>\n",
       "    <tr>\n",
       "      <th>22207</th>\n",
       "      <td>3982</td>\n",
       "      <td>Mr.Men Men's Wassup Grey T-shirt</td>\n",
       "      <td>liked</td>\n",
       "    </tr>\n",
       "  </tbody>\n",
       "</table>\n",
       "<p>2366 rows × 3 columns</p>\n",
       "</div>"
      ],
      "text/plain": [
       "          id                                 productDisplayName   avis\n",
       "4      53759                              Puma Men Grey T-shirt  liked\n",
       "36     58183                        Rocky S Women White Handbag  liked\n",
       "66     43993                       Police Women Passion Perfume  liked\n",
       "77      2872                        Catwalk Women Leather Flats  liked\n",
       "106     8746                         Crocs Kids Navy Blue Clogs  liked\n",
       "...      ...                                                ...    ...\n",
       "22189  39734              Arrow Woman Pink & Yellow Check Shirt  liked\n",
       "22191  11962                   Ganuchi Men Casual Black Slipper  liked\n",
       "22198  34817              ADIDAS Men Adizero Black Sports Shoes  liked\n",
       "22203  19333  United Colors of Benetton Women Solid Navy Blu...  liked\n",
       "22207   3982                   Mr.Men Men's Wassup Grey T-shirt  liked\n",
       "\n",
       "[2366 rows x 3 columns]"
      ]
     },
     "execution_count": 228,
     "metadata": {},
     "output_type": "execute_result"
    }
   ],
   "source": [
    "print(\"récupération des photos likées\")\n",
    "df_liked = df.loc[df['id'].isin(photo_liked_by_user)]\n",
    "df_liked[\"avis\"] = \"liked\"\n",
    "df_liked"
   ]
  },
  {
   "cell_type": "code",
   "execution_count": 229,
   "metadata": {},
   "outputs": [
    {
     "name": "stdout",
     "output_type": "stream",
     "text": [
      "récupération des photos likées\n"
     ]
    },
    {
     "name": "stderr",
     "output_type": "stream",
     "text": [
      "<ipython-input-229-b155522e8989>:3: SettingWithCopyWarning: \n",
      "A value is trying to be set on a copy of a slice from a DataFrame.\n",
      "Try using .loc[row_indexer,col_indexer] = value instead\n",
      "\n",
      "See the caveats in the documentation: https://pandas.pydata.org/pandas-docs/stable/user_guide/indexing.html#returning-a-view-versus-a-copy\n",
      "  df_disliked[\"avis\"] = 'disliked'\n"
     ]
    },
    {
     "data": {
      "text/html": [
       "<div>\n",
       "<style scoped>\n",
       "    .dataframe tbody tr th:only-of-type {\n",
       "        vertical-align: middle;\n",
       "    }\n",
       "\n",
       "    .dataframe tbody tr th {\n",
       "        vertical-align: top;\n",
       "    }\n",
       "\n",
       "    .dataframe thead th {\n",
       "        text-align: right;\n",
       "    }\n",
       "</style>\n",
       "<table border=\"1\" class=\"dataframe\">\n",
       "  <thead>\n",
       "    <tr style=\"text-align: right;\">\n",
       "      <th></th>\n",
       "      <th>id</th>\n",
       "      <th>productDisplayName</th>\n",
       "      <th>avis</th>\n",
       "    </tr>\n",
       "  </thead>\n",
       "  <tbody>\n",
       "    <tr>\n",
       "      <th>26</th>\n",
       "      <td>48311</td>\n",
       "      <td>Pitaraa Women Bronze Beaded Bracelet</td>\n",
       "      <td>disliked</td>\n",
       "    </tr>\n",
       "    <tr>\n",
       "      <th>40</th>\n",
       "      <td>18839</td>\n",
       "      <td>Peter England Men Formal Black Belt</td>\n",
       "      <td>disliked</td>\n",
       "    </tr>\n",
       "    <tr>\n",
       "      <th>58</th>\n",
       "      <td>11188</td>\n",
       "      <td>Carrera Men Dial steel finish strap Silver Wat...</td>\n",
       "      <td>disliked</td>\n",
       "    </tr>\n",
       "    <tr>\n",
       "      <th>89</th>\n",
       "      <td>33822</td>\n",
       "      <td>Puma Men Axis White &amp; Grey Sports Shoes</td>\n",
       "      <td>disliked</td>\n",
       "    </tr>\n",
       "    <tr>\n",
       "      <th>195</th>\n",
       "      <td>52486</td>\n",
       "      <td>Red Rose Maroon Camisole</td>\n",
       "      <td>disliked</td>\n",
       "    </tr>\n",
       "    <tr>\n",
       "      <th>...</th>\n",
       "      <td>...</td>\n",
       "      <td>...</td>\n",
       "      <td>...</td>\n",
       "    </tr>\n",
       "    <tr>\n",
       "      <th>22132</th>\n",
       "      <td>59073</td>\n",
       "      <td>Peri Peri Women Skin Bra</td>\n",
       "      <td>disliked</td>\n",
       "    </tr>\n",
       "    <tr>\n",
       "      <th>22145</th>\n",
       "      <td>17639</td>\n",
       "      <td>Puma Women Darsey Black Scarf</td>\n",
       "      <td>disliked</td>\n",
       "    </tr>\n",
       "    <tr>\n",
       "      <th>22155</th>\n",
       "      <td>13863</td>\n",
       "      <td>Scullers Men Check Blue Shirts</td>\n",
       "      <td>disliked</td>\n",
       "    </tr>\n",
       "    <tr>\n",
       "      <th>22194</th>\n",
       "      <td>28474</td>\n",
       "      <td>Urban Yoga Women Pink Top</td>\n",
       "      <td>disliked</td>\n",
       "    </tr>\n",
       "    <tr>\n",
       "      <th>22199</th>\n",
       "      <td>43179</td>\n",
       "      <td>Fastrack Men White Dial Watch</td>\n",
       "      <td>disliked</td>\n",
       "    </tr>\n",
       "  </tbody>\n",
       "</table>\n",
       "<p>400 rows × 3 columns</p>\n",
       "</div>"
      ],
      "text/plain": [
       "          id                                 productDisplayName      avis\n",
       "26     48311               Pitaraa Women Bronze Beaded Bracelet  disliked\n",
       "40     18839                Peter England Men Formal Black Belt  disliked\n",
       "58     11188  Carrera Men Dial steel finish strap Silver Wat...  disliked\n",
       "89     33822            Puma Men Axis White & Grey Sports Shoes  disliked\n",
       "195    52486                           Red Rose Maroon Camisole  disliked\n",
       "...      ...                                                ...       ...\n",
       "22132  59073                           Peri Peri Women Skin Bra  disliked\n",
       "22145  17639                      Puma Women Darsey Black Scarf  disliked\n",
       "22155  13863                     Scullers Men Check Blue Shirts  disliked\n",
       "22194  28474                          Urban Yoga Women Pink Top  disliked\n",
       "22199  43179                      Fastrack Men White Dial Watch  disliked\n",
       "\n",
       "[400 rows x 3 columns]"
      ]
     },
     "execution_count": 229,
     "metadata": {},
     "output_type": "execute_result"
    }
   ],
   "source": [
    "print(\"récupération des photos likées\")\n",
    "df_disliked = df.loc[df['id'].isin(photo_disliked_by_user)]\n",
    "df_disliked[\"avis\"] = 'disliked'\n",
    "df_disliked"
   ]
  },
  {
   "cell_type": "code",
   "execution_count": 230,
   "metadata": {},
   "outputs": [
    {
     "data": {
      "text/html": [
       "<div>\n",
       "<style scoped>\n",
       "    .dataframe tbody tr th:only-of-type {\n",
       "        vertical-align: middle;\n",
       "    }\n",
       "\n",
       "    .dataframe tbody tr th {\n",
       "        vertical-align: top;\n",
       "    }\n",
       "\n",
       "    .dataframe thead th {\n",
       "        text-align: right;\n",
       "    }\n",
       "</style>\n",
       "<table border=\"1\" class=\"dataframe\">\n",
       "  <thead>\n",
       "    <tr style=\"text-align: right;\">\n",
       "      <th></th>\n",
       "      <th>id</th>\n",
       "      <th>productDisplayName</th>\n",
       "      <th>avis</th>\n",
       "    </tr>\n",
       "  </thead>\n",
       "  <tbody>\n",
       "    <tr>\n",
       "      <th>4</th>\n",
       "      <td>53759</td>\n",
       "      <td>Puma Men Grey T-shirt</td>\n",
       "      <td>liked</td>\n",
       "    </tr>\n",
       "    <tr>\n",
       "      <th>36</th>\n",
       "      <td>58183</td>\n",
       "      <td>Rocky S Women White Handbag</td>\n",
       "      <td>liked</td>\n",
       "    </tr>\n",
       "    <tr>\n",
       "      <th>66</th>\n",
       "      <td>43993</td>\n",
       "      <td>Police Women Passion Perfume</td>\n",
       "      <td>liked</td>\n",
       "    </tr>\n",
       "    <tr>\n",
       "      <th>77</th>\n",
       "      <td>2872</td>\n",
       "      <td>Catwalk Women Leather Flats</td>\n",
       "      <td>liked</td>\n",
       "    </tr>\n",
       "    <tr>\n",
       "      <th>106</th>\n",
       "      <td>8746</td>\n",
       "      <td>Crocs Kids Navy Blue Clogs</td>\n",
       "      <td>liked</td>\n",
       "    </tr>\n",
       "    <tr>\n",
       "      <th>...</th>\n",
       "      <td>...</td>\n",
       "      <td>...</td>\n",
       "      <td>...</td>\n",
       "    </tr>\n",
       "    <tr>\n",
       "      <th>22132</th>\n",
       "      <td>59073</td>\n",
       "      <td>Peri Peri Women Skin Bra</td>\n",
       "      <td>disliked</td>\n",
       "    </tr>\n",
       "    <tr>\n",
       "      <th>22145</th>\n",
       "      <td>17639</td>\n",
       "      <td>Puma Women Darsey Black Scarf</td>\n",
       "      <td>disliked</td>\n",
       "    </tr>\n",
       "    <tr>\n",
       "      <th>22155</th>\n",
       "      <td>13863</td>\n",
       "      <td>Scullers Men Check Blue Shirts</td>\n",
       "      <td>disliked</td>\n",
       "    </tr>\n",
       "    <tr>\n",
       "      <th>22194</th>\n",
       "      <td>28474</td>\n",
       "      <td>Urban Yoga Women Pink Top</td>\n",
       "      <td>disliked</td>\n",
       "    </tr>\n",
       "    <tr>\n",
       "      <th>22199</th>\n",
       "      <td>43179</td>\n",
       "      <td>Fastrack Men White Dial Watch</td>\n",
       "      <td>disliked</td>\n",
       "    </tr>\n",
       "  </tbody>\n",
       "</table>\n",
       "<p>2766 rows × 3 columns</p>\n",
       "</div>"
      ],
      "text/plain": [
       "          id              productDisplayName      avis\n",
       "4      53759           Puma Men Grey T-shirt     liked\n",
       "36     58183     Rocky S Women White Handbag     liked\n",
       "66     43993    Police Women Passion Perfume     liked\n",
       "77      2872     Catwalk Women Leather Flats     liked\n",
       "106     8746      Crocs Kids Navy Blue Clogs     liked\n",
       "...      ...                             ...       ...\n",
       "22132  59073        Peri Peri Women Skin Bra  disliked\n",
       "22145  17639   Puma Women Darsey Black Scarf  disliked\n",
       "22155  13863  Scullers Men Check Blue Shirts  disliked\n",
       "22194  28474       Urban Yoga Women Pink Top  disliked\n",
       "22199  43179   Fastrack Men White Dial Watch  disliked\n",
       "\n",
       "[2766 rows x 3 columns]"
      ]
     },
     "execution_count": 230,
     "metadata": {},
     "output_type": "execute_result"
    }
   ],
   "source": [
    "frames = [df_liked, df_disliked]\n",
    "result = pd.concat(frames)\n",
    "result"
   ]
  },
  {
   "cell_type": "markdown",
   "metadata": {},
   "source": [
    "Nous avons donc les descriptions des photos liké et disliké par notre utilisateur.  \n",
    "Générons alors deux classes: les photos likées et les photos deslikées"
   ]
  },
  {
   "cell_type": "code",
   "execution_count": 231,
   "metadata": {},
   "outputs": [
    {
     "name": "stdout",
     "output_type": "stream",
     "text": [
      "liked       2366\n",
      "disliked     400\n",
      "Name: avis, dtype: int64\n"
     ]
    }
   ],
   "source": [
    "# Compte les catégories (like/dislike)\n",
    "# Affiche le résultats\n",
    "classes = result[\"avis\"]\n",
    "print(classes.value_counts())"
   ]
  },
  {
   "cell_type": "markdown",
   "metadata": {},
   "source": [
    "### 3. Mise en forme des données\n",
    "On transpose les labels de la classes en valeur binaire:  \n",
    "0 = disliked and 1 = liked et les mettres dans une liste Y"
   ]
  },
  {
   "cell_type": "code",
   "execution_count": 232,
   "metadata": {},
   "outputs": [],
   "source": [
    "encoder = LabelEncoder()\n",
    "Y = encoder.fit_transform(classes)"
   ]
  },
  {
   "cell_type": "markdown",
   "metadata": {},
   "source": [
    "Récupération des descriptions des photos likées ou dislikés de l'utilisateur"
   ]
  },
  {
   "cell_type": "code",
   "execution_count": 233,
   "metadata": {},
   "outputs": [
    {
     "name": "stdout",
     "output_type": "stream",
     "text": [
      "4                 Puma Men Grey T-shirt\n",
      "36          Rocky S Women White Handbag\n",
      "66         Police Women Passion Perfume\n",
      "77          Catwalk Women Leather Flats\n",
      "106          Crocs Kids Navy Blue Clogs\n",
      "                      ...              \n",
      "22132          Peri Peri Women Skin Bra\n",
      "22145     Puma Women Darsey Black Scarf\n",
      "22155    Scullers Men Check Blue Shirts\n",
      "22194         Urban Yoga Women Pink Top\n",
      "22199     Fastrack Men White Dial Watch\n",
      "Name: productDisplayName, Length: 2766, dtype: object\n"
     ]
    }
   ],
   "source": [
    "# Stockage des description\n",
    "descriptions = result[\"Description\"]\n",
    "print(descriptions)"
   ]
  },
  {
   "cell_type": "markdown",
   "metadata": {},
   "source": [
    "Nous allons appliquer le même traitement de text-mining que dans l'approche précédente."
   ]
  },
  {
   "cell_type": "code",
   "execution_count": 234,
   "metadata": {},
   "outputs": [],
   "source": [
    "# Procédure qui remplace les chiffres/nombres par 'numbr'\n",
    "processed = descriptions.str.replace(r'\\d+(\\.\\d+)?', 'numbr')\n",
    "\n",
    "# Suppression de la ponctuation\n",
    "processed = processed.str.replace(r'[^\\w\\d\\s]', ' ')\n",
    "\n",
    "# Remplacement des espaces multiples par des espaces simples\n",
    "processed = processed.str.replace(r'\\s+', ' ')\n",
    "\n",
    "# Mise en minuscule des mots\n",
    "processed = processed.str.lower()"
   ]
  },
  {
   "cell_type": "code",
   "execution_count": 235,
   "metadata": {},
   "outputs": [
    {
     "name": "stdout",
     "output_type": "stream",
     "text": [
      "4                 puma men grey t shirt\n",
      "36          rocky s women white handbag\n",
      "66         police women passion perfume\n",
      "77          catwalk women leather flats\n",
      "106          crocs kids navy blue clogs\n",
      "                      ...              \n",
      "22132          peri peri women skin bra\n",
      "22145     puma women darsey black scarf\n",
      "22155    scullers men check blue shirts\n",
      "22194         urban yoga women pink top\n",
      "22199     fastrack men white dial watch\n",
      "Name: productDisplayName, Length: 2766, dtype: object\n"
     ]
    }
   ],
   "source": [
    "# Affiche après Pré-traitement phase 1\n",
    "print(processed)"
   ]
  },
  {
   "cell_type": "markdown",
   "metadata": {},
   "source": [
    "Nettoyage des données: STOP-WORDS, STEMMING"
   ]
  },
  {
   "cell_type": "code",
   "execution_count": 236,
   "metadata": {},
   "outputs": [],
   "source": [
    "# \"Hyperparamètres\"\n",
    "stop_words = set(stopwords.words('english'))\n",
    "# On peut modeler la liste des mots non pris en compte\n",
    "stop_words.update(stop_words,{'.',',','!','?','\\'s', '<', '>', ':', ';', '/', '(', ')', '-', '_', '{', '}', '--', '...'})\n",
    "lmtzr=WordNetLemmatizer()\n",
    "ps = PorterStemmer()\n",
    "\n",
    "def split(description):\n",
    "    \"\"\" Fonction qui prend en paramètre un texte (une description d'image) et qui \n",
    "    renvoie la liste de ses mots ayant été filtrés puis ayant subits certaines \n",
    "    transformations: lemming puis stemming \"\"\"\n",
    "    # Tokenisation ************************************************************\n",
    "    # Découpage du texte en mots (words est une liste de chaine de caractère)\n",
    "    words = word_tokenize(str(description))\n",
    "\n",
    "    # Stop-words **************************************************************\n",
    "    # Filtrage des mots : on supprime de words ceux qui sont contenus dans \n",
    "    # stop_words car ils sont supposés avoir trop peu de sens.\n",
    "    # (mots trop communs, mots de liaisons, ponctuation)\n",
    "    words_clean = []\n",
    "    for word in words:\n",
    "        if word.lower() not in stop_words:\n",
    "            words_clean.append(word)\n",
    "    \n",
    "    # Lemming *****************************************************************\n",
    "    # Transformation des mots en un unique mot-clé (lemme) les représentant. \n",
    "    # Ex: divided, dividing, divided, divides -> divide\n",
    "    words_lemmed = [lmtzr.lemmatize(word) for word in words_clean]\n",
    "            \n",
    "    # Stemming ****************************************************************\n",
    "    # Transformation des mots en un unique radical les représentant. \n",
    "    # Ex: divided, dividing, divided, divides -> divid\n",
    "    words_stemmed = [ps.stem(word) for word in words_lemmed]\n",
    "    words_stemmed = listToString(words_stemmed)\n",
    "    return words_stemmed\n",
    "\n",
    "def listToString(s): \n",
    "    # initialize an empty string\n",
    "    str1 = \" \" \n",
    "    # return string  \n",
    "    return (str1.join(s))\n",
    "\n",
    "# Suppression des mots-d'arrêts\n",
    "stop_words = set(stopwords.words('english'))\n",
    "processed = processed.apply(split)"
   ]
  },
  {
   "cell_type": "code",
   "execution_count": 237,
   "metadata": {},
   "outputs": [
    {
     "name": "stdout",
     "output_type": "stream",
     "text": [
      "4                  puma men grey shirt\n",
      "36           rocki woman white handbag\n",
      "66          polic woman passion perfum\n",
      "77          catwalk woman leather flat\n",
      "106            croc kid navi blue clog\n",
      "                     ...              \n",
      "22132         peri peri woman skin bra\n",
      "22145    puma woman darsey black scarf\n",
      "22155     sculler men check blue shirt\n",
      "22194        urban yoga woman pink top\n",
      "22199    fastrack men white dial watch\n",
      "Name: productDisplayName, Length: 2766, dtype: object\n"
     ]
    }
   ],
   "source": [
    "# Affiche après Pré-traitement\n",
    "print(processed)"
   ]
  },
  {
   "cell_type": "markdown",
   "metadata": {},
   "source": [
    "### 4. Génération du Bag-of-words"
   ]
  },
  {
   "cell_type": "code",
   "execution_count": 238,
   "metadata": {},
   "outputs": [],
   "source": [
    "# Génération du Bag-of-words\n",
    "bag = []\n",
    "\n",
    "# On met les mots dans le Bag\n",
    "for message in processed:\n",
    "    words = word_tokenize(message)\n",
    "    for w in words:\n",
    "        bag.append(w)\n",
    "\n",
    "bag = nltk.FreqDist(bag)"
   ]
  },
  {
   "cell_type": "code",
   "execution_count": 239,
   "metadata": {},
   "outputs": [
    {
     "name": "stdout",
     "output_type": "stream",
     "text": [
      "Le nombre de mots: 1749\n",
      "Les mots les plus communs sont: [('men', 1405), ('woman', 937), ('black', 585), ('shirt', 525), ('blue', 439), ('white', 380), ('shoe', 356), ('print', 218), ('numbr', 210), ('grey', 204), ('brown', 192), ('red', 188), ('watch', 155), ('casual', 153), ('nike', 144)]\n"
     ]
    },
    {
     "data": {
      "text/html": [
       "<div>\n",
       "<style scoped>\n",
       "    .dataframe tbody tr th:only-of-type {\n",
       "        vertical-align: middle;\n",
       "    }\n",
       "\n",
       "    .dataframe tbody tr th {\n",
       "        vertical-align: top;\n",
       "    }\n",
       "\n",
       "    .dataframe thead th {\n",
       "        text-align: right;\n",
       "    }\n",
       "</style>\n",
       "<table border=\"1\" class=\"dataframe\">\n",
       "  <thead>\n",
       "    <tr style=\"text-align: right;\">\n",
       "      <th></th>\n",
       "      <th>0</th>\n",
       "      <th>1</th>\n",
       "      <th>2</th>\n",
       "      <th>3</th>\n",
       "      <th>4</th>\n",
       "      <th>5</th>\n",
       "      <th>6</th>\n",
       "      <th>7</th>\n",
       "      <th>8</th>\n",
       "      <th>9</th>\n",
       "      <th>10</th>\n",
       "      <th>11</th>\n",
       "      <th>12</th>\n",
       "      <th>13</th>\n",
       "      <th>14</th>\n",
       "    </tr>\n",
       "  </thead>\n",
       "  <tbody>\n",
       "    <tr>\n",
       "      <th>0</th>\n",
       "      <td>(men, 1405)</td>\n",
       "      <td>(woman, 937)</td>\n",
       "      <td>(black, 585)</td>\n",
       "      <td>(shirt, 525)</td>\n",
       "      <td>(blue, 439)</td>\n",
       "      <td>(white, 380)</td>\n",
       "      <td>(shoe, 356)</td>\n",
       "      <td>(print, 218)</td>\n",
       "      <td>(numbr, 210)</td>\n",
       "      <td>(grey, 204)</td>\n",
       "      <td>(brown, 192)</td>\n",
       "      <td>(red, 188)</td>\n",
       "      <td>(watch, 155)</td>\n",
       "      <td>(casual, 153)</td>\n",
       "      <td>(nike, 144)</td>\n",
       "    </tr>\n",
       "  </tbody>\n",
       "</table>\n",
       "</div>"
      ],
      "text/plain": [
       "            0             1             2             3            4   \\\n",
       "0  (men, 1405)  (woman, 937)  (black, 585)  (shirt, 525)  (blue, 439)   \n",
       "\n",
       "             5            6             7             8            9   \\\n",
       "0  (white, 380)  (shoe, 356)  (print, 218)  (numbr, 210)  (grey, 204)   \n",
       "\n",
       "             10          11            12             13           14  \n",
       "0  (brown, 192)  (red, 188)  (watch, 155)  (casual, 153)  (nike, 144)  "
      ]
     },
     "execution_count": 239,
     "metadata": {},
     "output_type": "execute_result"
    }
   ],
   "source": [
    "# Affichage des mots les plus communs (top 15)\n",
    "print('Le nombre de mots: {}'.format(len(bag)))\n",
    "print('Les mots les plus communs sont: {}'.format(bag.most_common(15)))\n",
    "pd.DataFrame([bag.most_common(15)])"
   ]
  },
  {
   "cell_type": "code",
   "execution_count": 240,
   "metadata": {},
   "outputs": [],
   "source": [
    "# Utilisation des 2500 mots les plus communs comme références\n",
    "word_features = list(bag.keys())[:2500]"
   ]
  },
  {
   "cell_type": "code",
   "execution_count": 241,
   "metadata": {},
   "outputs": [],
   "source": [
    "# Fonction qui retourne les mots présent dans la chaine de caractère et dans word_features\n",
    "def find_features(message):\n",
    "    words = word_tokenize(message)\n",
    "    features = {}\n",
    "    for word in word_features:\n",
    "        features[word] = (word in words)\n",
    "\n",
    "    return features"
   ]
  },
  {
   "cell_type": "code",
   "execution_count": 242,
   "metadata": {},
   "outputs": [],
   "source": [
    "# Automatision de la fonction find_feature\n",
    "messages = list(zip(processed, Y))\n",
    "# Echantillonnage des données\n",
    "seed=1\n",
    "np.random.seed = seed\n",
    "np.random.shuffle(messages)\n",
    "featuresets = [(find_features(text), label) for (text, label) in messages]"
   ]
  },
  {
   "cell_type": "markdown",
   "metadata": {},
   "source": [
    "### 5. Constitution du training set et du testing set "
   ]
  },
  {
   "cell_type": "code",
   "execution_count": 243,
   "metadata": {},
   "outputs": [
    {
     "name": "stdout",
     "output_type": "stream",
     "text": [
      "taille du jeu de données de training: 2074\n",
      "taille du jeu de données de testing: 692\n"
     ]
    }
   ],
   "source": [
    "\n",
    "# Mise en place:\n",
    "# - training set = utilisé par l'algorithme pour s'entrainer\n",
    "# - testing set = permet de mesurer l'erreur du model final sur des données qu'il n'a jamais vu\n",
    "from sklearn import model_selection\n",
    "\n",
    "# Répartition: 75% pour le training set et 25 % pour le testing set\n",
    "training, testing = model_selection.train_test_split(featuresets, test_size = 0.25, random_state=seed)\n",
    "print(f\"taille du jeu de données de training: {len(training)}\")\n",
    "print(f\"taille du jeu de données de testing: {len(testing)}\")\n",
    "\n",
    "#Training pour les méta_modèles (cf partie 4.2)\n",
    "training_n2=training\n",
    "training_n3=training"
   ]
  },
  {
   "cell_type": "markdown",
   "metadata": {},
   "source": [
    "### 6. Aperçu visuel du jeu de données de testing"
   ]
  },
  {
   "cell_type": "code",
   "execution_count": 244,
   "metadata": {},
   "outputs": [
    {
     "data": {
      "text/html": [
       "<div>\n",
       "<style scoped>\n",
       "    .dataframe tbody tr th:only-of-type {\n",
       "        vertical-align: middle;\n",
       "    }\n",
       "\n",
       "    .dataframe tbody tr th {\n",
       "        vertical-align: top;\n",
       "    }\n",
       "\n",
       "    .dataframe thead th {\n",
       "        text-align: right;\n",
       "    }\n",
       "</style>\n",
       "<table border=\"1\" class=\"dataframe\">\n",
       "  <thead>\n",
       "    <tr style=\"text-align: right;\">\n",
       "      <th></th>\n",
       "      <th>0</th>\n",
       "      <th>1</th>\n",
       "      <th>2</th>\n",
       "      <th>3</th>\n",
       "      <th>4</th>\n",
       "      <th>5</th>\n",
       "      <th>6</th>\n",
       "      <th>7</th>\n",
       "      <th>8</th>\n",
       "      <th>9</th>\n",
       "      <th>...</th>\n",
       "      <th>682</th>\n",
       "      <th>683</th>\n",
       "      <th>684</th>\n",
       "      <th>685</th>\n",
       "      <th>686</th>\n",
       "      <th>687</th>\n",
       "      <th>688</th>\n",
       "      <th>689</th>\n",
       "      <th>690</th>\n",
       "      <th>691</th>\n",
       "    </tr>\n",
       "  </thead>\n",
       "  <tbody>\n",
       "    <tr>\n",
       "      <th>0</th>\n",
       "      <td>({'puma': False, 'men': False, 'grey': False, ...</td>\n",
       "      <td>({'puma': False, 'men': False, 'grey': False, ...</td>\n",
       "      <td>({'puma': False, 'men': False, 'grey': False, ...</td>\n",
       "      <td>({'puma': False, 'men': True, 'grey': True, 's...</td>\n",
       "      <td>({'puma': False, 'men': True, 'grey': False, '...</td>\n",
       "      <td>({'puma': False, 'men': False, 'grey': True, '...</td>\n",
       "      <td>({'puma': False, 'men': False, 'grey': False, ...</td>\n",
       "      <td>({'puma': False, 'men': True, 'grey': False, '...</td>\n",
       "      <td>({'puma': False, 'men': False, 'grey': False, ...</td>\n",
       "      <td>({'puma': False, 'men': True, 'grey': False, '...</td>\n",
       "      <td>...</td>\n",
       "      <td>({'puma': False, 'men': False, 'grey': False, ...</td>\n",
       "      <td>({'puma': False, 'men': False, 'grey': False, ...</td>\n",
       "      <td>({'puma': False, 'men': False, 'grey': False, ...</td>\n",
       "      <td>({'puma': False, 'men': True, 'grey': False, '...</td>\n",
       "      <td>({'puma': False, 'men': True, 'grey': False, '...</td>\n",
       "      <td>({'puma': False, 'men': False, 'grey': False, ...</td>\n",
       "      <td>({'puma': False, 'men': True, 'grey': False, '...</td>\n",
       "      <td>({'puma': False, 'men': False, 'grey': False, ...</td>\n",
       "      <td>({'puma': False, 'men': True, 'grey': False, '...</td>\n",
       "      <td>({'puma': False, 'men': True, 'grey': False, '...</td>\n",
       "    </tr>\n",
       "  </tbody>\n",
       "</table>\n",
       "<p>1 rows × 692 columns</p>\n",
       "</div>"
      ],
      "text/plain": [
       "                                                 0    \\\n",
       "0  ({'puma': False, 'men': False, 'grey': False, ...   \n",
       "\n",
       "                                                 1    \\\n",
       "0  ({'puma': False, 'men': False, 'grey': False, ...   \n",
       "\n",
       "                                                 2    \\\n",
       "0  ({'puma': False, 'men': False, 'grey': False, ...   \n",
       "\n",
       "                                                 3    \\\n",
       "0  ({'puma': False, 'men': True, 'grey': True, 's...   \n",
       "\n",
       "                                                 4    \\\n",
       "0  ({'puma': False, 'men': True, 'grey': False, '...   \n",
       "\n",
       "                                                 5    \\\n",
       "0  ({'puma': False, 'men': False, 'grey': True, '...   \n",
       "\n",
       "                                                 6    \\\n",
       "0  ({'puma': False, 'men': False, 'grey': False, ...   \n",
       "\n",
       "                                                 7    \\\n",
       "0  ({'puma': False, 'men': True, 'grey': False, '...   \n",
       "\n",
       "                                                 8    \\\n",
       "0  ({'puma': False, 'men': False, 'grey': False, ...   \n",
       "\n",
       "                                                 9    ...  \\\n",
       "0  ({'puma': False, 'men': True, 'grey': False, '...  ...   \n",
       "\n",
       "                                                 682  \\\n",
       "0  ({'puma': False, 'men': False, 'grey': False, ...   \n",
       "\n",
       "                                                 683  \\\n",
       "0  ({'puma': False, 'men': False, 'grey': False, ...   \n",
       "\n",
       "                                                 684  \\\n",
       "0  ({'puma': False, 'men': False, 'grey': False, ...   \n",
       "\n",
       "                                                 685  \\\n",
       "0  ({'puma': False, 'men': True, 'grey': False, '...   \n",
       "\n",
       "                                                 686  \\\n",
       "0  ({'puma': False, 'men': True, 'grey': False, '...   \n",
       "\n",
       "                                                 687  \\\n",
       "0  ({'puma': False, 'men': False, 'grey': False, ...   \n",
       "\n",
       "                                                 688  \\\n",
       "0  ({'puma': False, 'men': True, 'grey': False, '...   \n",
       "\n",
       "                                                 689  \\\n",
       "0  ({'puma': False, 'men': False, 'grey': False, ...   \n",
       "\n",
       "                                                 690  \\\n",
       "0  ({'puma': False, 'men': True, 'grey': False, '...   \n",
       "\n",
       "                                                 691  \n",
       "0  ({'puma': False, 'men': True, 'grey': False, '...  \n",
       "\n",
       "[1 rows x 692 columns]"
      ]
     },
     "execution_count": 244,
     "metadata": {},
     "output_type": "execute_result"
    }
   ],
   "source": [
    "pd.DataFrame([testing])"
   ]
  },
  {
   "cell_type": "markdown",
   "metadata": {},
   "source": [
    "On a deux matrices contenant chacune des sous listes de mots de chaque descriptions avec le label (liké ou disliké)"
   ]
  },
  {
   "cell_type": "markdown",
   "metadata": {},
   "source": [
    "## B. Apprentissage supervisé"
   ]
  },
  {
   "cell_type": "markdown",
   "metadata": {},
   "source": [
    "### 1. Classification avec Scikit-Learn"
   ]
  },
  {
   "cell_type": "markdown",
   "metadata": {},
   "source": [
    "Maintenant que nous avons notre jeu de données traité, nous allons utiliser un classifieur de Sklearn. \n",
    "\n",
    "Il faut néanmoins choisir le classifieur adéquat pour obtenir le meilleur résultat possible. Ainsi dans cette partie nous testerons différents classifieur un à un.\n",
    "\n",
    "Comme le choix des hyperparamètres est compliqué, nous conservevons la plupart hyperparamères par défaut mais en faisant varier certains pour comparer la précision selon le paramètre modifié. \n",
    "\n",
    "Nous utilisons également l'incateur \"accuracy\" pour évaluer la performance globale du modèle. Sa formule est:\n",
    "\n",
    "$$(TP+TN)/(TP+TN+FP+FN)$$\n",
    " \n",
    "- TP = Vrai positif \n",
    "- TN = Vrai négatif \n",
    "- FP = Faux posifif \n",
    "- FN = Faux négatif\n",
    "\n",
    "cf: https://stanford.edu/~shervine/l/fr/teaching/cs-229/pense-bete-machine-learning-petites-astuces"
   ]
  },
  {
   "cell_type": "code",
   "execution_count": 245,
   "metadata": {},
   "outputs": [],
   "source": [
    "#Importation de Scikit-learn\n",
    "from nltk.classify.scikitlearn import SklearnClassifier\n",
    "from sklearn.svm import SVC\n",
    "from sklearn.neighbors import KNeighborsClassifier\n",
    "from sklearn.tree import DecisionTreeClassifier\n",
    "from sklearn.ensemble import RandomForestClassifier\n",
    "from sklearn.linear_model import LogisticRegression, SGDClassifier\n",
    "from sklearn.naive_bayes import MultinomialNB\n",
    "from sklearn.svm import SVC\n",
    "from sklearn.metrics import classification_report, accuracy_score, confusion_matrix\n",
    "from sklearn.ensemble import VotingClassifier"
   ]
  },
  {
   "cell_type": "markdown",
   "metadata": {},
   "source": [
    "#### 1.a) Test du classifieur SVC (Support Vector Classification)\n",
    "https://scikit-learn.org/stable/modules/generated/sklearn.svm.SVC.html"
   ]
  },
  {
   "cell_type": "code",
   "execution_count": 246,
   "metadata": {},
   "outputs": [
    {
     "name": "stdout",
     "output_type": "stream",
     "text": [
      "La précision de classification est de 83.09%\n"
     ]
    }
   ],
   "source": [
    "# Paramétrage du classifier \n",
    "# (kernel = poly/rbf/sigmoid/linear/precomputed/callable)\n",
    "model = SklearnClassifier(SVC(kernel = 'linear'))\n",
    "\n",
    "# On entraine le model\n",
    "model.train(training)\n",
    "\n",
    "# On test le classifier en utilisant l'échantillon \"testing\"\n",
    "accuracy = nltk.classify.accuracy(model, testing)*100\n",
    "accuracy = (round(accuracy,2))\n",
    "print (\"La précision de classification est de \"+str(accuracy)+\"%\")"
   ]
  },
  {
   "cell_type": "markdown",
   "metadata": {},
   "source": [
    "Essayons à présent de faire varier les hyperparamètres afin d'optimiser le classifieur SVC"
   ]
  },
  {
   "cell_type": "code",
   "execution_count": 247,
   "metadata": {},
   "outputs": [
    {
     "data": {
      "image/png": "[encoded data removed]",
      "text/plain": [
       "<Figure size 432x288 with 1 Axes>"
      ]
     },
     "metadata": {
      "needs_background": "light"
     },
     "output_type": "display_data"
    }
   ],
   "source": [
    "# Les paramètres\n",
    "K=['linear','poly','rbf','sigmoid']\n",
    "\n",
    "# Les résultats\n",
    "AccuracyTAB=[]\n",
    "\n",
    "# Test du classifieur en modifiant les Kernels\n",
    "for i in range(len(K)):\n",
    "    model = SklearnClassifier(SVC(kernel = K[i]))\n",
    "    model.train(training)\n",
    "    accuracy = nltk.classify.accuracy(model, testing)*100\n",
    "    AccuracyTAB.append(round(accuracy,2))\n",
    "    \n",
    "# Affichage des courbes\n",
    "plt.grid(True)\n",
    "plt.plot(K,AccuracyTAB)\n",
    "plt.title(\"Performance globale en modifiant le kernel\")\n",
    "plt.xlabel(\"Type de Kernel\")\n",
    "plt.ylabel(\"Performance %\")\n",
    "plt.show()"
   ]
  },
  {
   "cell_type": "markdown",
   "metadata": {},
   "source": [
    "Le graphe permet de mettre en évidence le choix du meilleur hyperparamètre \"kernel\" pour l'algorithme de classification SVC dans ce cas d'utilisation. Il existe d'autres hyperparamètres mais nous n'allons les modifier.\n",
    "\n",
    "Essayons de faire de même avec plusieurs avec d'autres algorithmes de classification"
   ]
  },
  {
   "cell_type": "markdown",
   "metadata": {},
   "source": [
    "#### 1.b) Test du classifieur DecisionTreeClassifier\n",
    "https://scikit-learn.org/stable/modules/generated/sklearn.tree.DecisionTreeClassifier.html"
   ]
  },
  {
   "cell_type": "code",
   "execution_count": 248,
   "metadata": {},
   "outputs": [
    {
     "name": "stdout",
     "output_type": "stream",
     "text": [
      "La précision de classification est de 76.01%\n"
     ]
    }
   ],
   "source": [
    "model = SklearnClassifier(DecisionTreeClassifier())\n",
    "# On entraine le model\n",
    "model.train(training)\n",
    "\n",
    "# On test le classifier en utilisant l'échantillon \"testing\"\n",
    "accuracy = nltk.classify.accuracy(model, testing)*100\n",
    "accuracy = (round(accuracy,2))\n",
    "print (\"La précision de classification est de \"+str(accuracy)+\"%\")"
   ]
  },
  {
   "cell_type": "markdown",
   "metadata": {},
   "source": [
    "#### 1.c) Test du classifieur KNN (KNeighborsClassifier)\n",
    "https://scikit-learn.org/stable/modules/generated/sklearn.neighbors.KNeighborsClassifier.html"
   ]
  },
  {
   "cell_type": "code",
   "execution_count": 249,
   "metadata": {},
   "outputs": [
    {
     "data": {
      "image/png": "[encoded data removed]",
      "text/plain": [
       "<Figure size 432x288 with 1 Axes>"
      ]
     },
     "metadata": {
      "needs_background": "light"
     },
     "output_type": "display_data"
    }
   ],
   "source": [
    "# Les paramètres\n",
    "N=[1,2,3,4,5,6,7,8,9, 20, 50, 100]\n",
    "\n",
    "# Les résultats\n",
    "AccuracyTAB=[]\n",
    "\n",
    "# Test du classifieur en modifiant le nombre de voisin\n",
    "for i in range(len(N)):\n",
    "    model = SklearnClassifier(KNeighborsClassifier(n_neighbors= N[i]))\n",
    "    model.train(training)\n",
    "    accuracy = nltk.classify.accuracy(model, testing)*100\n",
    "    AccuracyTAB.append(round(accuracy,2))\n",
    "    \n",
    "# Affichage des courbes\n",
    "plt.grid(True)\n",
    "plt.plot(N,AccuracyTAB)\n",
    "plt.title(\"Performance globale en modifiant le nombre de voisin\")\n",
    "plt.xlabel(\"Nombre de plus proche voisin\")\n",
    "plt.ylabel(\"Performance %\")\n",
    "plt.show()"
   ]
  },
  {
   "cell_type": "markdown",
   "metadata": {},
   "source": [
    "#### 1.d) Test du classifieur RandomForestClassifier\n",
    "https://scikit-learn.org/stable/modules/generated/sklearn.ensemble.RandomForestClassifier.html"
   ]
  },
  {
   "cell_type": "code",
   "execution_count": 250,
   "metadata": {},
   "outputs": [
    {
     "data": {
      "image/png": "[encoded data removed]",
      "text/plain": [
       "<Figure size 432x288 with 1 Axes>"
      ]
     },
     "metadata": {
      "needs_background": "light"
     },
     "output_type": "display_data"
    }
   ],
   "source": [
    "# Les paramètres\n",
    "E=np.arange(10, 100, 10)\n",
    "\n",
    "# Les résultats\n",
    "AccuracyTAB=[]\n",
    "\n",
    "# Test du classifieur en modifiant le nombre de forêt\n",
    "for i in range(len(E)):\n",
    "    model = SklearnClassifier(RandomForestClassifier(n_estimators=E[i]))\n",
    "    model.train(training)\n",
    "    accuracy = nltk.classify.accuracy(model, testing)*100\n",
    "    AccuracyTAB.append(round(accuracy,2))\n",
    "    \n",
    "# Affichage des courbes\n",
    "plt.grid(True)\n",
    "plt.plot(E,AccuracyTAB)\n",
    "plt.title(\"Performance globale en modifiant le nombre de forêt\")\n",
    "plt.xlabel(\"Nombre d'arbre de forêt\")\n",
    "plt.ylabel(\"Performance %\")\n",
    "plt.show()"
   ]
  },
  {
   "cell_type": "markdown",
   "metadata": {},
   "source": [
    "#### 1.e) Test du classifieur LogistiqueRegression\n",
    "https://scikit-learn.org/stable/modules/generated/sklearn.linear_model.LogisticRegression.html"
   ]
  },
  {
   "cell_type": "code",
   "execution_count": 251,
   "metadata": {},
   "outputs": [
    {
     "name": "stderr",
     "output_type": "stream",
     "text": [
      "/Users/jeremy-laurent/opt/anaconda3/lib/python3.8/site-packages/sklearn/linear_model/_sag.py:329: ConvergenceWarning: The max_iter was reached which means the coef_ did not converge\n",
      "  warnings.warn(\"The max_iter was reached which means \"\n",
      "/Users/jeremy-laurent/opt/anaconda3/lib/python3.8/site-packages/sklearn/linear_model/_sag.py:329: ConvergenceWarning: The max_iter was reached which means the coef_ did not converge\n",
      "  warnings.warn(\"The max_iter was reached which means \"\n"
     ]
    },
    {
     "data": {
      "image/png": "[encoded data removed]",
      "text/plain": [
       "<Figure size 432x288 with 1 Axes>"
      ]
     },
     "metadata": {
      "needs_background": "light"
     },
     "output_type": "display_data"
    }
   ],
   "source": [
    "# Les paramètres\n",
    "M=['newton-cg', 'lbfgs', 'liblinear', 'sag', 'saga']\n",
    "\n",
    "# Les résultats\n",
    "AccuracyTAB=[]\n",
    "\n",
    "# Test du classifieur en modifiant le solver\n",
    "for i in range(len(M)):\n",
    "    model = SklearnClassifier(LogisticRegression(solver=M[i]))\n",
    "    model.train(training)\n",
    "    accuracy = nltk.classify.accuracy(model, testing)*100\n",
    "    AccuracyTAB.append(round(accuracy,2))\n",
    "    \n",
    "# Affichage des courbes\n",
    "plt.grid(True)\n",
    "plt.plot(M,AccuracyTAB)\n",
    "plt.title(\"Performance globale en modifiant le solver\")\n",
    "plt.xlabel(\"Type de solver\")\n",
    "plt.ylabel(\"Performance %\")\n",
    "plt.show()"
   ]
  },
  {
   "cell_type": "markdown",
   "metadata": {},
   "source": [
    "#### 1.f) Test du classifieur Naive_bayes.MultinomialNB\n",
    "https://scikit-learn.org/stable/modules/generated/sklearn.naive_bayes.MultinomialNB.html"
   ]
  },
  {
   "cell_type": "code",
   "execution_count": 252,
   "metadata": {},
   "outputs": [
    {
     "data": {
      "image/png": "[encoded data removed]",
      "text/plain": [
       "<Figure size 432x288 with 1 Axes>"
      ]
     },
     "metadata": {
      "needs_background": "light"
     },
     "output_type": "display_data"
    },
    {
     "data": {
      "image/png": "[encoded data removed]",
      "text/plain": [
       "<Figure size 432x288 with 1 Axes>"
      ]
     },
     "metadata": {
      "needs_background": "light"
     },
     "output_type": "display_data"
    },
    {
     "data": {
      "image/png": "[encoded data removed]",
      "text/plain": [
       "<Figure size 432x288 with 1 Axes>"
      ]
     },
     "metadata": {
      "needs_background": "light"
     },
     "output_type": "display_data"
    }
   ],
   "source": [
    "# Les paramètres\n",
    "A=np.arange(0.001, 100, 10)\n",
    "B=np.arange(0.001, 10, 1)\n",
    "C=np.arange(0.001, 1, 0.1)\n",
    "\n",
    "# Les résultats\n",
    "AccuracyTAB=[]\n",
    "AccuracyTAB2=[]\n",
    "AccuracyTAB3=[]\n",
    "\n",
    "# Test du classifieur en modifiant le alpha\n",
    "for i in range(len(A)):\n",
    "    model = SklearnClassifier(MultinomialNB(alpha=A[i]))\n",
    "    model.train(training)\n",
    "    accuracy = nltk.classify.accuracy(model, testing)*100\n",
    "    AccuracyTAB.append(round(accuracy,2))\n",
    "    \n",
    "for i in range(len(B)):\n",
    "    model = SklearnClassifier(MultinomialNB(alpha=B[i]))\n",
    "    model.train(training)\n",
    "    accuracy = nltk.classify.accuracy(model, testing)*100\n",
    "    AccuracyTAB2.append(round(accuracy,2))\n",
    "    \n",
    "for i in range(len(C)):\n",
    "    model = SklearnClassifier(MultinomialNB(alpha=C[i]))\n",
    "    model.train(training)\n",
    "    accuracy = nltk.classify.accuracy(model, testing)*100\n",
    "    AccuracyTAB3.append(round(accuracy,2))\n",
    "    \n",
    "# Affichage des courbes\n",
    "plt.grid(True)\n",
    "plt.plot(A,AccuracyTAB)\n",
    "plt.title(\"Performance globale en modifiant le alpha\")\n",
    "plt.xlabel(\"alpha\")\n",
    "plt.ylabel(\"Performance %\")\n",
    "plt.show()\n",
    "\n",
    "plt.grid(True)\n",
    "plt.plot(B,AccuracyTAB2)\n",
    "plt.title(\"Performance globale en modifiant le alpha\")\n",
    "plt.xlabel(\"alpha\")\n",
    "plt.ylabel(\"Performance %\")\n",
    "plt.show()\n",
    "\n",
    "plt.grid(True)\n",
    "plt.plot(C,AccuracyTAB3)\n",
    "plt.title(\"Performance globale en modifiant le alpha\")\n",
    "plt.xlabel(\"alpha\")\n",
    "plt.ylabel(\"Performance %\")\n",
    "plt.show()"
   ]
  },
  {
   "cell_type": "markdown",
   "metadata": {},
   "source": [
    "### 2. Génération d'un Meta-Classifieur avec Scikit-Learn \n",
    "On adopte le principe des méthodes ensemblistes: c'est à dire utiliser des classifieurs différents (qui ne classent pas de la même manière) pour obtenir de meilleurs résultats. \n",
    "\n",
    "Nous avons déterminé dans la précédente partie des hyperparamètres qui améliore la performance global de chaque algorithme de classfication. Nous allons réaliser deux méta_classifieurs:\n",
    "- meta_modèle normal: qui conservera les hyperparamètres par défaut, puis réalisation du vote entre les classifieurs.\n",
    "- méta_modèle_optimisé: qui aura les hyperparamètres optimisé selon les résultats précédents."
   ]
  },
  {
   "cell_type": "markdown",
   "metadata": {},
   "source": [
    "#### 2.a) Meta_modèle sans optimisation"
   ]
  },
  {
   "cell_type": "code",
   "execution_count": 253,
   "metadata": {},
   "outputs": [
    {
     "name": "stdout",
     "output_type": "stream",
     "text": [
      "Précision de meta_classifieur: 84.393%\n"
     ]
    }
   ],
   "source": [
    "# Modèle individuels\n",
    "KNC=KNeighborsClassifier()\n",
    "DTC=DecisionTreeClassifier()\n",
    "RFC=RandomForestClassifier()\n",
    "LG=LogisticRegression()\n",
    "SGDC=SGDClassifier()\n",
    "M=MultinomialNB()\n",
    "SC=SVC()\n",
    "\n",
    "# Construction du meta-modèle\n",
    "meta_model = SklearnClassifier(VotingClassifier(estimators=[('k1',KNC),('k2',DTC),('k3',RFC),('k4',LG),('k5',SGDC),('k6',M),('k7',SC)],voting=\"hard\"))\n",
    "meta_model.train(training_n3)\n",
    "accuracy = nltk.classify.accuracy(meta_model, testing)*100\n",
    "accuracy = (round(accuracy,3))\n",
    "print(\"Précision de meta_classifieur: {}\".format(accuracy)+\"%\")"
   ]
  },
  {
   "cell_type": "markdown",
   "metadata": {},
   "source": [
    "#### 2.b) Meta_Modèle avec optimisation"
   ]
  },
  {
   "cell_type": "code",
   "execution_count": 254,
   "metadata": {},
   "outputs": [
    {
     "name": "stderr",
     "output_type": "stream",
     "text": [
      "/Users/jeremy-laurent/opt/anaconda3/lib/python3.8/site-packages/sklearn/linear_model/_stochastic_gradient.py:570: ConvergenceWarning: Maximum number of iteration reached before convergence. Consider increasing max_iter to improve the fit.\n",
      "  warnings.warn(\"Maximum number of iteration reached before \"\n"
     ]
    },
    {
     "name": "stdout",
     "output_type": "stream",
     "text": [
      "Précision de meta_classifieur optimisé: 84.827%\n"
     ]
    }
   ],
   "source": [
    "# Modèle individuels optimisés\n",
    "KNC=KNeighborsClassifier(n_neighbors=50)\n",
    "DTC=DecisionTreeClassifier()\n",
    "RFC=RandomForestClassifier(n_estimators=100)\n",
    "LG=LogisticRegression(solver='newton-cg')\n",
    "SGDC=SGDClassifier(max_iter = 1)\n",
    "M=MultinomialNB(alpha=100)\n",
    "SC=SVC(kernel = 'linear')\n",
    "\n",
    "# Construction du meta-modèle\n",
    "meta_model2 = SklearnClassifier(VotingClassifier(estimators=[('k1',KNC),('k2',DTC),('k3',RFC),('k4',LG),('k5',SGDC),('k6',M),('k7',SC)],voting=\"hard\"))\n",
    "meta_model2.train(training_n2)\n",
    "accuracy2 = nltk.classify.accuracy(meta_model2, testing)*100\n",
    "accuracy2 = (round(accuracy2,3))\n",
    "print(\"Précision de meta_classifieur optimisé: {}\".format(accuracy2)+\"%\")"
   ]
  },
  {
   "cell_type": "markdown",
   "metadata": {},
   "source": [
    "#### 2.c) Diagramme de comparaison"
   ]
  },
  {
   "cell_type": "code",
   "execution_count": 255,
   "metadata": {},
   "outputs": [
    {
     "data": {
      "image/png": "[encoded data removed]",
      "text/plain": [
       "<Figure size 432x288 with 1 Axes>"
      ]
     },
     "metadata": {
      "needs_background": "light"
     },
     "output_type": "display_data"
    }
   ],
   "source": [
    "#Diagramme de comparaison\n",
    "fig = plt.figure()\n",
    "\n",
    "x = ['meta_classifieur','meta_classifieur_optimisé']\n",
    "height = [accuracy,accuracy2]\n",
    "width = 0.4 # modifier la largeur des bâtons\n",
    "plt.bar(x, height, width, color='b' )\n",
    "plt.show()"
   ]
  },
  {
   "cell_type": "markdown",
   "metadata": {},
   "source": [
    "### 3) Test de l'algorithme d'apprentissage\n",
    "\n",
    "#### 3.a) Prédiction du dataset testing"
   ]
  },
  {
   "cell_type": "markdown",
   "metadata": {},
   "source": [
    "Nous allons à présent tester l'algorithme sur le jeu de données testing (différents de la partie d'apprentissage)"
   ]
  },
  {
   "cell_type": "code",
   "execution_count": 256,
   "metadata": {},
   "outputs": [],
   "source": [
    "#On dézipe testing pour séparer les labels et les features\n",
    "txt_features, labels = zip(*testing)\n",
    "\n",
    "prediction = meta_model2.classify_many(txt_features)"
   ]
  },
  {
   "cell_type": "markdown",
   "metadata": {},
   "source": [
    "### 4) Explication des résultats\n",
    "\n",
    "#### 4.a) Matrice de confusion"
   ]
  },
  {
   "cell_type": "markdown",
   "metadata": {},
   "source": [
    "##### Explication du tableau de résultats\n",
    "print(\"precision = À quel point les prédictions positives sont précises\")\n",
    "print(\"TP/(TP+FP)\\n\")\n",
    "\n",
    "print(\"recall = Couverture des observations vraiment positives\")\n",
    "print(\"TP/(TP+FN)\\n\")\n",
    "\n",
    "print(\"F1_score = Indicateur hybride utilisé pour les classes non-balancées\")\n",
    "print(\"2TP/(2TP+FP+FN)\\n\")\n",
    "\n",
    "# affichage des résultats\n",
    "erreur= round((100-accuracy),3)\n",
    "print(\"L'erreur est de: {}\".format(erreur)+\" %\\n\")\n",
    "print(classification_report(labels, prediction))\n",
    "\n",
    "pd.DataFrame(\n",
    "    confusion_matrix(labels, prediction),\n",
    "    index = [['En réalité', 'En réalité'], ['disliked', 'Liked']],\n",
    "    columns = [['Ce qui été prédit', 'Ce qui été prédit'], ['disliked', 'Liked']])"
   ]
  },
  {
   "cell_type": "markdown",
   "metadata": {},
   "source": [
    "#### Courbe ROC"
   ]
  },
  {
   "cell_type": "markdown",
   "metadata": {},
   "source": [
    "La courbe ROC représente le taux de True Positives en fonction de taux de False Positives et obtenue en faisant varier le seuil. \n",
    "\n",
    "cf: https://stanford.edu/~shervine/l/fr/teaching/cs-229/pense-bete-machine-learning-petites-astuces\n",
    "\n",
    "tuto traçage de la courbe: https://datamize.wordpress.com/2015/01/24/how-to-plot-a-roc-curve-in-scikit-learn/\n",
    "\n",
    "Ces indicateurs sont résumés dans le tableau suivant :\n",
    "\n",
    "\n",
    "|        Indicatieur          |       Formule         |       Equivalent      |\n",
    "|-----------------------------|-----------------------|-----------------------|\n",
    "|   True Positive Rate TPR    |    $(TP)/(TP+FN)$     |   Recall, sensitivity |\n",
    "|   False Positive Rate FPR   |    $(FP)/(TN+FP)$     |      1-specificity    |\n",
    "\n"
   ]
  },
  {
   "cell_type": "code",
   "execution_count": 258,
   "metadata": {},
   "outputs": [
    {
     "data": {
      "image/png": "[encoded data removed]",
      "text/plain": [
       "<Figure size 432x288 with 1 Axes>"
      ]
     },
     "metadata": {
      "needs_background": "light"
     },
     "output_type": "display_data"
    }
   ],
   "source": [
    "# Importation bibliothèques\n",
    "from sklearn.metrics import roc_curve, auc\n",
    "import matplotlib.pyplot as plt\n",
    "import random\n",
    "\n",
    "# Transformation de la liste en tableau\n",
    "labelsTAB = np.asarray(labels)\n",
    "\n",
    "# Calcul du FPR et du TPR\n",
    "false_positive_rate, true_positive_rate, thresholds = roc_curve(labelsTAB, prediction)\n",
    "roc_auc = auc(false_positive_rate, true_positive_rate)\n",
    "\n",
    "# Affichage de la courbe\n",
    "plt.title('Courbe ROC')\n",
    "plt.plot(false_positive_rate, true_positive_rate, 'b',\n",
    "label='AUC = %0.1f'% roc_auc)\n",
    "plt.legend(loc='lower right')\n",
    "plt.plot([0,1],[0,1],'r--')\n",
    "plt.xlim([0,1])\n",
    "plt.ylim([0,1])\n",
    "plt.ylabel('True Positive Rate')\n",
    "plt.xlabel('False Positive Rate')\n",
    "plt.show()"
   ]
  },
  {
   "cell_type": "markdown",
   "metadata": {},
   "source": [
    "## C. Conclusion"
   ]
  },
  {
   "cell_type": "markdown",
   "metadata": {},
   "source": [
    "Ce classifieur ne fontionne pas très bien: 2 choses le prouve:\n",
    " - La matrice de confusion démontre une mauvaise répartition des échantillions de test de training (le programme à du mal à reconnaitre les dislikes)\n",
    " - La courbe ROC possède une air nulle, ce qui veut dire que notre classifieur ne sait pas vraiment classer les descriptions (il ne se trompe pas tout le temps --> aire négative, il classe parfaitement --> aire positive)\n",
    " \n",
    "Cela est principalement dû au fait que les likes et les dislikes de l'utilisateur, étant générés aléatoirement, ne sont pas cohérant. Néanmois si ont fait liké à notre utilisateur beaucoup plus que dislike, notre classifieur aura une performance bien meilleur."
   ]
  }
 ],
 "metadata": {
  "kernelspec": {
   "display_name": "Python 3",
   "language": "python",
   "name": "python3"
  },
  "language_info": {
   "codemirror_mode": {
    "name": "ipython",
    "version": 3
   },
   "file_extension": ".py",
   "mimetype": "text/x-python",
   "name": "python",
   "nbconvert_exporter": "python",
   "pygments_lexer": "ipython3",
   "version": "3.10.6"
  },
  "vscode": {
   "interpreter": {
    "hash": "916dbcbb3f70747c44a77c7bcd40155683ae19c65e1c03b4aa3499c5328201f1"
   }
  }
 },
 "nbformat": 4,
 "nbformat_minor": 4
}
