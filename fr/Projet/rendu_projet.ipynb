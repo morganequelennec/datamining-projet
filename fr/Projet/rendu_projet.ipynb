{
 "cells": [
  {
   "attachments": {},
   "cell_type": "markdown",
   "metadata": {},
   "source": [
    "# Projet de Data Mining et Machine Learning\n",
    "\n",
    "## Rendu de:\n",
    "\n",
    "* Yamine KEBAILI  \n",
    "* Morgane QUELENNEC"
   ]
  },
  {
   "cell_type": "markdown",
   "metadata": {},
   "source": [
    "# 1) Collecte de données\n",
    "## a) Approches automatisées de la collecte de données"
   ]
  },
  {
   "attachments": {},
   "cell_type": "markdown",
   "metadata": {},
   "source": [
    "Téléchargement d'un dataset sur Kaggle contenant de nombreuses images et un fichier CSV contenant des informations pour ces images"
   ]
  },
  {
   "cell_type": "code",
   "execution_count": 14,
   "metadata": {},
   "outputs": [
    {
     "name": "stdout",
     "output_type": "stream",
     "text": [
      "\n",
      "System:\n",
      "    python: 3.10.6 (main, Nov 14 2022, 16:10:14) [GCC 11.3.0]\n",
      "executable: /bin/python3\n",
      "   machine: Linux-5.4.72-microsoft-standard-WSL2-x86_64-with-glibc2.35\n",
      "\n",
      "Python dependencies:\n",
      "      sklearn: 1.2.1\n",
      "          pip: 22.0.2\n",
      "   setuptools: 66.0.0\n",
      "        numpy: 1.24.2\n",
      "        scipy: 1.10.1\n",
      "       Cython: None\n",
      "       pandas: 1.5.3\n",
      "   matplotlib: 3.5.1\n",
      "       joblib: 1.2.0\n",
      "threadpoolctl: 3.1.0\n",
      "\n",
      "Built with OpenMP: True\n",
      "\n",
      "threadpoolctl info:\n",
      "       user_api: blas\n",
      "   internal_api: openblas\n",
      "         prefix: libopenblas\n",
      "       filepath: /home/morgane/.local/lib/python3.10/site-packages/numpy.libs/libopenblas64_p-r0-15028c96.3.21.so\n",
      "        version: 0.3.21\n",
      "threading_layer: pthreads\n",
      "   architecture: SkylakeX\n",
      "    num_threads: 8\n",
      "\n",
      "       user_api: openmp\n",
      "   internal_api: openmp\n",
      "         prefix: libgomp\n",
      "       filepath: /usr/lib/x86_64-linux-gnu/libgomp.so.1.0.0\n",
      "        version: None\n",
      "    num_threads: 8\n",
      "\n",
      "       user_api: openmp\n",
      "   internal_api: openmp\n",
      "         prefix: libgomp\n",
      "       filepath: /home/morgane/.local/lib/python3.10/site-packages/scikit_learn.libs/libgomp-a34b3233.so.1.0.0\n",
      "        version: None\n",
      "    num_threads: 8\n",
      "\n",
      "       user_api: blas\n",
      "   internal_api: openblas\n",
      "         prefix: libopenblas\n",
      "       filepath: /home/morgane/.local/lib/python3.10/site-packages/scipy.libs/libopenblasp-r0-41284840.3.18.so\n",
      "        version: 0.3.18\n",
      "threading_layer: pthreads\n",
      "   architecture: SkylakeX\n",
      "    num_threads: 8\n"
     ]
    }
   ],
   "source": [
    "# imports\n",
    "from mpl_toolkits.mplot3d import Axes3D\n",
    "from sklearn.preprocessing import StandardScaler\n",
    "import sklearn\n",
    "import matplotlib.pyplot as plt\n",
    "import matplotlib.image as mpimg\n",
    "import numpy as np # linear algebra\n",
    "import pandas as pd # data processing, CSV file I/O\n",
    "import os # accessing directory structure\n",
    "import csv\n",
    "import math\n",
    "import random\n",
    "import json\n",
    "import namegenerator\n",
    "\n",
    "sklearn.show_versions()\n",
    "from nltk.corpus import stopwords # list of stopwords\n",
    "from nltk.tokenize import word_tokenize # tokenization function\n",
    "from nltk.stem import WordNetLemmatizer # lemmatization function\n",
    "from nltk.stem.porter import PorterStemmer # stemming function\n",
    "import math"
   ]
  },
  {
   "cell_type": "code",
   "execution_count": 2,
   "metadata": {},
   "outputs": [
    {
     "name": "stderr",
     "output_type": "stream",
     "text": [
      "/tmp/ipykernel_2088/3805032870.py:4: FutureWarning: The error_bad_lines argument has been deprecated and will be removed in a future version. Use on_bad_lines in the future.\n",
      "\n",
      "\n",
      "  df = pd.read_csv(r'dataset/pokemon.csv', sep=',', error_bad_lines=False, warn_bad_lines=False)\n",
      "/tmp/ipykernel_2088/3805032870.py:4: FutureWarning: The warn_bad_lines argument has been deprecated and will be removed in a future version. Use on_bad_lines in the future.\n",
      "\n",
      "\n",
      "  df = pd.read_csv(r'dataset/pokemon.csv', sep=',', error_bad_lines=False, warn_bad_lines=False)\n"
     ]
    },
    {
     "data": {
      "text/html": [
       "<div>\n",
       "<style scoped>\n",
       "    .dataframe tbody tr th:only-of-type {\n",
       "        vertical-align: middle;\n",
       "    }\n",
       "\n",
       "    .dataframe tbody tr th {\n",
       "        vertical-align: top;\n",
       "    }\n",
       "\n",
       "    .dataframe thead th {\n",
       "        text-align: right;\n",
       "    }\n",
       "</style>\n",
       "<table border=\"1\" class=\"dataframe\">\n",
       "  <thead>\n",
       "    <tr style=\"text-align: right;\">\n",
       "      <th></th>\n",
       "      <th>id</th>\n",
       "      <th>Type1</th>\n",
       "      <th>Type2</th>\n",
       "      <th>Description</th>\n",
       "    </tr>\n",
       "  </thead>\n",
       "  <tbody>\n",
       "    <tr>\n",
       "      <th>0</th>\n",
       "      <td>abomasnow</td>\n",
       "      <td>Grass</td>\n",
       "      <td>Ice</td>\n",
       "      <td>is a dual-type Grass/Ice Pokémon introduced in...</td>\n",
       "    </tr>\n",
       "    <tr>\n",
       "      <th>1</th>\n",
       "      <td>abra</td>\n",
       "      <td>Psychic</td>\n",
       "      <td>NaN</td>\n",
       "      <td>is a Psychic-type Pokémon introduced in Genera...</td>\n",
       "    </tr>\n",
       "    <tr>\n",
       "      <th>2</th>\n",
       "      <td>absol</td>\n",
       "      <td>Dark</td>\n",
       "      <td>NaN</td>\n",
       "      <td>is a Dark-type Pokémon introduced in Generatio...</td>\n",
       "    </tr>\n",
       "    <tr>\n",
       "      <th>3</th>\n",
       "      <td>accelgor</td>\n",
       "      <td>Bug</td>\n",
       "      <td>NaN</td>\n",
       "      <td>is a Bug-type Pokémon introduced in Generation V.</td>\n",
       "    </tr>\n",
       "    <tr>\n",
       "      <th>4</th>\n",
       "      <td>aegislash-blade</td>\n",
       "      <td>Steel</td>\n",
       "      <td>Ghost</td>\n",
       "      <td>is a dual-type Steel/Ghost Pokémon introduced ...</td>\n",
       "    </tr>\n",
       "    <tr>\n",
       "      <th>...</th>\n",
       "      <td>...</td>\n",
       "      <td>...</td>\n",
       "      <td>...</td>\n",
       "      <td>...</td>\n",
       "    </tr>\n",
       "    <tr>\n",
       "      <th>94</th>\n",
       "      <td>charizard</td>\n",
       "      <td>Fire</td>\n",
       "      <td>Flying</td>\n",
       "      <td>Charizard is a dual-type Fire/Flying Pokémon i...</td>\n",
       "    </tr>\n",
       "    <tr>\n",
       "      <th>95</th>\n",
       "      <td>charmander</td>\n",
       "      <td>Fire</td>\n",
       "      <td>NaN</td>\n",
       "      <td>Charmander is a Fire-type Pokémon introduced i...</td>\n",
       "    </tr>\n",
       "    <tr>\n",
       "      <th>96</th>\n",
       "      <td>charmeleon</td>\n",
       "      <td>Fire</td>\n",
       "      <td>NaN</td>\n",
       "      <td>Charmeleon is a Fire-type Pokémon introduced i...</td>\n",
       "    </tr>\n",
       "    <tr>\n",
       "      <th>97</th>\n",
       "      <td>chatot</td>\n",
       "      <td>Normal</td>\n",
       "      <td>Flying</td>\n",
       "      <td>Chatot is a dual-type Normal/Flying Pokémon in...</td>\n",
       "    </tr>\n",
       "    <tr>\n",
       "      <th>41</th>\n",
       "      <td>id</td>\n",
       "      <td>Type1</td>\n",
       "      <td>Type2</td>\n",
       "      <td>Description</td>\n",
       "    </tr>\n",
       "  </tbody>\n",
       "</table>\n",
       "<p>98 rows × 4 columns</p>\n",
       "</div>"
      ],
      "text/plain": [
       "                 id    Type1   Type2  \\\n",
       "0         abomasnow    Grass     Ice   \n",
       "1              abra  Psychic     NaN   \n",
       "2             absol     Dark     NaN   \n",
       "3          accelgor      Bug     NaN   \n",
       "4   aegislash-blade    Steel   Ghost   \n",
       "..              ...      ...     ...   \n",
       "94        charizard     Fire  Flying   \n",
       "95       charmander     Fire     NaN   \n",
       "96       charmeleon     Fire     NaN   \n",
       "97           chatot   Normal  Flying   \n",
       "41               id    Type1   Type2   \n",
       "\n",
       "                                          Description  \n",
       "0   is a dual-type Grass/Ice Pokémon introduced in...  \n",
       "1   is a Psychic-type Pokémon introduced in Genera...  \n",
       "2   is a Dark-type Pokémon introduced in Generatio...  \n",
       "3   is a Bug-type Pokémon introduced in Generation V.  \n",
       "4   is a dual-type Steel/Ghost Pokémon introduced ...  \n",
       "..                                                ...  \n",
       "94  Charizard is a dual-type Fire/Flying Pokémon i...  \n",
       "95  Charmander is a Fire-type Pokémon introduced i...  \n",
       "96  Charmeleon is a Fire-type Pokémon introduced i...  \n",
       "97  Chatot is a dual-type Normal/Flying Pokémon in...  \n",
       "41                                        Description  \n",
       "\n",
       "[98 rows x 4 columns]"
      ]
     },
     "execution_count": 2,
     "metadata": {},
     "output_type": "execute_result"
    }
   ],
   "source": [
    "# Open dataset\n",
    "\n",
    "# Get header csv\n",
    "df = pd.read_csv(r'dataset/pokemon.csv', sep=',', error_bad_lines=False, warn_bad_lines=False)\n",
    "df.sort_values('id', ascending = True )"
   ]
  },
  {
   "attachments": {},
   "cell_type": "markdown",
   "metadata": {},
   "source": [
    "Chaque ligne correspond à une image. par exemple la ligne contenant le nom de pokémon charizard possède l'image suivante:"
   ]
  },
  {
   "cell_type": "code",
   "execution_count": 3,
   "metadata": {},
   "outputs": [
    {
     "data": {
      "image/png": "[encoded data removed]",
      "text/plain": [
       "<Figure size 640x480 with 1 Axes>"
      ]
     },
     "metadata": {},
     "output_type": "display_data"
    }
   ],
   "source": [
    "import os\n",
    "import matplotlib.pyplot as plt\n",
    "import matplotlib.image as mpimg\n",
    "\n",
    "image_name = \"charizard\"\n",
    "image_path = f\"./dataset/images/{image_name}.png\"\n",
    "\n",
    "if not os.path.exists(image_path):\n",
    "    print(f\"Error: The file {image_path} does not exist.\")\n",
    "else:\n",
    "    try:\n",
    "        img = mpimg.imread(image_path)\n",
    "        imgplot = plt.imshow(img)\n",
    "        plt.show()\n",
    "    except Exception as e:\n",
    "        print(f\"Error: Unable to read the image {image_path}. {e}\")"
   ]
  },
  {
   "cell_type": "markdown",
   "metadata": {},
   "source": [
    "Les informations correspondant à cette image sont les suivantes: "
   ]
  },
  {
   "cell_type": "code",
   "execution_count": 4,
   "metadata": {},
   "outputs": [
    {
     "data": {
      "text/html": [
       "<div>\n",
       "<style scoped>\n",
       "    .dataframe tbody tr th:only-of-type {\n",
       "        vertical-align: middle;\n",
       "    }\n",
       "\n",
       "    .dataframe tbody tr th {\n",
       "        vertical-align: top;\n",
       "    }\n",
       "\n",
       "    .dataframe thead th {\n",
       "        text-align: right;\n",
       "    }\n",
       "</style>\n",
       "<table border=\"1\" class=\"dataframe\">\n",
       "  <thead>\n",
       "    <tr style=\"text-align: right;\">\n",
       "      <th></th>\n",
       "      <th>id</th>\n",
       "      <th>Type1</th>\n",
       "      <th>Type2</th>\n",
       "      <th>Description</th>\n",
       "    </tr>\n",
       "  </thead>\n",
       "  <tbody>\n",
       "    <tr>\n",
       "      <th>94</th>\n",
       "      <td>charizard</td>\n",
       "      <td>Fire</td>\n",
       "      <td>Flying</td>\n",
       "      <td>Charizard is a dual-type Fire/Flying Pokémon i...</td>\n",
       "    </tr>\n",
       "  </tbody>\n",
       "</table>\n",
       "</div>"
      ],
      "text/plain": [
       "           id Type1   Type2                                        Description\n",
       "94  charizard  Fire  Flying  Charizard is a dual-type Fire/Flying Pokémon i..."
      ]
     },
     "execution_count": 4,
     "metadata": {},
     "output_type": "execute_result"
    }
   ],
   "source": [
    "df.loc[df['id'].isin([\"charizard\"])]"
   ]
  },
  {
   "attachments": {},
   "cell_type": "markdown",
   "metadata": {},
   "source": [
    "Pour répondre aux questions concernant le projet: \n",
    "\n",
    "### Approches automatisées de la collecte de données\n",
    "\n",
    "Cette méthode a été choisie pour sa rapidité d'exécution et parce que le projet disposait déjà d'une grande quantité de données.   \n",
    "\n",
    "\n",
    "### Utilisation d'images sous licence libre\n",
    "\n",
    "Nous avons utilisé des images sous licence libre pour ce projet. Les images sont disponibles sur https://www.kaggle.com/dataset/vishalsubbiah/pokemon-images-and-types et peuvent être utilisées sans restriction.\n",
    "\n",
    "### Stockage et gestion des images et des métadonnées associées\n",
    "\n",
    "Les images utilisées pour le projet sont stockées dans le fichier zip que nous avons téléchargé. Il est nécessaire de dézipper le fichier (dataset.zip) pour y accéder. Les informations de métadonnées associées aux images sont stockées dans un fichier CSV séparé (dataset/pokemon.csv).\n",
    "\n",
    "### Approches automatisées de l'étiquetage / Stockage et gestion des étiquettes et des annotations des images\n",
    "\n",
    "Étant donné que le contenu de notre jeu de données téléchargé est déjà annoté, il n'est pas nécessaire de mettre en place des étiquettes supplémentaires. Nous pouvons donc nous concentrer sur les autres aspects du projet.\n"
   ]
  },
  {
   "cell_type": "markdown",
   "metadata": {},
   "source": [
    "# Méthode par Text-Mining"
   ]
  },
  {
   "attachments": {},
   "cell_type": "markdown",
   "metadata": {},
   "source": [
    "## Objectif :\n",
    "\n",
    "L'objectif de cette application est de proposer des images à l'utilisateur en fonction de sa sélection d'une ou plusieurs images. Pour cela, nous avons mis en place une première méthode basée sur le text-mining. Cette méthode consiste à utiliser la description de l'image sélectionnée pour effectuer une recherche de similarité sur toutes les descriptions des autres images disponibles.\n",
    "\n",
    "\n",
    "### Sources :\n",
    "\n",
    "\n",
    "* https://scikit-learn.org/stable/tutorial/text_analytics/working_with_text_data.html\n",
    "* http://www.nltk.org/\n",
    "\n",
    "## Plan du document :\n",
    "\n",
    "1. **Principe de l'algorithme**\n",
    "    1. **Traitement du corpus**\n",
    "        1. **Transformation des descriptions**\n",
    "        1. **Présentation des différentes étapes avec exemples**\n",
    "    2. **Traitement d'une recherche**\n",
    "        1. **Vectorisation de la requête**\n",
    "        1. **Calcul de similarité**\n",
    "1. **Exécution de l'application**"
   ]
  },
  {
   "attachments": {},
   "cell_type": "markdown",
   "metadata": {},
   "source": [
    "## 1. Principe de l'algorithme\n",
    "\n",
    "Le principe de cet algorithme repose sur l'analyse de la fréquence des mots dans les textes et se déroule en deux étapes distinctes :\n",
    "\n",
    "Une première étape préliminaire de traitement du corpus, qui a pour objectif de créer une matrice représentative de ce dernier.\n",
    "La phase de recherche proprement dite consiste à représenter la requête de l'utilisateur (c'est-à-dire la description de l'image sélectionnée par l'utilisateur) de manière vectorielle et à trouver la ligne de la matrice du corpus (et donc des autres images) qui correspond le mieux à cette requête.\n",
    "\n",
    "### A. Traitement du corpus\n",
    "\n",
    "Le but est à partir du corpus constitué de description d'image sous la forme d'une chaîne de caractère de construire une matrice représentatrice de ce dernier. \n",
    "\n",
    "Chaque ligne de la matrice représente une description, et chaque colonne représente un mot présent dans ce corpus. La valeur dans la matrice à la position (i, j) correspond à l'importance du mot j pour le texte i par rapport aux autres descriptions.\n",
    "\n",
    "Cette valeur permet de choisir parmi les descriptions. L'importance du mot doit être comprise comme l'importance dans le texte lui-même (répétition du mot dans le texte) et dans ce texte par rapport aux autres descriptions (mot présent dans la description mais peu dans le reste du corpus).\n",
    "\n",
    "#### a. Transformation des descriptions\n",
    "\n",
    "Pour construire la matrice, les descriptions sont d'abord \"découpées\" en listes de mots (tokenisation).\n",
    "\n",
    "Ensuite, les mots trop courants (stopwords), considérés comme ayant peu de sens, sont éliminés (ce peut également être la ponctuation).\n",
    "\n",
    "Ensuite, les mots sont transformés pour rassembler ceux qui ont un sens identique ou proche, en utilisant deux techniques :\n",
    "\n",
    "Lemmatisation : regrouper les mots sous une même forme de mot-clé\n",
    "Stemming : regrouper les mots sous un même radical\n",
    "La bibliothèque python nltk (Natural Language ToolKit) est utilisée pour cela. La fonction \"split\" est ainsi définie :"
   ]
  },
  {
   "cell_type": "markdown",
   "metadata": {},
   "source": [
    "\n",
    "\n",
    "#### b. Présentation des différentes étapes de scoring avec exemples"
   ]
  },
  {
   "cell_type": "markdown",
   "metadata": {},
   "source": [
    "Pour cette méthode, nous allons travailler uniquement à l'aide des descriptions des images"
   ]
  },
  {
   "cell_type": "code",
   "execution_count": 5,
   "metadata": {},
   "outputs": [
    {
     "data": {
      "text/html": [
       "<div>\n",
       "<style scoped>\n",
       "    .dataframe tbody tr th:only-of-type {\n",
       "        vertical-align: middle;\n",
       "    }\n",
       "\n",
       "    .dataframe tbody tr th {\n",
       "        vertical-align: top;\n",
       "    }\n",
       "\n",
       "    .dataframe thead th {\n",
       "        text-align: right;\n",
       "    }\n",
       "</style>\n",
       "<table border=\"1\" class=\"dataframe\">\n",
       "  <thead>\n",
       "    <tr style=\"text-align: right;\">\n",
       "      <th></th>\n",
       "      <th>id</th>\n",
       "      <th>Description</th>\n",
       "    </tr>\n",
       "  </thead>\n",
       "  <tbody>\n",
       "    <tr>\n",
       "      <th>0</th>\n",
       "      <td>abomasnow</td>\n",
       "      <td>is a dual-type Grass/Ice Pokémon introduced in...</td>\n",
       "    </tr>\n",
       "    <tr>\n",
       "      <th>1</th>\n",
       "      <td>abra</td>\n",
       "      <td>is a Psychic-type Pokémon introduced in Genera...</td>\n",
       "    </tr>\n",
       "    <tr>\n",
       "      <th>2</th>\n",
       "      <td>absol</td>\n",
       "      <td>is a Dark-type Pokémon introduced in Generatio...</td>\n",
       "    </tr>\n",
       "    <tr>\n",
       "      <th>3</th>\n",
       "      <td>accelgor</td>\n",
       "      <td>is a Bug-type Pokémon introduced in Generation V.</td>\n",
       "    </tr>\n",
       "    <tr>\n",
       "      <th>4</th>\n",
       "      <td>aegislash-blade</td>\n",
       "      <td>is a dual-type Steel/Ghost Pokémon introduced ...</td>\n",
       "    </tr>\n",
       "    <tr>\n",
       "      <th>...</th>\n",
       "      <td>...</td>\n",
       "      <td>...</td>\n",
       "    </tr>\n",
       "    <tr>\n",
       "      <th>93</th>\n",
       "      <td>chansey</td>\n",
       "      <td>Chansey is a Normal-type Pokémon introduced in...</td>\n",
       "    </tr>\n",
       "    <tr>\n",
       "      <th>94</th>\n",
       "      <td>charizard</td>\n",
       "      <td>Charizard is a dual-type Fire/Flying Pokémon i...</td>\n",
       "    </tr>\n",
       "    <tr>\n",
       "      <th>95</th>\n",
       "      <td>charmander</td>\n",
       "      <td>Charmander is a Fire-type Pokémon introduced i...</td>\n",
       "    </tr>\n",
       "    <tr>\n",
       "      <th>96</th>\n",
       "      <td>charmeleon</td>\n",
       "      <td>Charmeleon is a Fire-type Pokémon introduced i...</td>\n",
       "    </tr>\n",
       "    <tr>\n",
       "      <th>97</th>\n",
       "      <td>chatot</td>\n",
       "      <td>Chatot is a dual-type Normal/Flying Pokémon in...</td>\n",
       "    </tr>\n",
       "  </tbody>\n",
       "</table>\n",
       "<p>98 rows × 2 columns</p>\n",
       "</div>"
      ],
      "text/plain": [
       "                 id                                        Description\n",
       "0         abomasnow  is a dual-type Grass/Ice Pokémon introduced in...\n",
       "1              abra  is a Psychic-type Pokémon introduced in Genera...\n",
       "2             absol  is a Dark-type Pokémon introduced in Generatio...\n",
       "3          accelgor  is a Bug-type Pokémon introduced in Generation V.\n",
       "4   aegislash-blade  is a dual-type Steel/Ghost Pokémon introduced ...\n",
       "..              ...                                                ...\n",
       "93          chansey  Chansey is a Normal-type Pokémon introduced in...\n",
       "94        charizard  Charizard is a dual-type Fire/Flying Pokémon i...\n",
       "95       charmander  Charmander is a Fire-type Pokémon introduced i...\n",
       "96       charmeleon  Charmeleon is a Fire-type Pokémon introduced i...\n",
       "97           chatot  Chatot is a dual-type Normal/Flying Pokémon in...\n",
       "\n",
       "[98 rows x 2 columns]"
      ]
     },
     "execution_count": 5,
     "metadata": {},
     "output_type": "execute_result"
    }
   ],
   "source": [
    "# Delete unless columns\n",
    "df = df.drop(['Type1', 'Type2'], axis=1)\n",
    "df"
   ]
  },
  {
   "cell_type": "code",
   "execution_count": 7,
   "metadata": {},
   "outputs": [
    {
     "name": "stdout",
     "output_type": "stream",
     "text": [
      "[sudo] password for morgane: \n"
     ]
    }
   ],
   "source": [
    "!sudo apt install python3-nltk"
   ]
  },
  {
   "cell_type": "code",
   "execution_count": 8,
   "metadata": {},
   "outputs": [
    {
     "name": "stdout",
     "output_type": "stream",
     "text": [
      "/usr/lib/python3.10/runpy.py:126: RuntimeWarning: 'nltk.downloader' found in sys.modules after import of package 'nltk', but prior to execution of 'nltk.downloader'; this may result in unpredictable behaviour\n",
      "  warn(RuntimeWarning(msg))\n",
      "[nltk_data] Downloading package stopwords to\n",
      "[nltk_data]     /home/morgane/nltk_data...\n",
      "[nltk_data]   Package stopwords is already up-to-date!\n"
     ]
    }
   ],
   "source": [
    "!python3 -m nltk.downloader stopwords"
   ]
  },
  {
   "cell_type": "code",
   "execution_count": 18,
   "metadata": {},
   "outputs": [],
   "source": [
    "from nltk.corpus import stopwords # list of words not taken into account\n",
    "from nltk.tokenize import word_tokenize # tokenization function\n",
    "from nltk.stem import WordNetLemmatizer # lemmatization function\n",
    "from nltk.stem.porter import PorterStemmer # stemming function\n",
    "\n",
    "# \"Hyperparameters\"\n",
    "stop_words = set(stopwords.words('english'))\n",
    "# We can shape the list of words not taken into account\n",
    "stop_words.update(stop_words,{'.',',','!','?','\\'s', '<', '>', ':', ';', '/', '(', ')', '-', '_', '{', '}', '--', '...'})\n",
    "lmtzr=WordNetLemmatizer()\n",
    "ps = PorterStemmer()\n",
    "\n",
    "\n",
    "def split(Description):\n",
    "    \"\"\" Function that takes a text (an image description) as input and returns\n",
    "    the list of its words that have been filtered and transformed: lemmatized and stemmed\"\"\"\n",
    "\n",
    "    # Tokenization ************************************************************\n",
    "    # Splitting the text into words (words is a list of strings)\n",
    "    words = word_tokenize(str(Description))\n",
    "\n",
    "    # Stop-words **************************************************************\n",
    "    # Filtering words: we remove from words those that are contained in \n",
    "    # stop_words because they are supposed to have too little meaning.\n",
    "    # (common words, linking words, punctuation)\n",
    "    words_clean = []\n",
    "    for word in words:\n",
    "        if word.lower() not in stop_words:\n",
    "            words_clean.append(word)\n",
    "\n",
    "    # Lemmatization *************************************************************\n",
    "    # Transforming words into a single keyword (lemma) representing them. \n",
    "    # Ex: divided, dividing, divided, divides -> divide\n",
    "    words_lemmed = [lmtzr.lemmatize(word) for word in words_clean]\n",
    "            \n",
    "    # Stemming ****************************************************************\n",
    "    # Transforming words into a single root representing them. \n",
    "    # Ex: divided, dividing, divided, divides -> divid\n",
    "    words_stemmed = [ps.stem(word) for word in words_lemmed]\n",
    "\n",
    "    return words_stemmed\n"
   ]
  },
  {
   "cell_type": "code",
   "execution_count": 28,
   "metadata": {},
   "outputs": [
    {
     "name": "stdout",
     "output_type": "stream",
     "text": [
      "[sudo] password for morgane: "
     ]
    }
   ],
   "source": [
    "!sudo pip install -U nltk"
   ]
  },
  {
   "cell_type": "markdown",
   "metadata": {},
   "source": [
    "Exemple de la fonction split"
   ]
  },
  {
   "cell_type": "code",
   "execution_count": 19,
   "metadata": {},
   "outputs": [
    {
     "data": {
      "text/html": [
       "<div>\n",
       "<style scoped>\n",
       "    .dataframe tbody tr th:only-of-type {\n",
       "        vertical-align: middle;\n",
       "    }\n",
       "\n",
       "    .dataframe tbody tr th {\n",
       "        vertical-align: top;\n",
       "    }\n",
       "\n",
       "    .dataframe thead th {\n",
       "        text-align: right;\n",
       "    }\n",
       "</style>\n",
       "<table border=\"1\" class=\"dataframe\">\n",
       "  <thead>\n",
       "    <tr style=\"text-align: right;\">\n",
       "      <th></th>\n",
       "      <th>id</th>\n",
       "      <th>Description</th>\n",
       "    </tr>\n",
       "  </thead>\n",
       "  <tbody>\n",
       "    <tr>\n",
       "      <th>1</th>\n",
       "      <td>abra</td>\n",
       "      <td>is a Psychic-type Pokémon introduced in Genera...</td>\n",
       "    </tr>\n",
       "  </tbody>\n",
       "</table>\n",
       "</div>"
      ],
      "text/plain": [
       "     id                                        Description\n",
       "1  abra  is a Psychic-type Pokémon introduced in Genera..."
      ]
     },
     "execution_count": 19,
     "metadata": {},
     "output_type": "execute_result"
    }
   ],
   "source": [
    "# split the following line: \n",
    "keep_line = df.loc[df['id'].isin([\"abra\"])]\n",
    "keep_line"
   ]
  },
  {
   "cell_type": "code",
   "execution_count": 20,
   "metadata": {},
   "outputs": [
    {
     "name": "stdout",
     "output_type": "stream",
     "text": [
      "['is', 'a', 'Psychic-type', 'Pokémon', 'introduced', 'in', 'Generation', 'I.']\n"
     ]
    }
   ],
   "source": [
    "# We then obtain:\n",
    "description_test = keep_line['Description'][1]\n",
    "try:\n",
    "    words = description_test.split()\n",
    "except IndexError:\n",
    "    print(\"Error: Index out of range\")\n",
    "else:\n",
    "    print(words)\n"
   ]
  },
  {
   "attachments": {},
   "cell_type": "markdown",
   "metadata": {},
   "source": [
    "Nous pouvons alors identifier les \"tokens\" (mots distincts) du corpus, qui constituent ainsi une base pour représenter les descriptions sous forme vectorielle"
   ]
  },
  {
   "cell_type": "markdown",
   "metadata": {},
   "source": [
    "Tachons à présent de transformer nos descriptions en matrice via les différents fonctions suivantes:"
   ]
  },
  {
   "cell_type": "code",
   "execution_count": 21,
   "metadata": {},
   "outputs": [],
   "source": [
    "def count(words, wordbase):\n",
    "    \"\"\"Function that takes as input a text that has been split into words and the list \n",
    "    of tokens in the corpus, and returns the vector containing the number of occurrences \n",
    "    in the text of each token in the corpus.\"\"\"\n",
    "    \n",
    "    vector = [0 for i in range(len(wordbase))]\n",
    "    for i in range(len(wordbase)):\n",
    "        if wordbase[i] in words:\n",
    "            vector[i] += 1\n",
    "    return vector\n",
    "\n",
    "\n",
    "def preliminaryWork(corpus):\n",
    "    \"\"\"Function that takes as input a corpus of descriptions in the form of a \n",
    "    list of strings, and returns the list of words used as a basis for representing \n",
    "    the texts that make it up, and the matrix of these texts in this basis, \n",
    "    with the coordinates calculated using the TF-IDF formula.\"\"\"\n",
    "    \n",
    "    # Splitting, sorting and transforming texts (see split function)\n",
    "    corpus_words = []\n",
    "    for i in range(len(corpus)):\n",
    "        corpus_words.append(split(corpus[i]))\n",
    "        \n",
    "    # Constructing the list of words in the corpus (intersection of the words in the \n",
    "    # texts). Wordset is an object of type set, which is useful because it allows \n",
    "    # for set intersection, but it is not ordered. We therefore build wordbase \n",
    "    # from the words in wordset so that we can associate 1 word with 1 coordinate.\n",
    "    wordset = set()\n",
    "    for words in corpus_words:\n",
    "        wordset = wordset.union(set(words))\n",
    "    wordbase = [word for word in wordset]\n",
    "    \n",
    "    # Constructing the matrix representing the texts in the wordbase. We initialize \n",
    "    # it with the vectors whose coordinates are the raw counts.\n",
    "    matrix = []\n",
    "    for words in corpus_words:\n",
    "        matrix.append(count(words, wordbase))\n",
    "        \n",
    "    # Calculating the number of texts that contain each word\n",
    "    nt = [0 for m in range(len(wordbase))]\n",
    "    for m in range(len(wordbase)):\n",
    "        for line in matrix:\n",
    "            if line[m] > 0:\n",
    "                nt[m] += 1\n",
    "    \n",
    "    # Calculating the tf-idf of each word in each text\n",
    "    # TF(word in a text) = log(1 + number of occurrences of this word in this text)\n",
    "    # IDF(word) = log(total number of texts / number of texts containing this word)\n",
    "    # TF-IDF(word in a text) = TF(word in a text) * IDF(word)\n",
    "    for t in range(len(matrix)):\n",
    "        for m in range(len(wordbase)):\n",
    "            matrix[t][m] = math.log(1 + matrix[t][m]) * math.log(len(corpus) / nt[m])\n",
    "            \n",
    "    return (matrix, wordbase)\n"
   ]
  },
  {
   "cell_type": "code",
   "execution_count": 13,
   "metadata": {},
   "outputs": [
    {
     "name": "stderr",
     "output_type": "stream",
     "text": [
      "[nltk_data] Downloading package wordnet to /home/morgane/nltk_data...\n",
      "[nltk_data]   Package wordnet is already up-to-date!\n"
     ]
    },
    {
     "data": {
      "text/plain": [
       "True"
      ]
     },
     "execution_count": 13,
     "metadata": {},
     "output_type": "execute_result"
    }
   ],
   "source": [
    "import nltk\n",
    "nltk.download('wordnet')"
   ]
  },
  {
   "attachments": {},
   "cell_type": "markdown",
   "metadata": {},
   "source": [
    "Exemple: Prenons les 4 premières lignes de pokemon.csv"
   ]
  },
  {
   "cell_type": "code",
   "execution_count": 12,
   "metadata": {},
   "outputs": [
    {
     "name": "stdout",
     "output_type": "stream",
     "text": [
      "Description 0: is a dual-type Grass/Ice Pokémon introduced in Generation IV.\n",
      "Description 1: is a Psychic-type Pokémon introduced in Generation I.\n",
      "Description 2: is a Dark-type Pokémon introduced in Generation III.\n",
      "Description 3: is a Bug-type Pokémon introduced in Generation V.\n"
     ]
    }
   ],
   "source": [
    "num_description_test = 4\n",
    "for i in range(num_description_test):\n",
    "    print(f\"Description {i}: {df['Description'][i]}\")\n",
    "\n",
    "(matrix, wordbase) = preliminaryWork(df['Description'][:num_description_test])\n"
   ]
  },
  {
   "cell_type": "markdown",
   "metadata": {},
   "source": [
    "Affichons la matrice "
   ]
  },
  {
   "cell_type": "code",
   "execution_count": 22,
   "metadata": {},
   "outputs": [
    {
     "data": {
      "text/html": [
       "<div>\n",
       "<style scoped>\n",
       "    .dataframe tbody tr th:only-of-type {\n",
       "        vertical-align: middle;\n",
       "    }\n",
       "\n",
       "    .dataframe tbody tr th {\n",
       "        vertical-align: top;\n",
       "    }\n",
       "\n",
       "    .dataframe thead th {\n",
       "        text-align: right;\n",
       "    }\n",
       "</style>\n",
       "<table border=\"1\" class=\"dataframe\">\n",
       "  <thead>\n",
       "    <tr style=\"text-align: right;\">\n",
       "      <th></th>\n",
       "      <th>dual-typ</th>\n",
       "      <th>iv</th>\n",
       "      <th>v</th>\n",
       "      <th>grass/ic</th>\n",
       "      <th>psychic-typ</th>\n",
       "      <th>iii</th>\n",
       "      <th>bug-typ</th>\n",
       "      <th>gener</th>\n",
       "      <th>introduc</th>\n",
       "      <th>pokémon</th>\n",
       "      <th>dark-typ</th>\n",
       "    </tr>\n",
       "    <tr>\n",
       "      <th>id</th>\n",
       "      <th></th>\n",
       "      <th></th>\n",
       "      <th></th>\n",
       "      <th></th>\n",
       "      <th></th>\n",
       "      <th></th>\n",
       "      <th></th>\n",
       "      <th></th>\n",
       "      <th></th>\n",
       "      <th></th>\n",
       "      <th></th>\n",
       "    </tr>\n",
       "  </thead>\n",
       "  <tbody>\n",
       "    <tr>\n",
       "      <th>abomasnow</th>\n",
       "      <td>0.960906</td>\n",
       "      <td>0.960906</td>\n",
       "      <td>0.000000</td>\n",
       "      <td>0.960906</td>\n",
       "      <td>0.000000</td>\n",
       "      <td>0.000000</td>\n",
       "      <td>0.000000</td>\n",
       "      <td>0.0</td>\n",
       "      <td>0.0</td>\n",
       "      <td>0.0</td>\n",
       "      <td>0.000000</td>\n",
       "    </tr>\n",
       "    <tr>\n",
       "      <th>abra</th>\n",
       "      <td>0.000000</td>\n",
       "      <td>0.000000</td>\n",
       "      <td>0.000000</td>\n",
       "      <td>0.000000</td>\n",
       "      <td>0.960906</td>\n",
       "      <td>0.000000</td>\n",
       "      <td>0.000000</td>\n",
       "      <td>0.0</td>\n",
       "      <td>0.0</td>\n",
       "      <td>0.0</td>\n",
       "      <td>0.000000</td>\n",
       "    </tr>\n",
       "    <tr>\n",
       "      <th>absol</th>\n",
       "      <td>0.000000</td>\n",
       "      <td>0.000000</td>\n",
       "      <td>0.000000</td>\n",
       "      <td>0.000000</td>\n",
       "      <td>0.000000</td>\n",
       "      <td>0.960906</td>\n",
       "      <td>0.000000</td>\n",
       "      <td>0.0</td>\n",
       "      <td>0.0</td>\n",
       "      <td>0.0</td>\n",
       "      <td>0.960906</td>\n",
       "    </tr>\n",
       "    <tr>\n",
       "      <th>accelgor</th>\n",
       "      <td>0.000000</td>\n",
       "      <td>0.000000</td>\n",
       "      <td>0.960906</td>\n",
       "      <td>0.000000</td>\n",
       "      <td>0.000000</td>\n",
       "      <td>0.000000</td>\n",
       "      <td>0.960906</td>\n",
       "      <td>0.0</td>\n",
       "      <td>0.0</td>\n",
       "      <td>0.0</td>\n",
       "      <td>0.000000</td>\n",
       "    </tr>\n",
       "  </tbody>\n",
       "</table>\n",
       "</div>"
      ],
      "text/plain": [
       "           dual-typ        iv         v  grass/ic  psychic-typ       iii  \\\n",
       "id                                                                         \n",
       "abomasnow  0.960906  0.960906  0.000000  0.960906     0.000000  0.000000   \n",
       "abra       0.000000  0.000000  0.000000  0.000000     0.960906  0.000000   \n",
       "absol      0.000000  0.000000  0.000000  0.000000     0.000000  0.960906   \n",
       "accelgor   0.000000  0.000000  0.960906  0.000000     0.000000  0.000000   \n",
       "\n",
       "            bug-typ  gener  introduc  pokémon  dark-typ  \n",
       "id                                                       \n",
       "abomasnow  0.000000    0.0       0.0      0.0  0.000000  \n",
       "abra       0.000000    0.0       0.0      0.0  0.000000  \n",
       "absol      0.000000    0.0       0.0      0.0  0.960906  \n",
       "accelgor   0.960906    0.0       0.0      0.0  0.000000  "
      ]
     },
     "execution_count": 22,
     "metadata": {},
     "output_type": "execute_result"
    }
   ],
   "source": [
    "df2 = pd.DataFrame(np.array(matrix),columns=wordbase,index=df['id'][:num_description_test])\n",
    "\n",
    "num_description_test= 4\n",
    "counter = 0\n",
    "\n",
    "df2"
   ]
  },
  {
   "attachments": {},
   "cell_type": "markdown",
   "metadata": {},
   "source": [
    "Si l'on considère le mot \"dark-typ\" qui n'apparaît que dans la description 3, il obtient un score de 0,960906 (proche de 1), ce qui démontre son importance non seulement dans sa propre description, mais aussi par rapport aux autres descriptions."
   ]
  },
  {
   "attachments": {},
   "cell_type": "markdown",
   "metadata": {},
   "source": [
    "## B. Traitement d'une recherche\n",
    "\n",
    "Après avoir construit la matrice représentative du corpus, on souhaitera traiter les demandes de l'utilisateur. Pour ce faire, nous allons procéder en deux étapes :\n",
    "\n",
    "* tout d'abord, nous allons vectoriser la demande de l'utilisateur, de la même manière que nous avons vectorisé les descriptions du corpus \n",
    "* ensuite, nous allons identifier la description la plus similaire à la demande en calculant la similarité entre la demande et chaque description."
   ]
  },
  {
   "attachments": {},
   "cell_type": "markdown",
   "metadata": {},
   "source": [
    "### a. Vectorisation de la requête\n",
    "\n",
    "Nous souhaitons transformer la requête en un vecteur. Pour que les vecteurs de la requête et des descriptions soient comparables et que les calculs aient une signification, il est nécessaire d'appliquer le même traitement à la requête qu'à celui appliqué aux descriptions. Ainsi, nous sommes assurés que les coordonnées du vecteur de la requête portent sur les bons tokens.\n",
    "\n",
    "Pour assigner les coordonnées du vecteur, on attribue simplement à chaque token sa fréquence dans la requête.\n",
    "\n",
    "Afin de réaliser cette opération, les fonctions \"split\" et \"count\" utilisées pour le traitement du corpus sont réutilisées pour créer la fonction \"vectorisation\" suivante :"
   ]
  },
  {
   "cell_type": "markdown",
   "metadata": {},
   "source": [
    "### Dans notre cas, l'utiliseur possède les données suivantes:"
   ]
  },
  {
   "cell_type": "code",
   "execution_count": 23,
   "metadata": {},
   "outputs": [
    {
     "name": "stdout",
     "output_type": "stream",
     "text": [
      "data: {'users': [{'name': 'yamine', 'name_photo_liked': ['bronzor', 'arbok', 'cacturne', 'boldore']}, {'name': 'morgane', 'name_photo_liked': ['clefable', 'combee', 'corsola', 'dragonair']}, {'name': 'emre', 'name_photo_liked': ['crustle', 'duskull']}, {'name': 'abou', 'name_photo_liked': ['corsola', 'beldum', 'archen']}]}\n"
     ]
    }
   ],
   "source": [
    "# Loading our users\n",
    "import json\n",
    "\n",
    "with open('user_demo.json') as json_file:\n",
    "    data = json.load(json_file)\n",
    "\n",
    "print(f\"data: {data}\")"
   ]
  },
  {
   "attachments": {},
   "cell_type": "markdown",
   "metadata": {},
   "source": [
    "Par exemple l'utilisateur Yamine a liké les photos suivantes:"
   ]
  },
  {
   "cell_type": "code",
   "execution_count": 26,
   "metadata": {},
   "outputs": [
    {
     "name": "stdout",
     "output_type": "stream",
     "text": [
      "Pokemons liked by Yamine: ['bronzor', 'arbok', 'cacturne', 'boldore']\n"
     ]
    },
    {
     "data": {
      "image/png": "[encoded data removed]",
      "text/plain": [
       "<Figure size 640x480 with 1 Axes>"
      ]
     },
     "metadata": {},
     "output_type": "display_data"
    },
    {
     "data": {
      "image/png": "[encoded data removed]",
      "text/plain": [
       "<Figure size 640x480 with 1 Axes>"
      ]
     },
     "metadata": {},
     "output_type": "display_data"
    },
    {
     "data": {
      "image/png": "[encoded data removed]",
      "text/plain": [
       "<Figure size 640x480 with 1 Axes>"
      ]
     },
     "metadata": {},
     "output_type": "display_data"
    },
    {
     "data": {
      "image/png": "[encoded data removed]",
      "text/plain": [
       "<Figure size 640x480 with 1 Axes>"
      ]
     },
     "metadata": {},
     "output_type": "display_data"
    }
   ],
   "source": [
    "def find_user(user_dict: dict, name: str):\n",
    "    \"\"\"Find user by his name\"\"\"\n",
    "    user_profile = user_dict.get(name)\n",
    "    if user_profile is None:\n",
    "        raise ValueError(f\"User with name {name} not found in user list\")\n",
    "    return user_profile\n",
    "\n",
    "# Load user data from JSON file\n",
    "with open('user_demo.json') as json_file:\n",
    "    data = json.load(json_file)\n",
    "\n",
    "# Create a dictionary of user profiles keyed by user name\n",
    "user_dict = {user['name']: user for user in data['users']}\n",
    "\n",
    "# Find user profile for \"yamine\"\n",
    "try:\n",
    "    user_profile = find_user(user_dict, \"yamine\")\n",
    "except ValueError as e:\n",
    "    print(e)\n",
    "else:\n",
    "    # Get list of photos liked by \"yamine\"\n",
    "    photo_liked_by_yamine = user_profile.get('name_photo_liked')\n",
    "    print(f\"Pokemons liked by Yamine: {photo_liked_by_yamine}\")\n",
    "\n",
    "    # Display images for each photo liked by \"yamine\"\n",
    "    for image in photo_liked_by_yamine:\n",
    "        try:\n",
    "            # Load image file\n",
    "            img_path = os.path.join(\"./dataset/images\", f\"{image}.png\")\n",
    "            img = mpimg.imread(img_path)\n",
    "\n",
    "            # Display image and its name\n",
    "            plt.imshow(img)\n",
    "            plt.title(f\"Image name: {image}\")\n",
    "            plt.show()\n",
    "        except Exception as e:\n",
    "            print(f\"Error loading image {image}: {e}\")\n"
   ]
  },
  {
   "cell_type": "markdown",
   "metadata": {},
   "source": [
    "Nous allons récupérer les descriptions liées à ces photos"
   ]
  },
  {
   "cell_type": "code",
   "execution_count": 27,
   "metadata": {},
   "outputs": [
    {
     "data": {
      "text/html": [
       "<div>\n",
       "<style scoped>\n",
       "    .dataframe tbody tr th:only-of-type {\n",
       "        vertical-align: middle;\n",
       "    }\n",
       "\n",
       "    .dataframe tbody tr th {\n",
       "        vertical-align: top;\n",
       "    }\n",
       "\n",
       "    .dataframe thead th {\n",
       "        text-align: right;\n",
       "    }\n",
       "</style>\n",
       "<table border=\"1\" class=\"dataframe\">\n",
       "  <thead>\n",
       "    <tr style=\"text-align: right;\">\n",
       "      <th></th>\n",
       "      <th>id</th>\n",
       "      <th>Description</th>\n",
       "    </tr>\n",
       "  </thead>\n",
       "  <tbody>\n",
       "    <tr>\n",
       "      <th>17</th>\n",
       "      <td>arbok</td>\n",
       "      <td>is a Poison-type Pokémon introduced in Generat...</td>\n",
       "    </tr>\n",
       "    <tr>\n",
       "      <th>61</th>\n",
       "      <td>boldore</td>\n",
       "      <td>is a Rock-type Pokémon introduced in Generatio...</td>\n",
       "    </tr>\n",
       "    <tr>\n",
       "      <th>70</th>\n",
       "      <td>bronzor</td>\n",
       "      <td>is a dual-type Steel/Psychic Pokémon introduce...</td>\n",
       "    </tr>\n",
       "    <tr>\n",
       "      <th>81</th>\n",
       "      <td>cacturne</td>\n",
       "      <td>is a dual-type Grass/Dark Pokémon introduced i...</td>\n",
       "    </tr>\n",
       "  </tbody>\n",
       "</table>\n",
       "</div>"
      ],
      "text/plain": [
       "          id                                        Description\n",
       "17     arbok  is a Poison-type Pokémon introduced in Generat...\n",
       "61   boldore  is a Rock-type Pokémon introduced in Generatio...\n",
       "70   bronzor  is a dual-type Steel/Psychic Pokémon introduce...\n",
       "81  cacturne  is a dual-type Grass/Dark Pokémon introduced i..."
      ]
     },
     "execution_count": 27,
     "metadata": {},
     "output_type": "execute_result"
    }
   ],
   "source": [
    "keep_df = df.loc[df['id'].isin(photo_liked_by_yamine)]\n",
    "keep_df"
   ]
  },
  {
   "attachments": {},
   "cell_type": "markdown",
   "metadata": {},
   "source": [
    "Nous utiliserons ces dernières comme requêtes pour recommander 4 photos à l'utilisateur, liées à l'image précédente."
   ]
  },
  {
   "cell_type": "code",
   "execution_count": 29,
   "metadata": {},
   "outputs": [
    {
     "name": "stdout",
     "output_type": "stream",
     "text": [
      "description_test: is a dual-type Grass/Dark Pokémon introduced in Generation III.\n"
     ]
    }
   ],
   "source": [
    "# Retrieving the description of the last image\n",
    "# We obtain:\n",
    "\n",
    "description_test = keep_df['Description'].values[int(len(keep_df))-1]\n",
    "print(f\"description_test: {description_test}\")"
   ]
  },
  {
   "cell_type": "code",
   "execution_count": 31,
   "metadata": {},
   "outputs": [],
   "source": [
    "def vectorisation(text, wordbase):\n",
    "    \"\"\"Transforms a text string into a vector representation in the corpus base.\n",
    "    \n",
    "    Given a text string and a list of words in the corpus, this function counts \n",
    "    the occurrences of each word in the text and returns a vector whose entries \n",
    "    correspond to the word frequencies.\n",
    "    \n",
    "    Args:\n",
    "        text (str): The input text to be transformed into a vector.\n",
    "        wordbase (list of str): The list of words in the corpus used as a reference \n",
    "            for the vector representation.\n",
    "    \n",
    "    Returns:\n",
    "        list of int: The vector representation of the input text in the corpus base.\n",
    "    \"\"\"\n",
    "    return count(split(text), wordbase)\n"
   ]
  },
  {
   "attachments": {},
   "cell_type": "markdown",
   "metadata": {},
   "source": [
    "### b. Calcul de similarité\n",
    "\n",
    "Pour évaluer la proximité de chaque description avec la requête, nous allons calculer un score pour chacune d'elles. Nous allons utiliser la similarité cosinus pour mesurer cette proximité. Pour chaque vecteur représentant un texte dans le corpus, c'est-à-dire pour chaque ligne de la matrice, nous allons calculer sa similarité avec le vecteur représentant la requête. La formule de similarité cosinus est la suivante :<br>\n",
    "Sim(t) = <R, T> / ( ||R|| * ||T|| )<br>\n",
    "Ici, T représente le vecteur de la description t (= la ligne M[t]), R représente le vecteur de la requête, <,> désigne le produit scalaire et || || la norme associée. Nous allons calculer cette valeur pour chaque description du corpus, puis sélectionner les meilleures réponses en fonction d'un nombre arbitraire de résultats souhaités. Les fonctions suivantes ont donc été définies :"
   ]
  },
  {
   "attachments": {},
   "cell_type": "markdown",
   "metadata": {},
   "source": [
    "Nous allons lui recommander 3 images par rapport à l'image précédente"
   ]
  },
  {
   "cell_type": "code",
   "execution_count": 34,
   "metadata": {},
   "outputs": [],
   "source": [
    "import math\n",
    "nbTop =  3\n",
    "\n",
    "def scal(v1, v2):\n",
    "    \"\"\" Function that calculates the dot product between two vectors of the same size and returns it.\"\"\"\n",
    "    scal = 0\n",
    "    for i in range(len(v1)):\n",
    "        scal += v1[i] * v2[i]\n",
    "    return (scal)\n",
    "  \n",
    "    \n",
    "def norm(v):\n",
    "    \"\"\" Function that calculates the L2 norm of a vector and returns it.\"\"\"\n",
    "    n = math.sqrt(scal(v, v))\n",
    "    if (n == 0):\n",
    "        n = 1\n",
    "    return (n)\n",
    "\n",
    "\n",
    "def iMax(similarity):\n",
    "    \"\"\" Function that returns the index of the maximum value in the list passed as a parameter.\"\"\"\n",
    "    imax = 0\n",
    "    for i in range(1,len(similarity)):\n",
    "        if (similarity[i] > similarity[imax]):\n",
    "            imax = i\n",
    "    return (imax)\n",
    "\n",
    "\n",
    "def top(similarity, nbTop):\n",
    "    \"\"\" Function that returns the list of indices of the nbTop largest elements\n",
    "    in the list passed as a parameter (similarity), in descending order.\"\"\"\n",
    "    order = []\n",
    "    cptTop = 0\n",
    "    imax = iMax(similarity)\n",
    "    while (similarity[imax] >= 0 and cptTop < nbTop):\n",
    "        order.append(imax)\n",
    "        # We set to -1 the element whose index we just took to no longer consider it\n",
    "        similarity[imax] = -1\n",
    "        cptTop += 1\n",
    "        imax = iMax(similarity)\n",
    "    return (order)\n",
    "\n",
    "\n",
    "def research(request, matrix, wordbase):\n",
    "    \"\"\" Function that takes a request as a string, the representative matrix of the corpus,\n",
    "    and the list of tokens as parameters, and returns the list of indices of the descriptions\n",
    "    in the corpus that most closely match the request. \"\"\"\n",
    "    # Vectorization of the request\n",
    "    vector = vectorisation(request, wordbase)\n",
    "    # Calculation of the list of similarity scores for each vector in the matrix\n",
    "    similarity = []\n",
    "    for v2 in matrix:\n",
    "        similarity.append(scal(vector, v2) / (norm(vector) * norm(v2)))\n",
    "    # We return the best results\n",
    "    return (top(similarity, nbTop))\n",
    "\n",
    "\n",
    "def printResearch(order, corpus):\n",
    "    \"\"\" Function that, given the results of a query (list of indices) and the corpus used,\n",
    "    displays the texts in the console, the most representative one first\"\"\"\n",
    "    print(\"*\\t*\\t*\\t*\\t*\\t*\\t*\\t*\")\n",
    "    print(\"*\\t*\\tResearch Result\\t*\\t*\")\n",
    "    print(\"*\\t*\\t*\\t*\\t*\\t*\\t*\\t*\\n\\n\")\n",
    "    for i in range(len(order)):\n",
    "        print(\"*\\t*\\t*\\t*\\t*\\t*\\t*\\t*\")\n",
    "        print(\"*\\t*\\tNumber\" + str(i + 1) + \" - Image \" + str(order[i]) + \"\\t*\\t*\\t*\")\n",
    "        print(\"*\\t*\\t*\\t*\\t*\\t*\\t*\\t*\\n\\n\")\n",
    "        print(corpus[order[i]])\n",
    "        printImage(str(order[i]))\n",
    "\n",
    "    \n",
    "def printImage(rows: str):\n",
    "    \"\"\"Displays the image corresponding to the found row\"\"\"\n",
    "    current_id = df.iloc[int(rows)][\"id\"]\n",
    "    print(f\"current_id: {current_id}\")\n",
    "    img = mpimg.imread(f\"dataset/images/{current_id}.png\")\n",
    "    imgplot = plt.imshow(img)\n",
    "    plt.show()"
   ]
  },
  {
   "cell_type": "markdown",
   "metadata": {},
   "source": [
    "## 2. Exécution de l'application"
   ]
  },
  {
   "cell_type": "markdown",
   "metadata": {},
   "source": [
    "Ouverture des données"
   ]
  },
  {
   "cell_type": "code",
   "execution_count": 35,
   "metadata": {},
   "outputs": [
    {
     "name": "stderr",
     "output_type": "stream",
     "text": [
      "/tmp/ipykernel_2088/3204077437.py:4: FutureWarning: The error_bad_lines argument has been deprecated and will be removed in a future version. Use on_bad_lines in the future.\n",
      "\n",
      "\n",
      "  df = pd.read_csv(r'dataset/pokemon.csv', sep=',', error_bad_lines=False, warn_bad_lines=False)\n",
      "/tmp/ipykernel_2088/3204077437.py:4: FutureWarning: The warn_bad_lines argument has been deprecated and will be removed in a future version. Use on_bad_lines in the future.\n",
      "\n",
      "\n",
      "  df = pd.read_csv(r'dataset/pokemon.csv', sep=',', error_bad_lines=False, warn_bad_lines=False)\n"
     ]
    },
    {
     "data": {
      "text/html": [
       "<div>\n",
       "<style scoped>\n",
       "    .dataframe tbody tr th:only-of-type {\n",
       "        vertical-align: middle;\n",
       "    }\n",
       "\n",
       "    .dataframe tbody tr th {\n",
       "        vertical-align: top;\n",
       "    }\n",
       "\n",
       "    .dataframe thead th {\n",
       "        text-align: right;\n",
       "    }\n",
       "</style>\n",
       "<table border=\"1\" class=\"dataframe\">\n",
       "  <thead>\n",
       "    <tr style=\"text-align: right;\">\n",
       "      <th></th>\n",
       "      <th>id</th>\n",
       "      <th>Description</th>\n",
       "    </tr>\n",
       "  </thead>\n",
       "  <tbody>\n",
       "    <tr>\n",
       "      <th>0</th>\n",
       "      <td>abomasnow</td>\n",
       "      <td>is a dual-type Grass/Ice Pokémon introduced in...</td>\n",
       "    </tr>\n",
       "    <tr>\n",
       "      <th>1</th>\n",
       "      <td>abra</td>\n",
       "      <td>is a Psychic-type Pokémon introduced in Genera...</td>\n",
       "    </tr>\n",
       "    <tr>\n",
       "      <th>2</th>\n",
       "      <td>absol</td>\n",
       "      <td>is a Dark-type Pokémon introduced in Generatio...</td>\n",
       "    </tr>\n",
       "    <tr>\n",
       "      <th>3</th>\n",
       "      <td>accelgor</td>\n",
       "      <td>is a Bug-type Pokémon introduced in Generation V.</td>\n",
       "    </tr>\n",
       "    <tr>\n",
       "      <th>4</th>\n",
       "      <td>aegislash-blade</td>\n",
       "      <td>is a dual-type Steel/Ghost Pokémon introduced ...</td>\n",
       "    </tr>\n",
       "    <tr>\n",
       "      <th>...</th>\n",
       "      <td>...</td>\n",
       "      <td>...</td>\n",
       "    </tr>\n",
       "    <tr>\n",
       "      <th>93</th>\n",
       "      <td>chansey</td>\n",
       "      <td>Chansey is a Normal-type Pokémon introduced in...</td>\n",
       "    </tr>\n",
       "    <tr>\n",
       "      <th>94</th>\n",
       "      <td>charizard</td>\n",
       "      <td>Charizard is a dual-type Fire/Flying Pokémon i...</td>\n",
       "    </tr>\n",
       "    <tr>\n",
       "      <th>95</th>\n",
       "      <td>charmander</td>\n",
       "      <td>Charmander is a Fire-type Pokémon introduced i...</td>\n",
       "    </tr>\n",
       "    <tr>\n",
       "      <th>96</th>\n",
       "      <td>charmeleon</td>\n",
       "      <td>Charmeleon is a Fire-type Pokémon introduced i...</td>\n",
       "    </tr>\n",
       "    <tr>\n",
       "      <th>97</th>\n",
       "      <td>chatot</td>\n",
       "      <td>Chatot is a dual-type Normal/Flying Pokémon in...</td>\n",
       "    </tr>\n",
       "  </tbody>\n",
       "</table>\n",
       "<p>98 rows × 2 columns</p>\n",
       "</div>"
      ],
      "text/plain": [
       "                 id                                        Description\n",
       "0         abomasnow  is a dual-type Grass/Ice Pokémon introduced in...\n",
       "1              abra  is a Psychic-type Pokémon introduced in Genera...\n",
       "2             absol  is a Dark-type Pokémon introduced in Generatio...\n",
       "3          accelgor  is a Bug-type Pokémon introduced in Generation V.\n",
       "4   aegislash-blade  is a dual-type Steel/Ghost Pokémon introduced ...\n",
       "..              ...                                                ...\n",
       "93          chansey  Chansey is a Normal-type Pokémon introduced in...\n",
       "94        charizard  Charizard is a dual-type Fire/Flying Pokémon i...\n",
       "95       charmander  Charmander is a Fire-type Pokémon introduced i...\n",
       "96       charmeleon  Charmeleon is a Fire-type Pokémon introduced i...\n",
       "97           chatot  Chatot is a dual-type Normal/Flying Pokémon in...\n",
       "\n",
       "[98 rows x 2 columns]"
      ]
     },
     "execution_count": 35,
     "metadata": {},
     "output_type": "execute_result"
    }
   ],
   "source": [
    "# Open dataset\n",
    "\n",
    "# Get header csv\n",
    "df = pd.read_csv(r'dataset/pokemon.csv', sep=',', error_bad_lines=False, warn_bad_lines=False)\n",
    "df.sort_values('id', ascending = True )\n",
    "# Delete unless columns\n",
    "df = df.drop(['Type1', 'Type2'], axis=1)\n",
    "df"
   ]
  },
  {
   "attachments": {},
   "cell_type": "markdown",
   "metadata": {},
   "source": [
    "Rappelons les photos likées par l'utilisateur appelé \"yamine\""
   ]
  },
  {
   "cell_type": "code",
   "execution_count": 36,
   "metadata": {},
   "outputs": [
    {
     "name": "stdout",
     "output_type": "stream",
     "text": [
      "Pokemons liked by Yamine: ['bronzor', 'arbok', 'cacturne', 'boldore']\n"
     ]
    },
    {
     "data": {
      "image/png": "[encoded data removed]",
      "text/plain": [
       "<Figure size 640x480 with 1 Axes>"
      ]
     },
     "metadata": {},
     "output_type": "display_data"
    },
    {
     "data": {
      "image/png": "[encoded data removed]",
      "text/plain": [
       "<Figure size 640x480 with 1 Axes>"
      ]
     },
     "metadata": {},
     "output_type": "display_data"
    },
    {
     "data": {
      "image/png": "[encoded data removed]",
      "text/plain": [
       "<Figure size 640x480 with 1 Axes>"
      ]
     },
     "metadata": {},
     "output_type": "display_data"
    },
    {
     "data": {
      "image/png": "[encoded data removed]",
      "text/plain": [
       "<Figure size 640x480 with 1 Axes>"
      ]
     },
     "metadata": {},
     "output_type": "display_data"
    }
   ],
   "source": [
    "def find_user(user_dict: dict, name: str):\n",
    "    \"\"\"Find user by his name\"\"\"\n",
    "    user_profile = user_dict.get(name)\n",
    "    if user_profile is None:\n",
    "        raise ValueError(f\"User with name {name} not found in user list\")\n",
    "    return user_profile\n",
    "\n",
    "# Load user data from JSON file\n",
    "with open('user_demo.json') as json_file:\n",
    "    data = json.load(json_file)\n",
    "\n",
    "# Create a dictionary of user profiles keyed by user name\n",
    "user_dict = {user['name']: user for user in data['users']}\n",
    "\n",
    "# Find user profile for \"yamine\"\n",
    "try:\n",
    "    user_profile = find_user(user_dict, \"yamine\")\n",
    "except ValueError as e:\n",
    "    print(e)\n",
    "else:\n",
    "    # Get list of photos liked by \"yamine\"\n",
    "    photo_liked_by_yamine = user_profile.get('name_photo_liked')\n",
    "    print(f\"Pokemons liked by Yamine: {photo_liked_by_yamine}\")\n",
    "\n",
    "    # Display images for each photo liked by \"yamine\"\n",
    "    for image in photo_liked_by_yamine:\n",
    "        try:\n",
    "            # Load image file\n",
    "            img_path = os.path.join(\"./dataset/images\", f\"{image}.png\")\n",
    "            img = mpimg.imread(img_path)\n",
    "\n",
    "            # Display image and its name\n",
    "            plt.imshow(img)\n",
    "            plt.title(f\"Image name: {image}\")\n",
    "            plt.show()\n",
    "        except Exception as e:\n",
    "            print(f\"Error loading image {image}: {e}\")\n"
   ]
  },
  {
   "cell_type": "code",
   "execution_count": 37,
   "metadata": {},
   "outputs": [
    {
     "name": "stdout",
     "output_type": "stream",
     "text": [
      "row yamine liked:           id                                        Description\n",
      "17     arbok  is a Poison-type Pokémon introduced in Generat...\n",
      "61   boldore  is a Rock-type Pokémon introduced in Generatio...\n",
      "70   bronzor  is a dual-type Steel/Psychic Pokémon introduce...\n",
      "81  cacturne  is a dual-type Grass/Dark Pokémon introduced i...\n",
      "\n",
      "df with rows deletes:                  id                                        Description\n",
      "0         abomasnow  is a dual-type Grass/Ice Pokémon introduced in...\n",
      "1              abra  is a Psychic-type Pokémon introduced in Genera...\n",
      "2             absol  is a Dark-type Pokémon introduced in Generatio...\n",
      "3          accelgor  is a Bug-type Pokémon introduced in Generation V.\n",
      "4   aegislash-blade  is a dual-type Steel/Ghost Pokémon introduced ...\n",
      "..              ...                                                ...\n",
      "93          chansey  Chansey is a Normal-type Pokémon introduced in...\n",
      "94        charizard  Charizard is a dual-type Fire/Flying Pokémon i...\n",
      "95       charmander  Charmander is a Fire-type Pokémon introduced i...\n",
      "96       charmeleon  Charmeleon is a Fire-type Pokémon introduced i...\n",
      "97           chatot  Chatot is a dual-type Normal/Flying Pokémon in...\n",
      "\n",
      "[94 rows x 2 columns]\n"
     ]
    }
   ],
   "source": [
    "# Retreving relevant rows\n",
    "keep_df = df.loc[df['id'].isin(photo_liked_by_yamine)]\n",
    "print(f\"row yamine liked: {keep_df}\\n\")\n",
    "\n",
    "# Removing the relevant rows from the dataset\n",
    "for id_photo in photo_liked_by_yamine:\n",
    "    indexNames = df[df['id'] == id_photo].index\n",
    "    # Delete these row indexes from dataFrame\n",
    "    df.drop(indexNames , inplace=True)\n",
    "    \n",
    "print(f\"df with rows deletes: {df}\")"
   ]
  },
  {
   "cell_type": "code",
   "execution_count": 39,
   "metadata": {},
   "outputs": [
    {
     "data": {
      "text/plain": [
       "11"
      ]
     },
     "execution_count": 39,
     "metadata": {},
     "output_type": "execute_result"
    }
   ],
   "source": [
    "# Number of lines to keep\n",
    "line_number = len(df)//8 #  Voluntary choice to avoid array size problems\n",
    "line_number"
   ]
  },
  {
   "cell_type": "code",
   "execution_count": 40,
   "metadata": {},
   "outputs": [
    {
     "data": {
      "text/html": [
       "<div>\n",
       "<style scoped>\n",
       "    .dataframe tbody tr th:only-of-type {\n",
       "        vertical-align: middle;\n",
       "    }\n",
       "\n",
       "    .dataframe tbody tr th {\n",
       "        vertical-align: top;\n",
       "    }\n",
       "\n",
       "    .dataframe thead th {\n",
       "        text-align: right;\n",
       "    }\n",
       "</style>\n",
       "<table border=\"1\" class=\"dataframe\">\n",
       "  <thead>\n",
       "    <tr style=\"text-align: right;\">\n",
       "      <th></th>\n",
       "      <th>dual-typ</th>\n",
       "      <th>iv</th>\n",
       "      <th>grass/ic</th>\n",
       "      <th>psychic-typ</th>\n",
       "      <th>normal-typ</th>\n",
       "      <th>bug-typ</th>\n",
       "      <th>ii</th>\n",
       "      <th>steel/ghost</th>\n",
       "      <th>dragon/fli</th>\n",
       "      <th>pokémon</th>\n",
       "      <th>steel/rock</th>\n",
       "      <th>dark-typ</th>\n",
       "      <th>v</th>\n",
       "      <th>vi</th>\n",
       "      <th>iii</th>\n",
       "      <th>water-typ</th>\n",
       "      <th>gener</th>\n",
       "      <th>rock/fli</th>\n",
       "      <th>introduc</th>\n",
       "    </tr>\n",
       "    <tr>\n",
       "      <th>id</th>\n",
       "      <th></th>\n",
       "      <th></th>\n",
       "      <th></th>\n",
       "      <th></th>\n",
       "      <th></th>\n",
       "      <th></th>\n",
       "      <th></th>\n",
       "      <th></th>\n",
       "      <th></th>\n",
       "      <th></th>\n",
       "      <th></th>\n",
       "      <th></th>\n",
       "      <th></th>\n",
       "      <th></th>\n",
       "      <th></th>\n",
       "      <th></th>\n",
       "      <th></th>\n",
       "      <th></th>\n",
       "      <th></th>\n",
       "    </tr>\n",
       "  </thead>\n",
       "  <tbody>\n",
       "    <tr>\n",
       "      <th>abomasnow</th>\n",
       "      <td>0.546517</td>\n",
       "      <td>1.662094</td>\n",
       "      <td>1.662094</td>\n",
       "      <td>0.000000</td>\n",
       "      <td>0.000000</td>\n",
       "      <td>0.000000</td>\n",
       "      <td>0.000000</td>\n",
       "      <td>0.000000</td>\n",
       "      <td>0.000000</td>\n",
       "      <td>0.0</td>\n",
       "      <td>0.000000</td>\n",
       "      <td>0.000000</td>\n",
       "      <td>0.000000</td>\n",
       "      <td>0.000000</td>\n",
       "      <td>0.000000</td>\n",
       "      <td>0.000000</td>\n",
       "      <td>0.0</td>\n",
       "      <td>0.000000</td>\n",
       "      <td>0.0</td>\n",
       "    </tr>\n",
       "    <tr>\n",
       "      <th>abra</th>\n",
       "      <td>0.000000</td>\n",
       "      <td>0.000000</td>\n",
       "      <td>0.000000</td>\n",
       "      <td>1.181641</td>\n",
       "      <td>0.000000</td>\n",
       "      <td>0.000000</td>\n",
       "      <td>0.000000</td>\n",
       "      <td>0.000000</td>\n",
       "      <td>0.000000</td>\n",
       "      <td>0.0</td>\n",
       "      <td>0.000000</td>\n",
       "      <td>0.000000</td>\n",
       "      <td>0.000000</td>\n",
       "      <td>0.000000</td>\n",
       "      <td>0.000000</td>\n",
       "      <td>0.000000</td>\n",
       "      <td>0.0</td>\n",
       "      <td>0.000000</td>\n",
       "      <td>0.0</td>\n",
       "    </tr>\n",
       "    <tr>\n",
       "      <th>absol</th>\n",
       "      <td>0.000000</td>\n",
       "      <td>0.000000</td>\n",
       "      <td>0.000000</td>\n",
       "      <td>0.000000</td>\n",
       "      <td>0.000000</td>\n",
       "      <td>0.000000</td>\n",
       "      <td>0.000000</td>\n",
       "      <td>0.000000</td>\n",
       "      <td>0.000000</td>\n",
       "      <td>0.0</td>\n",
       "      <td>0.000000</td>\n",
       "      <td>1.662094</td>\n",
       "      <td>0.000000</td>\n",
       "      <td>0.000000</td>\n",
       "      <td>0.900594</td>\n",
       "      <td>0.000000</td>\n",
       "      <td>0.0</td>\n",
       "      <td>0.000000</td>\n",
       "      <td>0.0</td>\n",
       "    </tr>\n",
       "    <tr>\n",
       "      <th>accelgor</th>\n",
       "      <td>0.000000</td>\n",
       "      <td>0.000000</td>\n",
       "      <td>0.000000</td>\n",
       "      <td>0.000000</td>\n",
       "      <td>0.000000</td>\n",
       "      <td>1.662094</td>\n",
       "      <td>0.000000</td>\n",
       "      <td>0.000000</td>\n",
       "      <td>0.000000</td>\n",
       "      <td>0.0</td>\n",
       "      <td>0.000000</td>\n",
       "      <td>0.000000</td>\n",
       "      <td>1.181641</td>\n",
       "      <td>0.000000</td>\n",
       "      <td>0.000000</td>\n",
       "      <td>0.000000</td>\n",
       "      <td>0.0</td>\n",
       "      <td>0.000000</td>\n",
       "      <td>0.0</td>\n",
       "    </tr>\n",
       "    <tr>\n",
       "      <th>aegislash-blade</th>\n",
       "      <td>0.546517</td>\n",
       "      <td>0.000000</td>\n",
       "      <td>0.000000</td>\n",
       "      <td>0.000000</td>\n",
       "      <td>0.000000</td>\n",
       "      <td>0.000000</td>\n",
       "      <td>0.000000</td>\n",
       "      <td>1.662094</td>\n",
       "      <td>0.000000</td>\n",
       "      <td>0.0</td>\n",
       "      <td>0.000000</td>\n",
       "      <td>0.000000</td>\n",
       "      <td>0.000000</td>\n",
       "      <td>1.662094</td>\n",
       "      <td>0.000000</td>\n",
       "      <td>0.000000</td>\n",
       "      <td>0.0</td>\n",
       "      <td>0.000000</td>\n",
       "      <td>0.0</td>\n",
       "    </tr>\n",
       "    <tr>\n",
       "      <th>aerodactyl</th>\n",
       "      <td>0.546517</td>\n",
       "      <td>0.000000</td>\n",
       "      <td>0.000000</td>\n",
       "      <td>0.000000</td>\n",
       "      <td>0.000000</td>\n",
       "      <td>0.000000</td>\n",
       "      <td>0.000000</td>\n",
       "      <td>0.000000</td>\n",
       "      <td>0.000000</td>\n",
       "      <td>0.0</td>\n",
       "      <td>0.000000</td>\n",
       "      <td>0.000000</td>\n",
       "      <td>0.000000</td>\n",
       "      <td>0.000000</td>\n",
       "      <td>0.000000</td>\n",
       "      <td>0.000000</td>\n",
       "      <td>0.0</td>\n",
       "      <td>1.662094</td>\n",
       "      <td>0.0</td>\n",
       "    </tr>\n",
       "    <tr>\n",
       "      <th>aggron</th>\n",
       "      <td>0.546517</td>\n",
       "      <td>0.000000</td>\n",
       "      <td>0.000000</td>\n",
       "      <td>0.000000</td>\n",
       "      <td>0.000000</td>\n",
       "      <td>0.000000</td>\n",
       "      <td>0.000000</td>\n",
       "      <td>0.000000</td>\n",
       "      <td>0.000000</td>\n",
       "      <td>0.0</td>\n",
       "      <td>1.662094</td>\n",
       "      <td>0.000000</td>\n",
       "      <td>0.000000</td>\n",
       "      <td>0.000000</td>\n",
       "      <td>0.900594</td>\n",
       "      <td>0.000000</td>\n",
       "      <td>0.0</td>\n",
       "      <td>0.000000</td>\n",
       "      <td>0.0</td>\n",
       "    </tr>\n",
       "    <tr>\n",
       "      <th>aipom</th>\n",
       "      <td>0.000000</td>\n",
       "      <td>0.000000</td>\n",
       "      <td>0.000000</td>\n",
       "      <td>0.000000</td>\n",
       "      <td>1.662094</td>\n",
       "      <td>0.000000</td>\n",
       "      <td>1.662094</td>\n",
       "      <td>0.000000</td>\n",
       "      <td>0.000000</td>\n",
       "      <td>0.0</td>\n",
       "      <td>0.000000</td>\n",
       "      <td>0.000000</td>\n",
       "      <td>0.000000</td>\n",
       "      <td>0.000000</td>\n",
       "      <td>0.000000</td>\n",
       "      <td>0.000000</td>\n",
       "      <td>0.0</td>\n",
       "      <td>0.000000</td>\n",
       "      <td>0.0</td>\n",
       "    </tr>\n",
       "    <tr>\n",
       "      <th>alakazam</th>\n",
       "      <td>0.000000</td>\n",
       "      <td>0.000000</td>\n",
       "      <td>0.000000</td>\n",
       "      <td>1.181641</td>\n",
       "      <td>0.000000</td>\n",
       "      <td>0.000000</td>\n",
       "      <td>0.000000</td>\n",
       "      <td>0.000000</td>\n",
       "      <td>0.000000</td>\n",
       "      <td>0.0</td>\n",
       "      <td>0.000000</td>\n",
       "      <td>0.000000</td>\n",
       "      <td>0.000000</td>\n",
       "      <td>0.000000</td>\n",
       "      <td>0.000000</td>\n",
       "      <td>0.000000</td>\n",
       "      <td>0.0</td>\n",
       "      <td>0.000000</td>\n",
       "      <td>0.0</td>\n",
       "    </tr>\n",
       "    <tr>\n",
       "      <th>alomomola</th>\n",
       "      <td>0.000000</td>\n",
       "      <td>0.000000</td>\n",
       "      <td>0.000000</td>\n",
       "      <td>0.000000</td>\n",
       "      <td>0.000000</td>\n",
       "      <td>0.000000</td>\n",
       "      <td>0.000000</td>\n",
       "      <td>0.000000</td>\n",
       "      <td>0.000000</td>\n",
       "      <td>0.0</td>\n",
       "      <td>0.000000</td>\n",
       "      <td>0.000000</td>\n",
       "      <td>1.181641</td>\n",
       "      <td>0.000000</td>\n",
       "      <td>0.000000</td>\n",
       "      <td>1.662094</td>\n",
       "      <td>0.0</td>\n",
       "      <td>0.000000</td>\n",
       "      <td>0.0</td>\n",
       "    </tr>\n",
       "    <tr>\n",
       "      <th>altaria</th>\n",
       "      <td>0.546517</td>\n",
       "      <td>0.000000</td>\n",
       "      <td>0.000000</td>\n",
       "      <td>0.000000</td>\n",
       "      <td>0.000000</td>\n",
       "      <td>0.000000</td>\n",
       "      <td>0.000000</td>\n",
       "      <td>0.000000</td>\n",
       "      <td>1.662094</td>\n",
       "      <td>0.0</td>\n",
       "      <td>0.000000</td>\n",
       "      <td>0.000000</td>\n",
       "      <td>0.000000</td>\n",
       "      <td>0.000000</td>\n",
       "      <td>0.900594</td>\n",
       "      <td>0.000000</td>\n",
       "      <td>0.0</td>\n",
       "      <td>0.000000</td>\n",
       "      <td>0.0</td>\n",
       "    </tr>\n",
       "  </tbody>\n",
       "</table>\n",
       "</div>"
      ],
      "text/plain": [
       "                 dual-typ        iv  grass/ic  psychic-typ  normal-typ  \\\n",
       "id                                                                       \n",
       "abomasnow        0.546517  1.662094  1.662094     0.000000    0.000000   \n",
       "abra             0.000000  0.000000  0.000000     1.181641    0.000000   \n",
       "absol            0.000000  0.000000  0.000000     0.000000    0.000000   \n",
       "accelgor         0.000000  0.000000  0.000000     0.000000    0.000000   \n",
       "aegislash-blade  0.546517  0.000000  0.000000     0.000000    0.000000   \n",
       "aerodactyl       0.546517  0.000000  0.000000     0.000000    0.000000   \n",
       "aggron           0.546517  0.000000  0.000000     0.000000    0.000000   \n",
       "aipom            0.000000  0.000000  0.000000     0.000000    1.662094   \n",
       "alakazam         0.000000  0.000000  0.000000     1.181641    0.000000   \n",
       "alomomola        0.000000  0.000000  0.000000     0.000000    0.000000   \n",
       "altaria          0.546517  0.000000  0.000000     0.000000    0.000000   \n",
       "\n",
       "                  bug-typ        ii  steel/ghost  dragon/fli  pokémon  \\\n",
       "id                                                                      \n",
       "abomasnow        0.000000  0.000000     0.000000    0.000000      0.0   \n",
       "abra             0.000000  0.000000     0.000000    0.000000      0.0   \n",
       "absol            0.000000  0.000000     0.000000    0.000000      0.0   \n",
       "accelgor         1.662094  0.000000     0.000000    0.000000      0.0   \n",
       "aegislash-blade  0.000000  0.000000     1.662094    0.000000      0.0   \n",
       "aerodactyl       0.000000  0.000000     0.000000    0.000000      0.0   \n",
       "aggron           0.000000  0.000000     0.000000    0.000000      0.0   \n",
       "aipom            0.000000  1.662094     0.000000    0.000000      0.0   \n",
       "alakazam         0.000000  0.000000     0.000000    0.000000      0.0   \n",
       "alomomola        0.000000  0.000000     0.000000    0.000000      0.0   \n",
       "altaria          0.000000  0.000000     0.000000    1.662094      0.0   \n",
       "\n",
       "                 steel/rock  dark-typ         v        vi       iii  \\\n",
       "id                                                                    \n",
       "abomasnow          0.000000  0.000000  0.000000  0.000000  0.000000   \n",
       "abra               0.000000  0.000000  0.000000  0.000000  0.000000   \n",
       "absol              0.000000  1.662094  0.000000  0.000000  0.900594   \n",
       "accelgor           0.000000  0.000000  1.181641  0.000000  0.000000   \n",
       "aegislash-blade    0.000000  0.000000  0.000000  1.662094  0.000000   \n",
       "aerodactyl         0.000000  0.000000  0.000000  0.000000  0.000000   \n",
       "aggron             1.662094  0.000000  0.000000  0.000000  0.900594   \n",
       "aipom              0.000000  0.000000  0.000000  0.000000  0.000000   \n",
       "alakazam           0.000000  0.000000  0.000000  0.000000  0.000000   \n",
       "alomomola          0.000000  0.000000  1.181641  0.000000  0.000000   \n",
       "altaria            0.000000  0.000000  0.000000  0.000000  0.900594   \n",
       "\n",
       "                 water-typ  gener  rock/fli  introduc  \n",
       "id                                                     \n",
       "abomasnow         0.000000    0.0  0.000000       0.0  \n",
       "abra              0.000000    0.0  0.000000       0.0  \n",
       "absol             0.000000    0.0  0.000000       0.0  \n",
       "accelgor          0.000000    0.0  0.000000       0.0  \n",
       "aegislash-blade   0.000000    0.0  0.000000       0.0  \n",
       "aerodactyl        0.000000    0.0  1.662094       0.0  \n",
       "aggron            0.000000    0.0  0.000000       0.0  \n",
       "aipom             0.000000    0.0  0.000000       0.0  \n",
       "alakazam          0.000000    0.0  0.000000       0.0  \n",
       "alomomola         1.662094    0.0  0.000000       0.0  \n",
       "altaria           0.000000    0.0  0.000000       0.0  "
      ]
     },
     "execution_count": 40,
     "metadata": {},
     "output_type": "execute_result"
    }
   ],
   "source": [
    "try:\n",
    "        (matrix, wordbase) = preliminaryWork(df['Description'][:line_number])\n",
    "        result = pd.DataFrame(np.array(matrix),columns=wordbase,index=[df['id'][:line_number]])\n",
    "except KeyError:\n",
    "        pass\n",
    "result"
   ]
  },
  {
   "cell_type": "markdown",
   "metadata": {},
   "source": [
    "Créons la liste des images à recommander"
   ]
  },
  {
   "cell_type": "code",
   "execution_count": 41,
   "metadata": {},
   "outputs": [
    {
     "name": "stdout",
     "output_type": "stream",
     "text": [
      "\n",
      " Recommandation pour Yamine:\n"
     ]
    },
    {
     "data": {
      "image/png": "[encoded data removed]",
      "text/plain": [
       "<Figure size 640x480 with 1 Axes>"
      ]
     },
     "metadata": {},
     "output_type": "display_data"
    },
    {
     "name": "stdout",
     "output_type": "stream",
     "text": [
      "order: [0, 1, 2]\n",
      "*\t*\t*\t*\t*\t*\t*\t*\n",
      "*\t*\tResearch Result\t*\t*\n",
      "*\t*\t*\t*\t*\t*\t*\t*\n",
      "\n",
      "\n",
      "*\t*\t*\t*\t*\t*\t*\t*\n",
      "*\t*\tNumber1 - Image 0\t*\t*\t*\n",
      "*\t*\t*\t*\t*\t*\t*\t*\n",
      "\n",
      "\n",
      "is a dual-type Grass/Ice Pokémon introduced in Generation IV.\n",
      "current_id: abomasnow\n"
     ]
    },
    {
     "data": {
      "image/png": "[encoded data removed]",
      "text/plain": [
       "<Figure size 640x480 with 1 Axes>"
      ]
     },
     "metadata": {},
     "output_type": "display_data"
    },
    {
     "name": "stdout",
     "output_type": "stream",
     "text": [
      "*\t*\t*\t*\t*\t*\t*\t*\n",
      "*\t*\tNumber2 - Image 1\t*\t*\t*\n",
      "*\t*\t*\t*\t*\t*\t*\t*\n",
      "\n",
      "\n",
      "is a Psychic-type Pokémon introduced in Generation I.\n",
      "current_id: abra\n"
     ]
    },
    {
     "data": {
      "image/png": "[encoded data removed]",
      "text/plain": [
       "<Figure size 640x480 with 1 Axes>"
      ]
     },
     "metadata": {},
     "output_type": "display_data"
    },
    {
     "name": "stdout",
     "output_type": "stream",
     "text": [
      "*\t*\t*\t*\t*\t*\t*\t*\n",
      "*\t*\tNumber3 - Image 2\t*\t*\t*\n",
      "*\t*\t*\t*\t*\t*\t*\t*\n",
      "\n",
      "\n",
      "is a Dark-type Pokémon introduced in Generation III.\n",
      "current_id: absol\n"
     ]
    },
    {
     "data": {
      "image/png": "[encoded data removed]",
      "text/plain": [
       "<Figure size 640x480 with 1 Axes>"
      ]
     },
     "metadata": {},
     "output_type": "display_data"
    },
    {
     "name": "stdout",
     "output_type": "stream",
     "text": [
      "\n",
      " Recommandation pour Yamine:\n"
     ]
    },
    {
     "data": {
      "image/png": "[encoded data removed]",
      "text/plain": [
       "<Figure size 640x480 with 1 Axes>"
      ]
     },
     "metadata": {},
     "output_type": "display_data"
    },
    {
     "name": "stdout",
     "output_type": "stream",
     "text": [
      "order: [3, 9, 0]\n",
      "*\t*\t*\t*\t*\t*\t*\t*\n",
      "*\t*\tResearch Result\t*\t*\n",
      "*\t*\t*\t*\t*\t*\t*\t*\n",
      "\n",
      "\n",
      "*\t*\t*\t*\t*\t*\t*\t*\n",
      "*\t*\tNumber1 - Image 3\t*\t*\t*\n",
      "*\t*\t*\t*\t*\t*\t*\t*\n",
      "\n",
      "\n",
      "is a Bug-type Pokémon introduced in Generation V.\n",
      "current_id: accelgor\n"
     ]
    },
    {
     "data": {
      "image/png": "[encoded data removed]",
      "text/plain": [
       "<Figure size 640x480 with 1 Axes>"
      ]
     },
     "metadata": {},
     "output_type": "display_data"
    },
    {
     "name": "stdout",
     "output_type": "stream",
     "text": [
      "*\t*\t*\t*\t*\t*\t*\t*\n",
      "*\t*\tNumber2 - Image 9\t*\t*\t*\n",
      "*\t*\t*\t*\t*\t*\t*\t*\n",
      "\n",
      "\n",
      "is a Water-type Pokémon introduced in Generation V.\n",
      "current_id: alomomola\n"
     ]
    },
    {
     "data": {
      "image/png": "[encoded data removed]",
      "text/plain": [
       "<Figure size 640x480 with 1 Axes>"
      ]
     },
     "metadata": {},
     "output_type": "display_data"
    },
    {
     "name": "stdout",
     "output_type": "stream",
     "text": [
      "*\t*\t*\t*\t*\t*\t*\t*\n",
      "*\t*\tNumber3 - Image 0\t*\t*\t*\n",
      "*\t*\t*\t*\t*\t*\t*\t*\n",
      "\n",
      "\n",
      "is a dual-type Grass/Ice Pokémon introduced in Generation IV.\n",
      "current_id: abomasnow\n"
     ]
    },
    {
     "data": {
      "image/png": "[encoded data removed]",
      "text/plain": [
       "<Figure size 640x480 with 1 Axes>"
      ]
     },
     "metadata": {},
     "output_type": "display_data"
    },
    {
     "name": "stdout",
     "output_type": "stream",
     "text": [
      "\n",
      " Recommandation pour Yamine:\n"
     ]
    },
    {
     "data": {
      "image/png": "[encoded data removed]",
      "text/plain": [
       "<Figure size 640x480 with 1 Axes>"
      ]
     },
     "metadata": {},
     "output_type": "display_data"
    },
    {
     "name": "stdout",
     "output_type": "stream",
     "text": [
      "order: [0, 5, 6]\n",
      "*\t*\t*\t*\t*\t*\t*\t*\n",
      "*\t*\tResearch Result\t*\t*\n",
      "*\t*\t*\t*\t*\t*\t*\t*\n",
      "\n",
      "\n",
      "*\t*\t*\t*\t*\t*\t*\t*\n",
      "*\t*\tNumber1 - Image 0\t*\t*\t*\n",
      "*\t*\t*\t*\t*\t*\t*\t*\n",
      "\n",
      "\n",
      "is a dual-type Grass/Ice Pokémon introduced in Generation IV.\n",
      "current_id: abomasnow\n"
     ]
    },
    {
     "data": {
      "image/png": "[encoded data removed]",
      "text/plain": [
       "<Figure size 640x480 with 1 Axes>"
      ]
     },
     "metadata": {},
     "output_type": "display_data"
    },
    {
     "name": "stdout",
     "output_type": "stream",
     "text": [
      "*\t*\t*\t*\t*\t*\t*\t*\n",
      "*\t*\tNumber2 - Image 5\t*\t*\t*\n",
      "*\t*\t*\t*\t*\t*\t*\t*\n",
      "\n",
      "\n",
      "is a dual-type Rock/Flying Pokémon introduced in Generation I.\n",
      "current_id: aerodactyl\n"
     ]
    },
    {
     "data": {
      "image/png": "[encoded data removed]",
      "text/plain": [
       "<Figure size 640x480 with 1 Axes>"
      ]
     },
     "metadata": {},
     "output_type": "display_data"
    },
    {
     "name": "stdout",
     "output_type": "stream",
     "text": [
      "*\t*\t*\t*\t*\t*\t*\t*\n",
      "*\t*\tNumber3 - Image 6\t*\t*\t*\n",
      "*\t*\t*\t*\t*\t*\t*\t*\n",
      "\n",
      "\n",
      "is a dual-type Steel/Rock Pokémon introduced in Generation III.\n",
      "current_id: aggron\n"
     ]
    },
    {
     "data": {
      "image/png": "[encoded data removed]",
      "text/plain": [
       "<Figure size 640x480 with 1 Axes>"
      ]
     },
     "metadata": {},
     "output_type": "display_data"
    },
    {
     "name": "stdout",
     "output_type": "stream",
     "text": [
      "\n",
      " Recommandation pour Yamine:\n"
     ]
    },
    {
     "data": {
      "image/png": "[encoded data removed]",
      "text/plain": [
       "<Figure size 640x480 with 1 Axes>"
      ]
     },
     "metadata": {},
     "output_type": "display_data"
    },
    {
     "name": "stdout",
     "output_type": "stream",
     "text": [
      "order: [6, 10, 2]\n",
      "*\t*\t*\t*\t*\t*\t*\t*\n",
      "*\t*\tResearch Result\t*\t*\n",
      "*\t*\t*\t*\t*\t*\t*\t*\n",
      "\n",
      "\n",
      "*\t*\t*\t*\t*\t*\t*\t*\n",
      "*\t*\tNumber1 - Image 6\t*\t*\t*\n",
      "*\t*\t*\t*\t*\t*\t*\t*\n",
      "\n",
      "\n",
      "is a dual-type Steel/Rock Pokémon introduced in Generation III.\n",
      "current_id: aggron\n"
     ]
    },
    {
     "data": {
      "image/png": "[encoded data removed]",
      "text/plain": [
       "<Figure size 640x480 with 1 Axes>"
      ]
     },
     "metadata": {},
     "output_type": "display_data"
    },
    {
     "name": "stdout",
     "output_type": "stream",
     "text": [
      "*\t*\t*\t*\t*\t*\t*\t*\n",
      "*\t*\tNumber2 - Image 10\t*\t*\t*\n",
      "*\t*\t*\t*\t*\t*\t*\t*\n",
      "\n",
      "\n",
      "is a dual-type Dragon/Flying Pokémon introduced in Generation III.\n",
      "current_id: altaria\n"
     ]
    },
    {
     "data": {
      "image/png": "[encoded data removed]",
      "text/plain": [
       "<Figure size 640x480 with 1 Axes>"
      ]
     },
     "metadata": {},
     "output_type": "display_data"
    },
    {
     "name": "stdout",
     "output_type": "stream",
     "text": [
      "*\t*\t*\t*\t*\t*\t*\t*\n",
      "*\t*\tNumber3 - Image 2\t*\t*\t*\n",
      "*\t*\t*\t*\t*\t*\t*\t*\n",
      "\n",
      "\n",
      "is a Dark-type Pokémon introduced in Generation III.\n",
      "current_id: absol\n"
     ]
    },
    {
     "data": {
      "image/png": "[encoded data removed]",
      "text/plain": [
       "<Figure size 640x480 with 1 Axes>"
      ]
     },
     "metadata": {},
     "output_type": "display_data"
    }
   ],
   "source": [
    "# Preload images\n",
    "images = {}\n",
    "for row in keep_df.itertuples():\n",
    "    img = mpimg.imread(f\"dataset/images/{row.id}.png\")\n",
    "    images[row.id] = img\n",
    "\n",
    "# Create a new dataframe with the relevant rows\n",
    "line_condition = keep_df['id'].isin(photo_liked_by_yamine)\n",
    "new_df = keep_df[line_condition]\n",
    "\n",
    "# Iterate over the rows in the new dataframe\n",
    "for row in new_df.itertuples():\n",
    "    # Get the relevant information from the row\n",
    "    current_description = row.Description\n",
    "    current_id = row.id\n",
    "    \n",
    "    # Display the image\n",
    "    print(\"\\n Recommandation pour Yamine:\")\n",
    "    imgplot = plt.imshow(images[current_id])\n",
    "    plt.show()\n",
    "    \n",
    "    # Recherche\n",
    "    order = research(current_description, matrix, wordbase)\n",
    "    print(f\"order: {order}\")\n",
    "    printResearch(order, df['Description'])\n"
   ]
  },
  {
   "attachments": {},
   "cell_type": "markdown",
   "metadata": {},
   "source": [
    "Ainsi pour chaque image liké par l'utilisateur yamine, nous avons des images à lui recommander"
   ]
  },
  {
   "attachments": {},
   "cell_type": "markdown",
   "metadata": {},
   "source": [
    "## 3. Application"
   ]
  },
  {
   "cell_type": "code",
   "execution_count": 45,
   "metadata": {},
   "outputs": [
    {
     "name": "stderr",
     "output_type": "stream",
     "text": [
      "/tmp/ipykernel_2088/3368318327.py:321: FutureWarning: The error_bad_lines argument has been deprecated and will be removed in a future version. Use on_bad_lines in the future.\n",
      "\n",
      "\n",
      "  df = pd.read_csv(r'dataset/pokemon.csv', sep=',', error_bad_lines=False, warn_bad_lines=False)\n",
      "/tmp/ipykernel_2088/3368318327.py:321: FutureWarning: The warn_bad_lines argument has been deprecated and will be removed in a future version. Use on_bad_lines in the future.\n",
      "\n",
      "\n",
      "  df = pd.read_csv(r'dataset/pokemon.csv', sep=',', error_bad_lines=False, warn_bad_lines=False)\n",
      "/tmp/ipykernel_2088/3368318327.py:321: FutureWarning: The error_bad_lines argument has been deprecated and will be removed in a future version. Use on_bad_lines in the future.\n",
      "\n",
      "\n",
      "  df = pd.read_csv(r'dataset/pokemon.csv', sep=',', error_bad_lines=False, warn_bad_lines=False)\n",
      "/tmp/ipykernel_2088/3368318327.py:321: FutureWarning: The warn_bad_lines argument has been deprecated and will be removed in a future version. Use on_bad_lines in the future.\n",
      "\n",
      "\n",
      "  df = pd.read_csv(r'dataset/pokemon.csv', sep=',', error_bad_lines=False, warn_bad_lines=False)\n",
      "/tmp/ipykernel_2088/3368318327.py:321: FutureWarning: The error_bad_lines argument has been deprecated and will be removed in a future version. Use on_bad_lines in the future.\n",
      "\n",
      "\n",
      "  df = pd.read_csv(r'dataset/pokemon.csv', sep=',', error_bad_lines=False, warn_bad_lines=False)\n",
      "/tmp/ipykernel_2088/3368318327.py:321: FutureWarning: The warn_bad_lines argument has been deprecated and will be removed in a future version. Use on_bad_lines in the future.\n",
      "\n",
      "\n",
      "  df = pd.read_csv(r'dataset/pokemon.csv', sep=',', error_bad_lines=False, warn_bad_lines=False)\n",
      "/tmp/ipykernel_2088/3368318327.py:321: FutureWarning: The error_bad_lines argument has been deprecated and will be removed in a future version. Use on_bad_lines in the future.\n",
      "\n",
      "\n",
      "  df = pd.read_csv(r'dataset/pokemon.csv', sep=',', error_bad_lines=False, warn_bad_lines=False)\n",
      "/tmp/ipykernel_2088/3368318327.py:321: FutureWarning: The warn_bad_lines argument has been deprecated and will be removed in a future version. Use on_bad_lines in the future.\n",
      "\n",
      "\n",
      "  df = pd.read_csv(r'dataset/pokemon.csv', sep=',', error_bad_lines=False, warn_bad_lines=False)\n",
      "/tmp/ipykernel_2088/3368318327.py:258: FutureWarning: The error_bad_lines argument has been deprecated and will be removed in a future version. Use on_bad_lines in the future.\n",
      "\n",
      "\n",
      "  df = pd.read_csv(r'./dataset/pokemon.csv', sep=',', error_bad_lines=False, warn_bad_lines=False)\n",
      "/tmp/ipykernel_2088/3368318327.py:258: FutureWarning: The warn_bad_lines argument has been deprecated and will be removed in a future version. Use on_bad_lines in the future.\n",
      "\n",
      "\n",
      "  df = pd.read_csv(r'./dataset/pokemon.csv', sep=',', error_bad_lines=False, warn_bad_lines=False)\n",
      "/tmp/ipykernel_2088/3368318327.py:258: FutureWarning: The error_bad_lines argument has been deprecated and will be removed in a future version. Use on_bad_lines in the future.\n",
      "\n",
      "\n",
      "  df = pd.read_csv(r'./dataset/pokemon.csv', sep=',', error_bad_lines=False, warn_bad_lines=False)\n",
      "/tmp/ipykernel_2088/3368318327.py:258: FutureWarning: The warn_bad_lines argument has been deprecated and will be removed in a future version. Use on_bad_lines in the future.\n",
      "\n",
      "\n",
      "  df = pd.read_csv(r'./dataset/pokemon.csv', sep=',', error_bad_lines=False, warn_bad_lines=False)\n",
      "/tmp/ipykernel_2088/3368318327.py:258: FutureWarning: The error_bad_lines argument has been deprecated and will be removed in a future version. Use on_bad_lines in the future.\n",
      "\n",
      "\n",
      "  df = pd.read_csv(r'./dataset/pokemon.csv', sep=',', error_bad_lines=False, warn_bad_lines=False)\n",
      "/tmp/ipykernel_2088/3368318327.py:258: FutureWarning: The warn_bad_lines argument has been deprecated and will be removed in a future version. Use on_bad_lines in the future.\n",
      "\n",
      "\n",
      "  df = pd.read_csv(r'./dataset/pokemon.csv', sep=',', error_bad_lines=False, warn_bad_lines=False)\n",
      "/tmp/ipykernel_2088/3368318327.py:258: FutureWarning: The error_bad_lines argument has been deprecated and will be removed in a future version. Use on_bad_lines in the future.\n",
      "\n",
      "\n",
      "  df = pd.read_csv(r'./dataset/pokemon.csv', sep=',', error_bad_lines=False, warn_bad_lines=False)\n",
      "/tmp/ipykernel_2088/3368318327.py:258: FutureWarning: The warn_bad_lines argument has been deprecated and will be removed in a future version. Use on_bad_lines in the future.\n",
      "\n",
      "\n",
      "  df = pd.read_csv(r'./dataset/pokemon.csv', sep=',', error_bad_lines=False, warn_bad_lines=False)\n"
     ]
    },
    {
     "name": "stdout",
     "output_type": "stream",
     "text": [
      "user_list_position: 3\n",
      "L'utlisateur: snippy-celadon-tuatara\n",
      "\n",
      " a aimé la photo\n"
     ]
    },
    {
     "data": {
      "image/png": "[encoded data removed]",
      "text/plain": [
       "<Figure size 640x480 with 1 Axes>"
      ]
     },
     "metadata": {},
     "output_type": "display_data"
    },
    {
     "name": "stdout",
     "output_type": "stream",
     "text": [
      "\n",
      " Le programme lui recommande: \n"
     ]
    },
    {
     "data": {
      "image/png": "[encoded data removed]",
      "text/plain": [
       "<Figure size 640x480 with 1 Axes>"
      ]
     },
     "metadata": {},
     "output_type": "display_data"
    },
    {
     "data": {
      "image/png": "[encoded data removed]",
      "text/plain": [
       "<Figure size 640x480 with 1 Axes>"
      ]
     },
     "metadata": {},
     "output_type": "display_data"
    },
    {
     "data": {
      "image/png": "[encoded data removed]",
      "text/plain": [
       "<Figure size 640x480 with 1 Axes>"
      ]
     },
     "metadata": {},
     "output_type": "display_data"
    },
    {
     "name": "stdout",
     "output_type": "stream",
     "text": [
      "\n",
      " a aimé la photo\n"
     ]
    },
    {
     "data": {
      "image/png": "[encoded data removed]",
      "text/plain": [
       "<Figure size 640x480 with 1 Axes>"
      ]
     },
     "metadata": {},
     "output_type": "display_data"
    },
    {
     "name": "stdout",
     "output_type": "stream",
     "text": [
      "\n",
      " Le programme lui recommande: \n"
     ]
    },
    {
     "data": {
      "image/png": "[encoded data removed]",
      "text/plain": [
       "<Figure size 640x480 with 1 Axes>"
      ]
     },
     "metadata": {},
     "output_type": "display_data"
    },
    {
     "data": {
      "image/png": "[encoded data removed]",
      "text/plain": [
       "<Figure size 640x480 with 1 Axes>"
      ]
     },
     "metadata": {},
     "output_type": "display_data"
    },
    {
     "data": {
      "image/png": "[encoded data removed]",
      "text/plain": [
       "<Figure size 640x480 with 1 Axes>"
      ]
     },
     "metadata": {},
     "output_type": "display_data"
    }
   ],
   "source": [
    "# \"Hyperparameters\"\n",
    "stop_words = set(stopwords.words('english'))\n",
    "# We can shape the list of words not taken into account\n",
    "stop_words.update(stop_words,{'.',',','!','?','\\'s', '<', '>', ':', ';', '/', '(', ')', '-', '_', '{', '}', '--', '...'})\n",
    "lmtzr=WordNetLemmatizer()\n",
    "ps = PorterStemmer()\n",
    "# Total number of users\n",
    "user_max = 4\n",
    "# Number of recommendations per image\n",
    "nbTop =  4\n",
    "# Line reduction coefficient\n",
    "coeff = 8\n",
    "\n",
    "def split(Description):\n",
    "    \"\"\" Function that takes a text (an image description) as input and returns\n",
    "    the list of its words that have been filtered and transformed: lemmatized and stemmed\"\"\"\n",
    "\n",
    "    # Tokenization ************************************************************\n",
    "    # Splitting the text into words (words is a list of strings)\n",
    "    words = word_tokenize(str(Description))\n",
    "\n",
    "    # Stop-words **************************************************************\n",
    "    # Filtering words: we remove from words those that are contained in \n",
    "    # stop_words because they are supposed to have too little meaning.\n",
    "    # (common words, linking words, punctuation)\n",
    "    words_clean = []\n",
    "    for word in words:\n",
    "        if word.lower() not in stop_words:\n",
    "            words_clean.append(word)\n",
    "\n",
    "    # Lemmatization *************************************************************\n",
    "    # Transforming words into a single keyword (lemma) representing them. \n",
    "    # Ex: divided, dividing, divided, divides -> divide\n",
    "    words_lemmed = [lmtzr.lemmatize(word) for word in words_clean]\n",
    "            \n",
    "    # Stemming ****************************************************************\n",
    "    # Transforming words into a single root representing them. \n",
    "    # Ex: divided, dividing, divided, divides -> divid\n",
    "    words_stemmed = [ps.stem(word) for word in words_lemmed]\n",
    "\n",
    "    return words_stemmed\n",
    "\n",
    "\n",
    "def count(words, wordbase):\n",
    "    \"\"\"Function that takes as input a text that has been split into words and the list \n",
    "    of tokens in the corpus, and returns the vector containing the number of occurrences \n",
    "    in the text of each token in the corpus.\"\"\"\n",
    "    \n",
    "    vector = [0 for i in range(len(wordbase))]\n",
    "    for i in range(len(wordbase)):\n",
    "        if wordbase[i] in words:\n",
    "            vector[i] += 1\n",
    "    return vector\n",
    "\n",
    "\n",
    "def preliminaryWork(corpus):\n",
    "    \"\"\"Function that takes as input a corpus of descriptions in the form of a \n",
    "    list of strings, and returns the list of words used as a basis for representing \n",
    "    the texts that make it up, and the matrix of these texts in this basis, \n",
    "    with the coordinates calculated using the TF-IDF formula.\"\"\"\n",
    "    \n",
    "    # Splitting, sorting and transforming texts (see split function)\n",
    "    corpus_words = []\n",
    "    for i in range(len(corpus)):\n",
    "        corpus_words.append(split(corpus[i]))\n",
    "        \n",
    "    # Constructing the list of words in the corpus (intersection of the words in the \n",
    "    # texts). Wordset is an object of type set, which is useful because it allows \n",
    "    # for set intersection, but it is not ordered. We therefore build wordbase \n",
    "    # from the words in wordset so that we can associate 1 word with 1 coordinate.\n",
    "    wordset = set()\n",
    "    for words in corpus_words:\n",
    "        wordset = wordset.union(set(words))\n",
    "    wordbase = [word for word in wordset]\n",
    "    \n",
    "    # Constructing the matrix representing the texts in the wordbase. We initialize \n",
    "    # it with the vectors whose coordinates are the raw counts.\n",
    "    matrix = []\n",
    "    for words in corpus_words:\n",
    "        matrix.append(count(words, wordbase))\n",
    "        \n",
    "    # Calculating the number of texts that contain each word\n",
    "    nt = [0 for m in range(len(wordbase))]\n",
    "    for m in range(len(wordbase)):\n",
    "        for line in matrix:\n",
    "            if line[m] > 0:\n",
    "                nt[m] += 1\n",
    "    \n",
    "    # Calculating the tf-idf of each word in each text\n",
    "    # TF(word in a text) = log(1 + number of occurrences of this word in this text)\n",
    "    # IDF(word) = log(total number of texts / number of texts containing this word)\n",
    "    # TF-IDF(word in a text) = TF(word in a text) * IDF(word)\n",
    "    for t in range(len(matrix)):\n",
    "        for m in range(len(wordbase)):\n",
    "            matrix[t][m] = math.log(1 + matrix[t][m]) * math.log(len(corpus) / nt[m])\n",
    "            \n",
    "    return (matrix, wordbase)\n",
    "\n",
    "\n",
    "def vectorisation(text, wordbase):\n",
    "    \"\"\"Transforms a text string into a vector representation in the corpus base.\n",
    "    \n",
    "    Given a text string and a list of words in the corpus, this function counts \n",
    "    the occurrences of each word in the text and returns a vector whose entries \n",
    "    correspond to the word frequencies.\n",
    "    \n",
    "    Args:\n",
    "        text (str): The input text to be transformed into a vector.\n",
    "        wordbase (list of str): The list of words in the corpus used as a reference \n",
    "            for the vector representation.\n",
    "    \n",
    "    Returns:\n",
    "        list of int: The vector representation of the input text in the corpus base.\n",
    "    \"\"\"\n",
    "    return count(split(text), wordbase)\n",
    "\n",
    "def scal(v1, v2):\n",
    "    \"\"\" Function that calculates the dot product between two vectors of the same size and returns it.\"\"\"\n",
    "    scal = 0\n",
    "    for i in range(len(v1)):\n",
    "        scal += v1[i] * v2[i]\n",
    "    return (scal)\n",
    "  \n",
    "    \n",
    "def norm(v):\n",
    "    \"\"\" Function that calculates the L2 norm of a vector and returns it.\"\"\"\n",
    "    n = math.sqrt(scal(v, v))\n",
    "    if (n == 0):\n",
    "        n = 1\n",
    "    return (n)\n",
    "\n",
    "\n",
    "def iMax(similarity):\n",
    "    \"\"\" Function that returns the index of the maximum value in the list passed as a parameter.\"\"\"\n",
    "    imax = 0\n",
    "    for i in range(1,len(similarity)):\n",
    "        if (similarity[i] > similarity[imax]):\n",
    "            imax = i\n",
    "    return (imax)\n",
    "\n",
    "\n",
    "def top(similarity, nbTop):\n",
    "    \"\"\" Function that returns the list of indices of the nbTop largest elements\n",
    "    in the list passed as a parameter (similarity), in descending order.\"\"\"\n",
    "    order = []\n",
    "    cptTop = 0\n",
    "    imax = iMax(similarity)\n",
    "    while (similarity[imax] >= 0 and cptTop < nbTop):\n",
    "        order.append(imax)\n",
    "        # We set to -1 the element whose index we just took to no longer consider it\n",
    "        similarity[imax] = -1\n",
    "        cptTop += 1\n",
    "        imax = iMax(similarity)\n",
    "    return (order)\n",
    "\n",
    "\n",
    "def research(request, matrix, wordbase):\n",
    "    \"\"\" Function that takes a request as a string, the representative matrix of the corpus,\n",
    "    and the list of tokens as parameters, and returns the list of indices of the descriptions\n",
    "    in the corpus that most closely match the request. \"\"\"\n",
    "    # Vectorization of the request\n",
    "    vector = vectorisation(request, wordbase)\n",
    "    # Calculation of the list of similarity scores for each vector in the matrix\n",
    "    similarity = []\n",
    "    for v2 in matrix:\n",
    "        similarity.append(scal(vector, v2) / (norm(vector) * norm(v2)))\n",
    "    # We return the best results\n",
    "    return (top(similarity, nbTop))\n",
    "\n",
    "\n",
    "def printResearch(order, corpus):\n",
    "    \"\"\" Function that, given the results of a query (list of indices) and the corpus used,\n",
    "    displays the texts in the console, the most representative one first\"\"\"\n",
    "    print(\"*\\t*\\t*\\t*\\t*\\t*\\t*\\t*\")\n",
    "    print(\"*\\t*\\tResearch Result\\t*\\t*\")\n",
    "    print(\"*\\t*\\t*\\t*\\t*\\t*\\t*\\t*\\n\\n\")\n",
    "    for i in range(len(order)):\n",
    "        print(\"*\\t*\\t*\\t*\\t*\\t*\\t*\\t*\")\n",
    "        print(\"*\\t*\\tNumber\" + str(i + 1) + \" - Image \" + str(order[i]) + \"\\t*\\t*\\t*\")\n",
    "        print(\"*\\t*\\t*\\t*\\t*\\t*\\t*\\t*\\n\\n\")\n",
    "        print(corpus[order[i]])\n",
    "        printImage(str(order[i]))\n",
    "\n",
    "    \n",
    "def printImage(rows: str):\n",
    "    \"\"\"Displays the image corresponding to the found row\"\"\"\n",
    "    current_id = df.iloc[int(rows)][\"id\"]\n",
    "    print(f\"current_id: {current_id}\")\n",
    "    img = mpimg.imread(f\"dataset/images/{current_id}.png\")\n",
    "    imgplot = plt.imshow(img)\n",
    "    plt.show()\n",
    "    \n",
    "    \n",
    "def random_number():\n",
    "    return random.randint(1, 5)\n",
    "\n",
    "\n",
    "def random_number_with_parameter(parameter):\n",
    "    \"\"\" Generate random number with a limite\"\"\"\n",
    "    val = random.randint(1, parameter)\n",
    "    return val\n",
    "\n",
    "\n",
    "def build_user(user_name: str, list_liked_image: list):\n",
    "    \"\"\"Build incidents with parameters.\"\"\"\n",
    "    user = {\n",
    "        \"name\": user_name,\n",
    "        \"id_photo_liked\": list_liked_image,\n",
    "        \"recommandations\": []\n",
    "    }\n",
    "    return user\n",
    "   \n",
    "def generate_data():\n",
    "    \"\"\"Generate and return data, save it on users_data.json\"\"\"\n",
    "    \n",
    "    data = {\"users\": []}\n",
    "    user_counter = 0\n",
    "\n",
    "    while user_counter < user_max:\n",
    "        list_liked_image = generate_liked_image(random_number())\n",
    "        data[\"users\"].append(build_user(namegenerator.gen(), list_liked_image))\n",
    "        user_counter = user_counter + 1\n",
    "                             \n",
    "    with open(\"./users_data.json\", \"w\", encoding=\"utf-8\") as f:\n",
    "        json.dump(data, f, ensure_ascii=False, indent=4)\n",
    "\n",
    "\n",
    "def find_user(user_list: dict, name: str):\n",
    "    \"\"\"Find user by his name\"\"\"\n",
    "    \n",
    "    user_profile = {}\n",
    "    position_in_list = 0\n",
    "    for user in user_list:\n",
    "        if user.get('name') == name:\n",
    "            user_profile = user\n",
    "            good_position = position_in_list\n",
    "        position_in_list = position_in_list + 1\n",
    "    \n",
    "    return user_profile, good_position\n",
    "        \n",
    "\n",
    "def save_recommandation(user, origin_photo, recommandation):\n",
    "    \"\"\"Save recommandation\"\"\"\n",
    "    with open('users_data.json') as json_file:\n",
    "        data = json.load(json_file)\n",
    "    user_profile, position_in_list = find_user(data.get('users'), user)\n",
    "    dict_recommandation = {\n",
    "        \"origin_photo\": origin_photo,\n",
    "        \"recommandations\":  recommandation\n",
    "    }\n",
    "    data[\"users\"][position_in_list].get(\"recommandations\").append(dict_recommandation)\n",
    "    with open('users_data.json', 'w') as outfile:\n",
    "        json.dump(data, outfile)\n",
    "        \n",
    "\n",
    "def prepare_df():\n",
    "    \"\"\" Remove some column\"\"\"\n",
    "    df = pd.read_csv(r'./dataset/pokemon.csv', sep=',', error_bad_lines=False, warn_bad_lines=False)\n",
    "    df.sort_values('id', ascending = True )\n",
    "    # Sdelete unless columns\n",
    "    df = df.drop(['Type1','Type2'], axis=1)\n",
    "    line_number = len(df)//coeff\n",
    "    df = df[:line_number]\n",
    "    return df\n",
    "\n",
    "\n",
    "def recommandation():\n",
    "    # Load data\n",
    "    with open('users_data.json') as json_file:\n",
    "        data = json.load(json_file)\n",
    "    # For each user\n",
    "    for user in data.get('users'):\n",
    "        user_name = user.get(\"name\")\n",
    "        photo_liked_by_user = user.get('id_photo_liked')\n",
    "        df = prepare_df() # Creating the dataFrame\n",
    "        keep_df = df.loc[df['id'].isin(photo_liked_by_user)]\n",
    "        (matrix, wordbase) = preliminaryWork(df['Description'][:len(df)])\n",
    "        # Recommendation process for each photo\n",
    "        for photo in photo_liked_by_user:\n",
    "            line_condition = keep_df['id'] == photo\n",
    "            new_df = keep_df[line_condition]\n",
    "            current_description = new_df['Description'].values[0]\n",
    "            current_id = new_df['id'].values[0]\n",
    "            # Recherche\n",
    "            order = research(current_description, matrix, wordbase)\n",
    "            recommandation = []\n",
    "            first_recommandation = True\n",
    "            for row in order:\n",
    "                if first_recommandation:\n",
    "                    first_recommandation = False\n",
    "                else:\n",
    "                    recommandation.append(str(df.iloc[int(row)][\"id\"]))\n",
    "            save_recommandation(user_name, current_id, recommandation)\n",
    "            \n",
    "\n",
    "def show_random_user_recommandation():\n",
    "    \"\"\"Show random recommandation\"\"\"\n",
    "    # Load data\n",
    "    with open('users_data.json') as json_file:\n",
    "        data = json.load(json_file)\n",
    "    # Select random user\n",
    "    user_list_position = random_number_with_parameter(len(data.get(\"users\"))) - 1\n",
    "    print(f\"user_list_position: {user_list_position}\")\n",
    "    user =  data.get(\"users\")[user_list_position]\n",
    "    # For each photo liked by this user\n",
    "    print(f\"L'utlisateur: {user.get('name')}\")\n",
    "    for photo in user.get(\"recommandations\"):\n",
    "        print(\"\\n a aimé la photo\")\n",
    "        img = mpimg.imread(f\"./dataset/images/{photo.get('origin_photo')}.png\")\n",
    "        imgplot = plt.imshow(img)\n",
    "        plt.show()\n",
    "        print(\"\\n Le programme lui recommande: \")\n",
    "        for recommandation in photo.get(\"recommandations\"):\n",
    "            img = mpimg.imread(f\"./dataset/images/{recommandation}.png\")\n",
    "            imgplot = plt.imshow(img)\n",
    "            plt.show()\n",
    "\n",
    "\n",
    "def generate_liked_image(number_image, coeff=10):\n",
    "    # get header csv\n",
    "    df = pd.read_csv(r'dataset/pokemon.csv', sep=',', error_bad_lines=False, warn_bad_lines=False)\n",
    "    df.sort_values('id', ascending=True, inplace=True)  # inplace=True pour trier df directement\n",
    "\n",
    "    line_number = len(df) // coeff\n",
    "    # delete unless columns\n",
    "    df = df.drop(['Type1', 'Type2'], axis=1)[:line_number]\n",
    "    list_liked_image = []\n",
    "    \n",
    "    if line_number < number_image:\n",
    "        print(\"The number of images is too small compared to the requested amount\")\n",
    "        return list_liked_image\n",
    "    \n",
    "    while len(list_liked_image) < number_image:\n",
    "        current_id = random.choice(df['id'])\n",
    "        list_liked_image.append(current_id)\n",
    "    \n",
    "    return list_liked_image\n",
    "\n",
    "    \n",
    "generate_data()\n",
    "recommandation()\n",
    "show_random_user_recommandation()"
   ]
  },
  {
   "attachments": {},
   "cell_type": "markdown",
   "metadata": {},
   "source": [
    "# Méthode par Text-Mining combinée à la classification"
   ]
  },
  {
   "attachments": {},
   "cell_type": "markdown",
   "metadata": {},
   "source": [
    "## Objectif :\n",
    "\n",
    "Cette méthode utilise les mêmes principes de text-mining que pour un moteur de recherche, mais au lieu de cela, elle implique la création de plusieurs classifieurs. Le processus est similaire, car nous travaillons toujours avec les descriptions de photos, mais cette fois, chaque description est associée à deux valeurs possibles (aimée ou non aimée par les utilisateurs).\n",
    "\n",
    "### Sources :\n",
    "\n",
    "Cette présentation a été conçue grâce aux documentations suivantes :\n",
    "\n",
    "* https://scikit-learn.org/stable/tutorial/text_analytics/working_with_text_data.html\n",
    "* http://www.nltk.org/"
   ]
  },
  {
   "cell_type": "code",
   "execution_count": 46,
   "metadata": {},
   "outputs": [
    {
     "name": "stdout",
     "output_type": "stream",
     "text": [
      "\n",
      "System:\n",
      "    python: 3.10.6 (main, Nov 14 2022, 16:10:14) [GCC 11.3.0]\n",
      "executable: /bin/python3\n",
      "   machine: Linux-5.4.72-microsoft-standard-WSL2-x86_64-with-glibc2.35\n",
      "\n",
      "Python dependencies:\n",
      "      sklearn: 1.2.1\n",
      "          pip: 22.0.2\n",
      "   setuptools: 66.0.0\n",
      "        numpy: 1.24.2\n",
      "        scipy: 1.10.1\n",
      "       Cython: None\n",
      "       pandas: 1.5.3\n",
      "   matplotlib: 3.5.1\n",
      "       joblib: 1.2.0\n",
      "threadpoolctl: 3.1.0\n",
      "\n",
      "Built with OpenMP: True\n",
      "\n",
      "threadpoolctl info:\n",
      "       user_api: blas\n",
      "   internal_api: openblas\n",
      "         prefix: libopenblas\n",
      "       filepath: /home/morgane/.local/lib/python3.10/site-packages/numpy.libs/libopenblas64_p-r0-15028c96.3.21.so\n",
      "        version: 0.3.21\n",
      "threading_layer: pthreads\n",
      "   architecture: SkylakeX\n",
      "    num_threads: 8\n",
      "\n",
      "       user_api: openmp\n",
      "   internal_api: openmp\n",
      "         prefix: libgomp\n",
      "       filepath: /usr/lib/x86_64-linux-gnu/libgomp.so.1.0.0\n",
      "        version: None\n",
      "    num_threads: 8\n",
      "\n",
      "       user_api: openmp\n",
      "   internal_api: openmp\n",
      "         prefix: libgomp\n",
      "       filepath: /home/morgane/.local/lib/python3.10/site-packages/scikit_learn.libs/libgomp-a34b3233.so.1.0.0\n",
      "        version: None\n",
      "    num_threads: 8\n",
      "\n",
      "       user_api: blas\n",
      "   internal_api: openblas\n",
      "         prefix: libopenblas\n",
      "       filepath: /home/morgane/.local/lib/python3.10/site-packages/scipy.libs/libopenblasp-r0-41284840.3.18.so\n",
      "        version: 0.3.18\n",
      "threading_layer: pthreads\n",
      "   architecture: SkylakeX\n",
      "    num_threads: 8\n"
     ]
    }
   ],
   "source": [
    "# imports\n",
    "\n",
    "from mpl_toolkits.mplot3d import Axes3D\n",
    "from sklearn.preprocessing import StandardScaler\n",
    "import sklearn\n",
    "import matplotlib.pyplot as plt\n",
    "import matplotlib.image as mpimg\n",
    "import numpy as np # linear algebra\n",
    "import pandas as pd # data processing, CSV file I/O (e.g. pd.read_csv)\n",
    "import os # accessing directory structure\n",
    "import csv\n",
    "import math\n",
    "import random\n",
    "import json\n",
    "import namegenerator\n",
    "\n",
    "sklearn.show_versions()\n",
    "import nltk\n",
    "from nltk.corpus import stopwords # list of words not taken into account\n",
    "from nltk.tokenize import word_tokenize # tokenization function\n",
    "from nltk.stem import WordNetLemmatizer # lemmatization function\n",
    "from nltk.stem.porter import PorterStemmer # stemming function\n",
    "import math\n",
    "\n",
    "from sklearn.preprocessing import LabelEncoder"
   ]
  },
  {
   "attachments": {},
   "cell_type": "markdown",
   "metadata": {},
   "source": [
    "## A. Pré-traitement des données\n",
    "### 1. Ouverture des données"
   ]
  },
  {
   "cell_type": "code",
   "execution_count": 70,
   "metadata": {},
   "outputs": [
    {
     "name": "stderr",
     "output_type": "stream",
     "text": [
      "/tmp/ipykernel_2088/3204077437.py:4: FutureWarning: The error_bad_lines argument has been deprecated and will be removed in a future version. Use on_bad_lines in the future.\n",
      "\n",
      "\n",
      "  df = pd.read_csv(r'dataset/pokemon.csv', sep=',', error_bad_lines=False, warn_bad_lines=False)\n",
      "/tmp/ipykernel_2088/3204077437.py:4: FutureWarning: The warn_bad_lines argument has been deprecated and will be removed in a future version. Use on_bad_lines in the future.\n",
      "\n",
      "\n",
      "  df = pd.read_csv(r'dataset/pokemon.csv', sep=',', error_bad_lines=False, warn_bad_lines=False)\n"
     ]
    },
    {
     "data": {
      "text/html": [
       "<div>\n",
       "<style scoped>\n",
       "    .dataframe tbody tr th:only-of-type {\n",
       "        vertical-align: middle;\n",
       "    }\n",
       "\n",
       "    .dataframe tbody tr th {\n",
       "        vertical-align: top;\n",
       "    }\n",
       "\n",
       "    .dataframe thead th {\n",
       "        text-align: right;\n",
       "    }\n",
       "</style>\n",
       "<table border=\"1\" class=\"dataframe\">\n",
       "  <thead>\n",
       "    <tr style=\"text-align: right;\">\n",
       "      <th></th>\n",
       "      <th>id</th>\n",
       "      <th>Description</th>\n",
       "    </tr>\n",
       "  </thead>\n",
       "  <tbody>\n",
       "    <tr>\n",
       "      <th>0</th>\n",
       "      <td>abomasnow</td>\n",
       "      <td>is a dual-type Grass/Ice Pokémon introduced in...</td>\n",
       "    </tr>\n",
       "    <tr>\n",
       "      <th>1</th>\n",
       "      <td>abra</td>\n",
       "      <td>is a Psychic-type Pokémon introduced in Genera...</td>\n",
       "    </tr>\n",
       "    <tr>\n",
       "      <th>2</th>\n",
       "      <td>absol</td>\n",
       "      <td>is a Dark-type Pokémon introduced in Generatio...</td>\n",
       "    </tr>\n",
       "    <tr>\n",
       "      <th>3</th>\n",
       "      <td>accelgor</td>\n",
       "      <td>is a Bug-type Pokémon introduced in Generation V.</td>\n",
       "    </tr>\n",
       "    <tr>\n",
       "      <th>4</th>\n",
       "      <td>aegislash-blade</td>\n",
       "      <td>is a dual-type Steel/Ghost Pokémon introduced ...</td>\n",
       "    </tr>\n",
       "    <tr>\n",
       "      <th>...</th>\n",
       "      <td>...</td>\n",
       "      <td>...</td>\n",
       "    </tr>\n",
       "    <tr>\n",
       "      <th>93</th>\n",
       "      <td>chansey</td>\n",
       "      <td>Chansey is a Normal-type Pokémon introduced in...</td>\n",
       "    </tr>\n",
       "    <tr>\n",
       "      <th>94</th>\n",
       "      <td>charizard</td>\n",
       "      <td>Charizard is a dual-type Fire/Flying Pokémon i...</td>\n",
       "    </tr>\n",
       "    <tr>\n",
       "      <th>95</th>\n",
       "      <td>charmander</td>\n",
       "      <td>Charmander is a Fire-type Pokémon introduced i...</td>\n",
       "    </tr>\n",
       "    <tr>\n",
       "      <th>96</th>\n",
       "      <td>charmeleon</td>\n",
       "      <td>Charmeleon is a Fire-type Pokémon introduced i...</td>\n",
       "    </tr>\n",
       "    <tr>\n",
       "      <th>97</th>\n",
       "      <td>chatot</td>\n",
       "      <td>Chatot is a dual-type Normal/Flying Pokémon in...</td>\n",
       "    </tr>\n",
       "  </tbody>\n",
       "</table>\n",
       "<p>98 rows × 2 columns</p>\n",
       "</div>"
      ],
      "text/plain": [
       "                 id                                        Description\n",
       "0         abomasnow  is a dual-type Grass/Ice Pokémon introduced in...\n",
       "1              abra  is a Psychic-type Pokémon introduced in Genera...\n",
       "2             absol  is a Dark-type Pokémon introduced in Generatio...\n",
       "3          accelgor  is a Bug-type Pokémon introduced in Generation V.\n",
       "4   aegislash-blade  is a dual-type Steel/Ghost Pokémon introduced ...\n",
       "..              ...                                                ...\n",
       "93          chansey  Chansey is a Normal-type Pokémon introduced in...\n",
       "94        charizard  Charizard is a dual-type Fire/Flying Pokémon i...\n",
       "95       charmander  Charmander is a Fire-type Pokémon introduced i...\n",
       "96       charmeleon  Charmeleon is a Fire-type Pokémon introduced i...\n",
       "97           chatot  Chatot is a dual-type Normal/Flying Pokémon in...\n",
       "\n",
       "[98 rows x 2 columns]"
      ]
     },
     "execution_count": 70,
     "metadata": {},
     "output_type": "execute_result"
    }
   ],
   "source": [
    "# Open dataset\n",
    "\n",
    "# Get header csv\n",
    "df = pd.read_csv(r'dataset/pokemon.csv', sep=',', error_bad_lines=False, warn_bad_lines=False)\n",
    "df.sort_values('id', ascending = True )\n",
    "# Delete unless columns\n",
    "df = df.drop(['Type1', 'Type2'], axis=1)\n",
    "df"
   ]
  },
  {
   "attachments": {},
   "cell_type": "markdown",
   "metadata": {},
   "source": [
    "### 2. Fabrication d'un profil utilisateur ayant liké et disliké des images\n",
    "\n",
    "Nous allons simuler un utilisateur qui donnera aléatoirement des likes à un certain nombre de photos et des dislikes à d'autres photos. En raison de contraintes de temps, cette sélection sera effectuée de manière aléatoire, ce qui pourrait affecter l'efficacité de notre classifieur."
   ]
  },
  {
   "cell_type": "code",
   "execution_count": 71,
   "metadata": {},
   "outputs": [
    {
     "name": "stderr",
     "output_type": "stream",
     "text": [
      "/tmp/ipykernel_2088/1086337478.py:36: FutureWarning: The error_bad_lines argument has been deprecated and will be removed in a future version. Use on_bad_lines in the future.\n",
      "\n",
      "\n",
      "  df = pd.read_csv(CSV_FILE_PATH, sep=',', error_bad_lines=False, warn_bad_lines=False)\n",
      "/tmp/ipykernel_2088/1086337478.py:36: FutureWarning: The warn_bad_lines argument has been deprecated and will be removed in a future version. Use on_bad_lines in the future.\n",
      "\n",
      "\n",
      "  df = pd.read_csv(CSV_FILE_PATH, sep=',', error_bad_lines=False, warn_bad_lines=False)\n"
     ]
    }
   ],
   "source": [
    "# Constants\n",
    "CSV_FILE_PATH = \"./dataset/pokemon.csv\"\n",
    "USER_MAX = 1\n",
    "COEFF = 2\n",
    "NUMBER_IMAGE_LIKED = 10\n",
    "NUMBER_IMAGE_DISLIKED = 8\n",
    "\n",
    "def random_number_with_parameter(parameter):\n",
    "    \"\"\"Generate random number with a limit\"\"\"\n",
    "    return random.randint(1, parameter)\n",
    "\n",
    "def build_user(user_name: str, list_liked_image: list, list_disliked_image: list):\n",
    "    \"\"\"Build user with parameters.\"\"\"\n",
    "    return {\n",
    "        \"name\": user_name,\n",
    "        \"id_photo_liked\": list_liked_image,\n",
    "        \"id_photo_disliked\": list_disliked_image,\n",
    "        \"recommandations\": []\n",
    "    }\n",
    "\n",
    "def generate_liked_image(df, line_number, number_image):\n",
    "    \"\"\"Generate a list of liked image ids.\"\"\"\n",
    "    df = df.drop(['Type1', 'Type2'], axis=1).head(line_number)\n",
    "    list_liked_image = df['id'].sample(number_image).tolist()\n",
    "    return list_liked_image\n",
    "\n",
    "def generate_disliked_image(df, list_liked_image, line_number, number_image):\n",
    "    \"\"\"Generate a list of disliked image ids.\"\"\"\n",
    "    df = df.drop(['Type1', 'Type2'], axis=1).head(line_number)\n",
    "    list_disliked_image = df.loc[~df['id'].isin(list_liked_image), 'id'].sample(number_image).tolist()\n",
    "    return list_disliked_image\n",
    "\n",
    "def generate_data():\n",
    "    \"\"\"Generate and return data, save it on users_data.json\"\"\"\n",
    "\n",
    "    df = pd.read_csv(CSV_FILE_PATH, sep=',', error_bad_lines=False, warn_bad_lines=False)\n",
    "    df.sort_values('id', ascending=True, inplace=True)\n",
    "\n",
    "    line_number = len(df) // COEFF\n",
    "\n",
    "    if line_number < NUMBER_IMAGE_LIKED + NUMBER_IMAGE_DISLIKED:\n",
    "        print(\"Le nombre d'images est trop petit par rapport au nombre demandé.\")\n",
    "        return\n",
    "\n",
    "    if NUMBER_IMAGE_LIKED + NUMBER_IMAGE_DISLIKED > len(df):\n",
    "        print(\"Le nombre d'images demandé est supérieur au nombre total d'images disponibles.\")\n",
    "        return\n",
    "\n",
    "    data = {\"users\": []}\n",
    "\n",
    "    for _ in range(USER_MAX):\n",
    "        list_liked_image = generate_liked_image(df, line_number, NUMBER_IMAGE_LIKED)\n",
    "        list_disliked_image = generate_disliked_image(df, list_liked_image, line_number, NUMBER_IMAGE_DISLIKED)\n",
    "        data[\"users\"].append(build_user(namegenerator.gen(), list_liked_image, list_disliked_image))\n",
    "\n",
    "    with open(\"user_demo_version_classifieur.json\", \"w\", encoding=\"utf-8\") as f:\n",
    "        json.dump(data, f, ensure_ascii=False, indent=4)\n",
    "\n",
    "generate_data()\n"
   ]
  },
  {
   "cell_type": "code",
   "execution_count": 72,
   "metadata": {},
   "outputs": [
    {
     "name": "stdout",
     "output_type": "stream",
     "text": [
      "Le nom d'utilisateur cheeky-aquamarine-booby n'a pas été trouvé dans la liste des utilisateurs.\n"
     ]
    }
   ],
   "source": [
    "import json\n",
    "\n",
    "with open('user_demo_version_classifieur.json') as json_file:\n",
    "    data = json.load(json_file)\n",
    "\n",
    "user_profile = next((user for user in data['users'] if user['name'] == name), None)\n",
    "if user_profile is not None:\n",
    "    photo_liked_by_user = user_profile.get('id_photo_liked')\n",
    "    print(f\"nombre de photo likées: {len(photo_liked_by_user)}\")\n",
    "    photo_disliked_by_user = user_profile.get('id_photo_disliked')\n",
    "    print(f\"nombre de photo dislikées: {len(photo_disliked_by_user)}\")\n",
    "else:\n",
    "    print(f\"Le nom d'utilisateur {name} n'a pas été trouvé dans la liste des utilisateurs.\")\n"
   ]
  },
  {
   "cell_type": "code",
   "execution_count": 73,
   "metadata": {},
   "outputs": [
    {
     "name": "stdout",
     "output_type": "stream",
     "text": [
      "récupération des photos likées\n"
     ]
    },
    {
     "name": "stderr",
     "output_type": "stream",
     "text": [
      "/tmp/ipykernel_2088/2401011666.py:3: SettingWithCopyWarning: \n",
      "A value is trying to be set on a copy of a slice from a DataFrame.\n",
      "Try using .loc[row_indexer,col_indexer] = value instead\n",
      "\n",
      "See the caveats in the documentation: https://pandas.pydata.org/pandas-docs/stable/user_guide/indexing.html#returning-a-view-versus-a-copy\n",
      "  df_liked[\"avis\"] = \"liked\"\n"
     ]
    },
    {
     "data": {
      "text/html": [
       "<div>\n",
       "<style scoped>\n",
       "    .dataframe tbody tr th:only-of-type {\n",
       "        vertical-align: middle;\n",
       "    }\n",
       "\n",
       "    .dataframe tbody tr th {\n",
       "        vertical-align: top;\n",
       "    }\n",
       "\n",
       "    .dataframe thead th {\n",
       "        text-align: right;\n",
       "    }\n",
       "</style>\n",
       "<table border=\"1\" class=\"dataframe\">\n",
       "  <thead>\n",
       "    <tr style=\"text-align: right;\">\n",
       "      <th></th>\n",
       "      <th>id</th>\n",
       "      <th>Description</th>\n",
       "      <th>avis</th>\n",
       "    </tr>\n",
       "  </thead>\n",
       "  <tbody>\n",
       "    <tr>\n",
       "      <th>2</th>\n",
       "      <td>absol</td>\n",
       "      <td>is a Dark-type Pokémon introduced in Generatio...</td>\n",
       "      <td>liked</td>\n",
       "    </tr>\n",
       "    <tr>\n",
       "      <th>3</th>\n",
       "      <td>accelgor</td>\n",
       "      <td>is a Bug-type Pokémon introduced in Generation V.</td>\n",
       "      <td>liked</td>\n",
       "    </tr>\n",
       "    <tr>\n",
       "      <th>9</th>\n",
       "      <td>alomomola</td>\n",
       "      <td>is a Water-type Pokémon introduced in Generati...</td>\n",
       "      <td>liked</td>\n",
       "    </tr>\n",
       "    <tr>\n",
       "      <th>11</th>\n",
       "      <td>amaura</td>\n",
       "      <td>is a dual-type Rock/Ice Pokémon introduced in ...</td>\n",
       "      <td>liked</td>\n",
       "    </tr>\n",
       "    <tr>\n",
       "      <th>18</th>\n",
       "      <td>arcanine</td>\n",
       "      <td>is a Fire-type Pokémon introduced in Generatio...</td>\n",
       "      <td>liked</td>\n",
       "    </tr>\n",
       "    <tr>\n",
       "      <th>25</th>\n",
       "      <td>aron</td>\n",
       "      <td>is a dual-type Steel/Rock Pokémon introduced i...</td>\n",
       "      <td>liked</td>\n",
       "    </tr>\n",
       "    <tr>\n",
       "      <th>28</th>\n",
       "      <td>aurorus</td>\n",
       "      <td>is a dual-type Rock/Ice Pokémon introduced in ...</td>\n",
       "      <td>liked</td>\n",
       "    </tr>\n",
       "    <tr>\n",
       "      <th>32</th>\n",
       "      <td>azumarill</td>\n",
       "      <td>is a dual-type Water/Fairy Pokémon introduced ...</td>\n",
       "      <td>liked</td>\n",
       "    </tr>\n",
       "    <tr>\n",
       "      <th>42</th>\n",
       "      <td>bayleef</td>\n",
       "      <td>NaN</td>\n",
       "      <td>liked</td>\n",
       "    </tr>\n",
       "    <tr>\n",
       "      <th>43</th>\n",
       "      <td>beartic</td>\n",
       "      <td>NaN</td>\n",
       "      <td>liked</td>\n",
       "    </tr>\n",
       "  </tbody>\n",
       "</table>\n",
       "</div>"
      ],
      "text/plain": [
       "           id                                        Description   avis\n",
       "2       absol  is a Dark-type Pokémon introduced in Generatio...  liked\n",
       "3    accelgor  is a Bug-type Pokémon introduced in Generation V.  liked\n",
       "9   alomomola  is a Water-type Pokémon introduced in Generati...  liked\n",
       "11     amaura  is a dual-type Rock/Ice Pokémon introduced in ...  liked\n",
       "18   arcanine  is a Fire-type Pokémon introduced in Generatio...  liked\n",
       "25       aron  is a dual-type Steel/Rock Pokémon introduced i...  liked\n",
       "28    aurorus  is a dual-type Rock/Ice Pokémon introduced in ...  liked\n",
       "32  azumarill  is a dual-type Water/Fairy Pokémon introduced ...  liked\n",
       "42    bayleef                                                NaN  liked\n",
       "43    beartic                                                NaN  liked"
      ]
     },
     "execution_count": 73,
     "metadata": {},
     "output_type": "execute_result"
    }
   ],
   "source": [
    "print(\"récupération des photos likées\")\n",
    "df_liked = df.loc[df['id'].isin(photo_liked_by_user)]\n",
    "df_liked[\"avis\"] = \"liked\"\n",
    "df_liked"
   ]
  },
  {
   "cell_type": "code",
   "execution_count": 74,
   "metadata": {},
   "outputs": [
    {
     "name": "stdout",
     "output_type": "stream",
     "text": [
      "récupération des photos likées\n"
     ]
    },
    {
     "name": "stderr",
     "output_type": "stream",
     "text": [
      "/tmp/ipykernel_2088/3446105770.py:3: SettingWithCopyWarning: \n",
      "A value is trying to be set on a copy of a slice from a DataFrame.\n",
      "Try using .loc[row_indexer,col_indexer] = value instead\n",
      "\n",
      "See the caveats in the documentation: https://pandas.pydata.org/pandas-docs/stable/user_guide/indexing.html#returning-a-view-versus-a-copy\n",
      "  df_disliked[\"avis\"] = 'disliked'\n"
     ]
    },
    {
     "data": {
      "text/html": [
       "<div>\n",
       "<style scoped>\n",
       "    .dataframe tbody tr th:only-of-type {\n",
       "        vertical-align: middle;\n",
       "    }\n",
       "\n",
       "    .dataframe tbody tr th {\n",
       "        vertical-align: top;\n",
       "    }\n",
       "\n",
       "    .dataframe thead th {\n",
       "        text-align: right;\n",
       "    }\n",
       "</style>\n",
       "<table border=\"1\" class=\"dataframe\">\n",
       "  <thead>\n",
       "    <tr style=\"text-align: right;\">\n",
       "      <th></th>\n",
       "      <th>id</th>\n",
       "      <th>Description</th>\n",
       "      <th>avis</th>\n",
       "    </tr>\n",
       "  </thead>\n",
       "  <tbody>\n",
       "    <tr>\n",
       "      <th>1</th>\n",
       "      <td>abra</td>\n",
       "      <td>is a Psychic-type Pokémon introduced in Genera...</td>\n",
       "      <td>disliked</td>\n",
       "    </tr>\n",
       "    <tr>\n",
       "      <th>8</th>\n",
       "      <td>alakazam</td>\n",
       "      <td>is a Psychic-type Pokémon introduced in Genera...</td>\n",
       "      <td>disliked</td>\n",
       "    </tr>\n",
       "    <tr>\n",
       "      <th>20</th>\n",
       "      <td>archen</td>\n",
       "      <td>is a dual-type Rock/Flying Pokémon introduced ...</td>\n",
       "      <td>disliked</td>\n",
       "    </tr>\n",
       "    <tr>\n",
       "      <th>24</th>\n",
       "      <td>aromatisse</td>\n",
       "      <td>is a Fairy-type Pokémon introduced in Generati...</td>\n",
       "      <td>disliked</td>\n",
       "    </tr>\n",
       "    <tr>\n",
       "      <th>26</th>\n",
       "      <td>articuno</td>\n",
       "      <td>is a dual-type Ice/Flying Legendary Pokémon in...</td>\n",
       "      <td>disliked</td>\n",
       "    </tr>\n",
       "    <tr>\n",
       "      <th>29</th>\n",
       "      <td>avalugg</td>\n",
       "      <td>is an Ice-type Pokémon introduced in Generatio...</td>\n",
       "      <td>disliked</td>\n",
       "    </tr>\n",
       "    <tr>\n",
       "      <th>44</th>\n",
       "      <td>beautifly</td>\n",
       "      <td>is a dual-type Bug/Flying Pokémon introduced i...</td>\n",
       "      <td>disliked</td>\n",
       "    </tr>\n",
       "    <tr>\n",
       "      <th>46</th>\n",
       "      <td>beheeyem</td>\n",
       "      <td>NaN</td>\n",
       "      <td>disliked</td>\n",
       "    </tr>\n",
       "  </tbody>\n",
       "</table>\n",
       "</div>"
      ],
      "text/plain": [
       "            id                                        Description      avis\n",
       "1         abra  is a Psychic-type Pokémon introduced in Genera...  disliked\n",
       "8     alakazam  is a Psychic-type Pokémon introduced in Genera...  disliked\n",
       "20      archen  is a dual-type Rock/Flying Pokémon introduced ...  disliked\n",
       "24  aromatisse  is a Fairy-type Pokémon introduced in Generati...  disliked\n",
       "26    articuno  is a dual-type Ice/Flying Legendary Pokémon in...  disliked\n",
       "29     avalugg  is an Ice-type Pokémon introduced in Generatio...  disliked\n",
       "44   beautifly  is a dual-type Bug/Flying Pokémon introduced i...  disliked\n",
       "46    beheeyem                                                NaN  disliked"
      ]
     },
     "execution_count": 74,
     "metadata": {},
     "output_type": "execute_result"
    }
   ],
   "source": [
    "print(\"récupération des photos likées\")\n",
    "df_disliked = df.loc[df['id'].isin(photo_disliked_by_user)]\n",
    "df_disliked[\"avis\"] = 'disliked'\n",
    "df_disliked"
   ]
  },
  {
   "cell_type": "code",
   "execution_count": 75,
   "metadata": {},
   "outputs": [
    {
     "data": {
      "text/html": [
       "<div>\n",
       "<style scoped>\n",
       "    .dataframe tbody tr th:only-of-type {\n",
       "        vertical-align: middle;\n",
       "    }\n",
       "\n",
       "    .dataframe tbody tr th {\n",
       "        vertical-align: top;\n",
       "    }\n",
       "\n",
       "    .dataframe thead th {\n",
       "        text-align: right;\n",
       "    }\n",
       "</style>\n",
       "<table border=\"1\" class=\"dataframe\">\n",
       "  <thead>\n",
       "    <tr style=\"text-align: right;\">\n",
       "      <th></th>\n",
       "      <th>id</th>\n",
       "      <th>Description</th>\n",
       "      <th>avis</th>\n",
       "    </tr>\n",
       "  </thead>\n",
       "  <tbody>\n",
       "    <tr>\n",
       "      <th>2</th>\n",
       "      <td>absol</td>\n",
       "      <td>is a Dark-type Pokémon introduced in Generatio...</td>\n",
       "      <td>liked</td>\n",
       "    </tr>\n",
       "    <tr>\n",
       "      <th>3</th>\n",
       "      <td>accelgor</td>\n",
       "      <td>is a Bug-type Pokémon introduced in Generation V.</td>\n",
       "      <td>liked</td>\n",
       "    </tr>\n",
       "    <tr>\n",
       "      <th>9</th>\n",
       "      <td>alomomola</td>\n",
       "      <td>is a Water-type Pokémon introduced in Generati...</td>\n",
       "      <td>liked</td>\n",
       "    </tr>\n",
       "    <tr>\n",
       "      <th>11</th>\n",
       "      <td>amaura</td>\n",
       "      <td>is a dual-type Rock/Ice Pokémon introduced in ...</td>\n",
       "      <td>liked</td>\n",
       "    </tr>\n",
       "    <tr>\n",
       "      <th>18</th>\n",
       "      <td>arcanine</td>\n",
       "      <td>is a Fire-type Pokémon introduced in Generatio...</td>\n",
       "      <td>liked</td>\n",
       "    </tr>\n",
       "    <tr>\n",
       "      <th>25</th>\n",
       "      <td>aron</td>\n",
       "      <td>is a dual-type Steel/Rock Pokémon introduced i...</td>\n",
       "      <td>liked</td>\n",
       "    </tr>\n",
       "    <tr>\n",
       "      <th>28</th>\n",
       "      <td>aurorus</td>\n",
       "      <td>is a dual-type Rock/Ice Pokémon introduced in ...</td>\n",
       "      <td>liked</td>\n",
       "    </tr>\n",
       "    <tr>\n",
       "      <th>32</th>\n",
       "      <td>azumarill</td>\n",
       "      <td>is a dual-type Water/Fairy Pokémon introduced ...</td>\n",
       "      <td>liked</td>\n",
       "    </tr>\n",
       "    <tr>\n",
       "      <th>42</th>\n",
       "      <td>bayleef</td>\n",
       "      <td>NaN</td>\n",
       "      <td>liked</td>\n",
       "    </tr>\n",
       "    <tr>\n",
       "      <th>43</th>\n",
       "      <td>beartic</td>\n",
       "      <td>NaN</td>\n",
       "      <td>liked</td>\n",
       "    </tr>\n",
       "    <tr>\n",
       "      <th>1</th>\n",
       "      <td>abra</td>\n",
       "      <td>is a Psychic-type Pokémon introduced in Genera...</td>\n",
       "      <td>disliked</td>\n",
       "    </tr>\n",
       "    <tr>\n",
       "      <th>8</th>\n",
       "      <td>alakazam</td>\n",
       "      <td>is a Psychic-type Pokémon introduced in Genera...</td>\n",
       "      <td>disliked</td>\n",
       "    </tr>\n",
       "    <tr>\n",
       "      <th>20</th>\n",
       "      <td>archen</td>\n",
       "      <td>is a dual-type Rock/Flying Pokémon introduced ...</td>\n",
       "      <td>disliked</td>\n",
       "    </tr>\n",
       "    <tr>\n",
       "      <th>24</th>\n",
       "      <td>aromatisse</td>\n",
       "      <td>is a Fairy-type Pokémon introduced in Generati...</td>\n",
       "      <td>disliked</td>\n",
       "    </tr>\n",
       "    <tr>\n",
       "      <th>26</th>\n",
       "      <td>articuno</td>\n",
       "      <td>is a dual-type Ice/Flying Legendary Pokémon in...</td>\n",
       "      <td>disliked</td>\n",
       "    </tr>\n",
       "    <tr>\n",
       "      <th>29</th>\n",
       "      <td>avalugg</td>\n",
       "      <td>is an Ice-type Pokémon introduced in Generatio...</td>\n",
       "      <td>disliked</td>\n",
       "    </tr>\n",
       "    <tr>\n",
       "      <th>44</th>\n",
       "      <td>beautifly</td>\n",
       "      <td>is a dual-type Bug/Flying Pokémon introduced i...</td>\n",
       "      <td>disliked</td>\n",
       "    </tr>\n",
       "    <tr>\n",
       "      <th>46</th>\n",
       "      <td>beheeyem</td>\n",
       "      <td>NaN</td>\n",
       "      <td>disliked</td>\n",
       "    </tr>\n",
       "  </tbody>\n",
       "</table>\n",
       "</div>"
      ],
      "text/plain": [
       "            id                                        Description      avis\n",
       "2        absol  is a Dark-type Pokémon introduced in Generatio...     liked\n",
       "3     accelgor  is a Bug-type Pokémon introduced in Generation V.     liked\n",
       "9    alomomola  is a Water-type Pokémon introduced in Generati...     liked\n",
       "11      amaura  is a dual-type Rock/Ice Pokémon introduced in ...     liked\n",
       "18    arcanine  is a Fire-type Pokémon introduced in Generatio...     liked\n",
       "25        aron  is a dual-type Steel/Rock Pokémon introduced i...     liked\n",
       "28     aurorus  is a dual-type Rock/Ice Pokémon introduced in ...     liked\n",
       "32   azumarill  is a dual-type Water/Fairy Pokémon introduced ...     liked\n",
       "42     bayleef                                                NaN     liked\n",
       "43     beartic                                                NaN     liked\n",
       "1         abra  is a Psychic-type Pokémon introduced in Genera...  disliked\n",
       "8     alakazam  is a Psychic-type Pokémon introduced in Genera...  disliked\n",
       "20      archen  is a dual-type Rock/Flying Pokémon introduced ...  disliked\n",
       "24  aromatisse  is a Fairy-type Pokémon introduced in Generati...  disliked\n",
       "26    articuno  is a dual-type Ice/Flying Legendary Pokémon in...  disliked\n",
       "29     avalugg  is an Ice-type Pokémon introduced in Generatio...  disliked\n",
       "44   beautifly  is a dual-type Bug/Flying Pokémon introduced i...  disliked\n",
       "46    beheeyem                                                NaN  disliked"
      ]
     },
     "execution_count": 75,
     "metadata": {},
     "output_type": "execute_result"
    }
   ],
   "source": [
    "frames = [df_liked, df_disliked]\n",
    "result = pd.concat(frames)\n",
    "result"
   ]
  },
  {
   "attachments": {},
   "cell_type": "markdown",
   "metadata": {},
   "source": [
    "Ainsi, à partir des descriptions des photos aimées et non aimées par notre utilisateur, nous pouvons générer deux classes de photos distinctes : les photos aimées et les photos non aimées."
   ]
  },
  {
   "cell_type": "code",
   "execution_count": 77,
   "metadata": {},
   "outputs": [
    {
     "name": "stdout",
     "output_type": "stream",
     "text": [
      "liked       10\n",
      "disliked     8\n",
      "Name: avis, dtype: int64\n"
     ]
    }
   ],
   "source": [
    "# Count the categories (like/dislike)\n",
    "# Display the results\n",
    "classes = result[\"avis\"]\n",
    "print(classes.value_counts())"
   ]
  },
  {
   "cell_type": "markdown",
   "metadata": {},
   "source": [
    "### 3. Mise en forme des données\n",
    "On transpose les labels de la classes en valeur binaire:  \n",
    "0 = disliked and 1 = liked et les mettres dans une liste Y"
   ]
  },
  {
   "cell_type": "code",
   "execution_count": 78,
   "metadata": {},
   "outputs": [],
   "source": [
    "encoder = LabelEncoder()\n",
    "Y = encoder.fit_transform(classes)"
   ]
  },
  {
   "cell_type": "markdown",
   "metadata": {},
   "source": [
    "Récupération des descriptions des photos likées ou dislikés de l'utilisateur"
   ]
  },
  {
   "cell_type": "code",
   "execution_count": 81,
   "metadata": {},
   "outputs": [
    {
     "name": "stdout",
     "output_type": "stream",
     "text": [
      "2     is a Dark-type Pokémon introduced in Generatio...\n",
      "3     is a Bug-type Pokémon introduced in Generation V.\n",
      "9     is a Water-type Pokémon introduced in Generati...\n",
      "11    is a dual-type Rock/Ice Pokémon introduced in ...\n",
      "18    is a Fire-type Pokémon introduced in Generatio...\n",
      "25    is a dual-type Steel/Rock Pokémon introduced i...\n",
      "28    is a dual-type Rock/Ice Pokémon introduced in ...\n",
      "32    is a dual-type Water/Fairy Pokémon introduced ...\n",
      "42                                                  NaN\n",
      "43                                                  NaN\n",
      "1     is a Psychic-type Pokémon introduced in Genera...\n",
      "8     is a Psychic-type Pokémon introduced in Genera...\n",
      "20    is a dual-type Rock/Flying Pokémon introduced ...\n",
      "24    is a Fairy-type Pokémon introduced in Generati...\n",
      "26    is a dual-type Ice/Flying Legendary Pokémon in...\n",
      "29    is an Ice-type Pokémon introduced in Generatio...\n",
      "44    is a dual-type Bug/Flying Pokémon introduced i...\n",
      "46                                                  NaN\n",
      "Name: Description, dtype: object\n"
     ]
    }
   ],
   "source": [
    "# Storage of descriptions\n",
    "descriptions = result[\"Description\"]\n",
    "print(descriptions)"
   ]
  },
  {
   "cell_type": "markdown",
   "metadata": {},
   "source": [
    "Nous allons appliquer le même traitement de text-mining que dans l'approche précédente."
   ]
  },
  {
   "cell_type": "code",
   "execution_count": 83,
   "metadata": {},
   "outputs": [
    {
     "name": "stderr",
     "output_type": "stream",
     "text": [
      "/tmp/ipykernel_2088/3445627401.py:2: FutureWarning: The default value of regex will change from True to False in a future version.\n",
      "  processed = descriptions.str.replace(r'\\d+(.\\d+)?', 'numbr')\n",
      "/tmp/ipykernel_2088/3445627401.py:5: FutureWarning: The default value of regex will change from True to False in a future version.\n",
      "  processed = processed.str.replace(r'[^\\w\\d\\s]', ' ')\n",
      "/tmp/ipykernel_2088/3445627401.py:8: FutureWarning: The default value of regex will change from True to False in a future version.\n",
      "  processed = processed.str.replace(r'\\s+', ' ')\n"
     ]
    }
   ],
   "source": [
    "# Procedure that replaces numbers with 'numbr'\n",
    "processed = descriptions.str.replace(r'\\d+(.\\d+)?', 'numbr')\n",
    "\n",
    "# Removing punctuation\n",
    "processed = processed.str.replace(r'[^\\w\\d\\s]', ' ')\n",
    "\n",
    "# Replacing multiple spaces with single spaces\n",
    "processed = processed.str.replace(r'\\s+', ' ')\n",
    "\n",
    "# Converting all words to lowercase\n",
    "processed = processed.str.lower()"
   ]
  },
  {
   "cell_type": "code",
   "execution_count": 84,
   "metadata": {},
   "outputs": [
    {
     "name": "stdout",
     "output_type": "stream",
     "text": [
      "2     is a dark type pokémon introduced in generatio...\n",
      "3     is a bug type pokémon introduced in generation v \n",
      "9     is a water type pokémon introduced in generati...\n",
      "11    is a dual type rock ice pokémon introduced in ...\n",
      "18    is a fire type pokémon introduced in generatio...\n",
      "25    is a dual type steel rock pokémon introduced i...\n",
      "28    is a dual type rock ice pokémon introduced in ...\n",
      "32    is a dual type water fairy pokémon introduced ...\n",
      "42                                                  NaN\n",
      "43                                                  NaN\n",
      "1     is a psychic type pokémon introduced in genera...\n",
      "8     is a psychic type pokémon introduced in genera...\n",
      "20    is a dual type rock flying pokémon introduced ...\n",
      "24    is a fairy type pokémon introduced in generati...\n",
      "26    is a dual type ice flying legendary pokémon in...\n",
      "29    is an ice type pokémon introduced in generatio...\n",
      "44    is a dual type bug flying pokémon introduced i...\n",
      "46                                                  NaN\n",
      "Name: Description, dtype: object\n"
     ]
    }
   ],
   "source": [
    "# Print after après preprocessing 1\n",
    "print(processed)"
   ]
  },
  {
   "cell_type": "markdown",
   "metadata": {},
   "source": [
    "Nettoyage des données: STOP-WORDS, STEMMING"
   ]
  },
  {
   "cell_type": "code",
   "execution_count": 86,
   "metadata": {},
   "outputs": [],
   "source": [
    "# \"Hyperparameters\"\n",
    "stop_words = set(stopwords.words('english'))\n",
    "# We can shape the list of words not taken into account\n",
    "stop_words.update(stop_words,{'.',',','!','?','\\'s', '<', '>', ':', ';', '/', '(', ')', '-', '_', '{', '}', '--', '...'})\n",
    "lmtzr=WordNetLemmatizer()\n",
    "ps = PorterStemmer()\n",
    "\n",
    "def split(Description):\n",
    "    \"\"\" Function that takes a text (an image description) as input and returns\n",
    "    the list of its words that have been filtered and transformed: lemmatized and stemmed\"\"\"\n",
    "\n",
    "    # Tokenization ************************************************************\n",
    "    # Splitting the text into words (words is a list of strings)\n",
    "    words = word_tokenize(str(Description))\n",
    "\n",
    "    # Stop-words **************************************************************\n",
    "    # Filtering words: we remove from words those that are contained in \n",
    "    # stop_words because they are supposed to have too little meaning.\n",
    "    # (common words, linking words, punctuation)\n",
    "    words_clean = []\n",
    "    for word in words:\n",
    "        if word.lower() not in stop_words:\n",
    "            words_clean.append(word)\n",
    "\n",
    "    # Lemmatization *************************************************************\n",
    "    # Transforming words into a single keyword (lemma) representing them. \n",
    "    # Ex: divided, dividing, divided, divides -> divide\n",
    "    words_lemmed = [lmtzr.lemmatize(word) for word in words_clean]\n",
    "            \n",
    "    # Stemming ****************************************************************\n",
    "    # Transforming words into a single root representing them. \n",
    "    # Ex: divided, dividing, divided, divides -> divid\n",
    "    words_stemmed = [ps.stem(word) for word in words_lemmed]\n",
    "    words_stemmed = listToString(words_stemmed)\n",
    "    return words_stemmed\n",
    "\n",
    "def listToString(s): \n",
    "    # initialize an empty string\n",
    "    str1 = \" \" \n",
    "    # return string  \n",
    "    return (str1.join(s))\n",
    "\n",
    "# delete stopword\n",
    "stop_words = set(stopwords.words('english'))\n",
    "processed = processed.apply(split)"
   ]
  },
  {
   "cell_type": "code",
   "execution_count": 87,
   "metadata": {},
   "outputs": [
    {
     "name": "stdout",
     "output_type": "stream",
     "text": [
      "2                  dark type pokémon introduc gener iii\n",
      "3                     bug type pokémon introduc gener v\n",
      "9                   water type pokémon introduc gener v\n",
      "11         dual type rock ice pokémon introduc gener vi\n",
      "18                     fire type pokémon introduc gener\n",
      "25      dual type steel rock pokémon introduc gener iii\n",
      "28         dual type rock ice pokémon introduc gener vi\n",
      "32      dual type water fairi pokémon introduc gener ii\n",
      "42                                                  nan\n",
      "43                                                  nan\n",
      "1                   psychic type pokémon introduc gener\n",
      "8                   psychic type pokémon introduc gener\n",
      "20          dual type rock fli pokémon introduc gener v\n",
      "24                 fairi type pokémon introduc gener vi\n",
      "26    dual type ice fli legendari pokémon introduc g...\n",
      "29                   ice type pokémon introduc gener vi\n",
      "44         dual type bug fli pokémon introduc gener iii\n",
      "46                                                  nan\n",
      "Name: Description, dtype: object\n"
     ]
    }
   ],
   "source": [
    "# Affiche après Pré-traitement\n",
    "print(processed)"
   ]
  },
  {
   "cell_type": "markdown",
   "metadata": {},
   "source": [
    "### 4. Génération du Bag-of-words"
   ]
  },
  {
   "cell_type": "code",
   "execution_count": 89,
   "metadata": {},
   "outputs": [],
   "source": [
    "# generate Bag-of-words\n",
    "bag = []\n",
    "\n",
    "for message in processed:\n",
    "    words = word_tokenize(message)\n",
    "    for w in words:\n",
    "        bag.append(w)\n",
    "\n",
    "bag = nltk.FreqDist(bag)"
   ]
  },
  {
   "cell_type": "code",
   "execution_count": 92,
   "metadata": {},
   "outputs": [
    {
     "name": "stdout",
     "output_type": "stream",
     "text": [
      "Number of words: 21\n",
      "Most commons words: [('type', 15), ('pokémon', 15), ('introduc', 15), ('gener', 15), ('dual', 7), ('rock', 4), ('ice', 4), ('vi', 4), ('iii', 3), ('v', 3), ('nan', 3), ('fli', 3), ('bug', 2), ('water', 2), ('fairi', 2)]\n"
     ]
    },
    {
     "data": {
      "text/html": [
       "<div>\n",
       "<style scoped>\n",
       "    .dataframe tbody tr th:only-of-type {\n",
       "        vertical-align: middle;\n",
       "    }\n",
       "\n",
       "    .dataframe tbody tr th {\n",
       "        vertical-align: top;\n",
       "    }\n",
       "\n",
       "    .dataframe thead th {\n",
       "        text-align: right;\n",
       "    }\n",
       "</style>\n",
       "<table border=\"1\" class=\"dataframe\">\n",
       "  <thead>\n",
       "    <tr style=\"text-align: right;\">\n",
       "      <th></th>\n",
       "      <th>0</th>\n",
       "      <th>1</th>\n",
       "      <th>2</th>\n",
       "      <th>3</th>\n",
       "      <th>4</th>\n",
       "      <th>5</th>\n",
       "      <th>6</th>\n",
       "      <th>7</th>\n",
       "      <th>8</th>\n",
       "      <th>9</th>\n",
       "      <th>10</th>\n",
       "      <th>11</th>\n",
       "      <th>12</th>\n",
       "      <th>13</th>\n",
       "      <th>14</th>\n",
       "    </tr>\n",
       "  </thead>\n",
       "  <tbody>\n",
       "    <tr>\n",
       "      <th>0</th>\n",
       "      <td>(type, 15)</td>\n",
       "      <td>(pokémon, 15)</td>\n",
       "      <td>(introduc, 15)</td>\n",
       "      <td>(gener, 15)</td>\n",
       "      <td>(dual, 7)</td>\n",
       "      <td>(rock, 4)</td>\n",
       "      <td>(ice, 4)</td>\n",
       "      <td>(vi, 4)</td>\n",
       "      <td>(iii, 3)</td>\n",
       "      <td>(v, 3)</td>\n",
       "      <td>(nan, 3)</td>\n",
       "      <td>(fli, 3)</td>\n",
       "      <td>(bug, 2)</td>\n",
       "      <td>(water, 2)</td>\n",
       "      <td>(fairi, 2)</td>\n",
       "    </tr>\n",
       "  </tbody>\n",
       "</table>\n",
       "</div>"
      ],
      "text/plain": [
       "           0              1               2            3          4   \\\n",
       "0  (type, 15)  (pokémon, 15)  (introduc, 15)  (gener, 15)  (dual, 7)   \n",
       "\n",
       "          5         6        7         8       9         10        11  \\\n",
       "0  (rock, 4)  (ice, 4)  (vi, 4)  (iii, 3)  (v, 3)  (nan, 3)  (fli, 3)   \n",
       "\n",
       "         12          13          14  \n",
       "0  (bug, 2)  (water, 2)  (fairi, 2)  "
      ]
     },
     "execution_count": 92,
     "metadata": {},
     "output_type": "execute_result"
    }
   ],
   "source": [
    "# Print most commons words\n",
    "print('Number of words: {}'.format(len(bag)))\n",
    "print('Most commons words: {}'.format(bag.most_common(15)))\n",
    "pd.DataFrame([bag.most_common(15)])"
   ]
  },
  {
   "cell_type": "code",
   "execution_count": 94,
   "metadata": {},
   "outputs": [],
   "source": [
    "# Using the 2500 most common words as references.\n",
    "word_features = list(bag.keys())[:2500]"
   ]
  },
  {
   "cell_type": "code",
   "execution_count": 95,
   "metadata": {},
   "outputs": [],
   "source": [
    "# Function that returns the words present in the string and in word_features\n",
    "def find_features(message):\n",
    "    words = word_tokenize(message)\n",
    "    features = {}\n",
    "    for word in word_features:\n",
    "        features[word] = (word in words)\n",
    "\n",
    "    return features"
   ]
  },
  {
   "cell_type": "code",
   "execution_count": 97,
   "metadata": {},
   "outputs": [],
   "source": [
    "# Automating the find_features function\n",
    "messages = list(zip(processed, Y))\n",
    "# Sampling data\n",
    "seed=1\n",
    "np.random.seed = seed\n",
    "np.random.shuffle(messages)\n",
    "featuresets = [(find_features(text), label) for (text, label) in messages]"
   ]
  },
  {
   "cell_type": "markdown",
   "metadata": {},
   "source": [
    "### 5. Constitution du training set et du testing set "
   ]
  },
  {
   "cell_type": "code",
   "execution_count": 99,
   "metadata": {},
   "outputs": [
    {
     "name": "stdout",
     "output_type": "stream",
     "text": [
      "taille du jeu de données de training: 13\n",
      "taille du jeu de données de testing: 5\n"
     ]
    }
   ],
   "source": [
    "# Setting up:\n",
    "# - training set = used by the algorithm to train itself\n",
    "# - testing set = used to measure the final model's error on data it has never seen before\n",
    "from sklearn import model_selection\n",
    "\n",
    "# Splitting the data: 75% for training set and 25% for testing set\n",
    "training, testing = model_selection.train_test_split(featuresets, test_size=0.25, random_state=seed)\n",
    "training, testing = model_selection.train_test_split(featuresets, test_size = 0.25, random_state=seed)\n",
    "print(f\"taille du jeu de données de training: {len(training)}\")\n",
    "print(f\"taille du jeu de données de testing: {len(testing)}\")\n",
    "\n",
    "# Training for meta-models (cf section 4.2)\n",
    "training_n2=training\n",
    "training_n3=training"
   ]
  },
  {
   "cell_type": "markdown",
   "metadata": {},
   "source": [
    "### 6. Aperçu visuel du jeu de données de testing"
   ]
  },
  {
   "cell_type": "code",
   "execution_count": 100,
   "metadata": {},
   "outputs": [
    {
     "data": {
      "text/html": [
       "<div>\n",
       "<style scoped>\n",
       "    .dataframe tbody tr th:only-of-type {\n",
       "        vertical-align: middle;\n",
       "    }\n",
       "\n",
       "    .dataframe tbody tr th {\n",
       "        vertical-align: top;\n",
       "    }\n",
       "\n",
       "    .dataframe thead th {\n",
       "        text-align: right;\n",
       "    }\n",
       "</style>\n",
       "<table border=\"1\" class=\"dataframe\">\n",
       "  <thead>\n",
       "    <tr style=\"text-align: right;\">\n",
       "      <th></th>\n",
       "      <th>0</th>\n",
       "      <th>1</th>\n",
       "      <th>2</th>\n",
       "      <th>3</th>\n",
       "      <th>4</th>\n",
       "    </tr>\n",
       "  </thead>\n",
       "  <tbody>\n",
       "    <tr>\n",
       "      <th>0</th>\n",
       "      <td>({'dark': False, 'type': True, 'pokémon': True...</td>\n",
       "      <td>({'dark': False, 'type': True, 'pokémon': True...</td>\n",
       "      <td>({'dark': False, 'type': True, 'pokémon': True...</td>\n",
       "      <td>({'dark': False, 'type': True, 'pokémon': True...</td>\n",
       "      <td>({'dark': False, 'type': True, 'pokémon': True...</td>\n",
       "    </tr>\n",
       "  </tbody>\n",
       "</table>\n",
       "</div>"
      ],
      "text/plain": [
       "                                                   0  \\\n",
       "0  ({'dark': False, 'type': True, 'pokémon': True...   \n",
       "\n",
       "                                                   1  \\\n",
       "0  ({'dark': False, 'type': True, 'pokémon': True...   \n",
       "\n",
       "                                                   2  \\\n",
       "0  ({'dark': False, 'type': True, 'pokémon': True...   \n",
       "\n",
       "                                                   3  \\\n",
       "0  ({'dark': False, 'type': True, 'pokémon': True...   \n",
       "\n",
       "                                                   4  \n",
       "0  ({'dark': False, 'type': True, 'pokémon': True...  "
      ]
     },
     "execution_count": 100,
     "metadata": {},
     "output_type": "execute_result"
    }
   ],
   "source": [
    "pd.DataFrame([testing])"
   ]
  },
  {
   "cell_type": "markdown",
   "metadata": {},
   "source": [
    "On a deux matrices contenant chacune des sous listes de mots de chaque descriptions avec le label (liké ou disliké)"
   ]
  },
  {
   "cell_type": "markdown",
   "metadata": {},
   "source": [
    "## B. Apprentissage supervisé"
   ]
  },
  {
   "cell_type": "markdown",
   "metadata": {},
   "source": [
    "### 1. Classification avec Scikit-Learn"
   ]
  },
  {
   "attachments": {},
   "cell_type": "markdown",
   "metadata": {},
   "source": [
    "La partie consiste à évaluer plusieurs classifieurs de Sklearn en faisant varier certains hyperparamètres pour déterminer le meilleur modèle. L'indicateur utilisé pour évaluer les performances des modèles est l'exactitude (accuracy), qui est définie par la formule suivante:\n",
    "\n",
    "$$(TP+TN)/(TP+TN+FP+FN)$$\n",
    "\n",
    "où TP correspond aux vrais positifs, TN aux vrais négatifs, FP aux faux positifs et FN aux faux négatifs. Nous conservons la plupart des hyperparamètres par défaut, en ne faisant varier que certains d'entre eux pour mesurer l'impact sur l'exactitude du modèle.\n",
    " \n",
    "- TP = Vrai positif \n",
    "- TN = Vrai négatif \n",
    "- FP = Faux posifif \n",
    "- FN = Faux négatif\n",
    "\n",
    "SOURCE: https://stanford.edu/~shervine/l/fr/teaching/cs-229/pense-bete-machine-learning-petites-astuces"
   ]
  },
  {
   "cell_type": "code",
   "execution_count": 101,
   "metadata": {},
   "outputs": [],
   "source": [
    "from nltk.classify.scikitlearn import SklearnClassifier\n",
    "from sklearn.svm import SVC\n",
    "from sklearn.neighbors import KNeighborsClassifier\n",
    "from sklearn.tree import DecisionTreeClassifier\n",
    "from sklearn.ensemble import RandomForestClassifier\n",
    "from sklearn.linear_model import LogisticRegression, SGDClassifier\n",
    "from sklearn.naive_bayes import MultinomialNB\n",
    "from sklearn.svm import SVC\n",
    "from sklearn.metrics import classification_report, accuracy_score, confusion_matrix\n",
    "from sklearn.ensemble import VotingClassifier"
   ]
  },
  {
   "cell_type": "markdown",
   "metadata": {},
   "source": [
    "#### 1.a) Test du classifieur SVC (Support Vector Classification)\n",
    "https://scikit-learn.org/stable/modules/generated/sklearn.svm.SVC.html"
   ]
  },
  {
   "cell_type": "code",
   "execution_count": 103,
   "metadata": {},
   "outputs": [
    {
     "name": "stdout",
     "output_type": "stream",
     "text": [
      "The classification accuracy is 60.0%\n"
     ]
    }
   ],
   "source": [
    "# Classifier configuration\n",
    "# (kernel = poly/rbf/sigmoid/linear/precomputed/callable)\n",
    "model = SklearnClassifier(SVC(kernel='linear'))\n",
    "\n",
    "# Training the model\n",
    "model.train(training)\n",
    "\n",
    "# Testing the classifier using the \"testing\" sample\n",
    "accuracy = nltk.classify.accuracy(model, testing)*100\n",
    "accuracy = (round(accuracy,2))\n",
    "print(\"The classification accuracy is \"+str(accuracy)+\"%\")"
   ]
  },
  {
   "cell_type": "markdown",
   "metadata": {},
   "source": [
    "Essayons à présent de faire varier les hyperparamètres afin d'optimiser le classifieur SVC"
   ]
  },
  {
   "cell_type": "code",
   "execution_count": 105,
   "metadata": {},
   "outputs": [
    {
     "data": {
      "image/png": "[encoded data removed]",
      "text/plain": [
       "<Figure size 640x480 with 1 Axes>"
      ]
     },
     "metadata": {},
     "output_type": "display_data"
    }
   ],
   "source": [
    "# Parameters\n",
    "K=['linear','poly','rbf','sigmoid']\n",
    "\n",
    "AccuracyTAB=[]\n",
    "\n",
    "# Test\n",
    "for i in range(len(K)):\n",
    "    model = SklearnClassifier(SVC(kernel = K[i]))\n",
    "    model.train(training)\n",
    "    accuracy = nltk.classify.accuracy(model, testing)*100\n",
    "    AccuracyTAB.append(round(accuracy,2))\n",
    "    \n",
    "# Print\n",
    "plt.grid(True)\n",
    "plt.plot(K,AccuracyTAB)\n",
    "plt.title(\"Performance globale en modifiant le kernel\")\n",
    "plt.xlabel(\"Type de Kernel\")\n",
    "plt.ylabel(\"Performance %\")\n",
    "plt.show()"
   ]
  },
  {
   "attachments": {},
   "cell_type": "markdown",
   "metadata": {},
   "source": [
    "Le graphique permet de visualiser le choix optimal de l'hyperparamètre \"kernel\" pour l'algorithme de classification SVC dans ce cas d'utilisation. Bien qu'il existe d'autres hyperparamètres, nous ne les modifions pas.\n",
    "\n",
    "Nous allons maintenant reproduire cette méthode pour plusieurs autres algorithmes de classification."
   ]
  },
  {
   "cell_type": "markdown",
   "metadata": {},
   "source": [
    "#### 1.b) Test du classifieur DecisionTreeClassifier\n",
    "https://scikit-learn.org/stable/modules/generated/sklearn.tree.DecisionTreeClassifier.html"
   ]
  },
  {
   "cell_type": "code",
   "execution_count": 113,
   "metadata": {},
   "outputs": [
    {
     "name": "stdout",
     "output_type": "stream",
     "text": [
      "La précision de classification est de 80.0%\n"
     ]
    }
   ],
   "source": [
    "model = SklearnClassifier(DecisionTreeClassifier())\n",
    "#  Train the model\n",
    "model.train(training)\n",
    "\n",
    "accuracy = nltk.classify.accuracy(model, testing)*100\n",
    "accuracy = (round(accuracy,2))\n",
    "print (\"La précision de classification est de \"+str(accuracy)+\"%\")"
   ]
  },
  {
   "attachments": {},
   "cell_type": "markdown",
   "metadata": {},
   "source": [
    "#### 1.c) Test du classifieur RandomForestClassifier\n",
    "https://scikit-learn.org/stable/modules/generated/sklearn.ensemble.RandomForestClassifier.html"
   ]
  },
  {
   "cell_type": "code",
   "execution_count": 116,
   "metadata": {},
   "outputs": [
    {
     "data": {
      "image/png": "[encoded data removed]",
      "text/plain": [
       "<Figure size 640x480 with 1 Axes>"
      ]
     },
     "metadata": {},
     "output_type": "display_data"
    }
   ],
   "source": [
    "# Parameters\n",
    "n_estimators = range(10, 100, 10)\n",
    "\n",
    "# Results\n",
    "accuracy_tab = []\n",
    "\n",
    "# Testing the classifier by modifying the number of trees in the forest\n",
    "for n in n_estimators:\n",
    "    model = SklearnClassifier(RandomForestClassifier(n_estimators=n))\n",
    "    model.train(training)\n",
    "    accuracy = nltk.classify.accuracy(model, testing) * 100\n",
    "    accuracy_tab.append(round(accuracy, 2))\n",
    "\n",
    "# Display curves\n",
    "plt.grid(True)\n",
    "plt.plot(n_estimators, accuracy_tab)\n",
    "plt.title(\"Performance globale en modifiant le nombre d'arbres dans la forêt\")\n",
    "plt.xlabel(\"Nombre d'arbres\")\n",
    "plt.ylabel(\"Performance %\")\n",
    "plt.show()\n"
   ]
  },
  {
   "attachments": {},
   "cell_type": "markdown",
   "metadata": {},
   "source": [
    "### 2. Génération d'un Meta-Classifieur avec Scikit-Learn \n",
    "\n",
    "On applique ici le principe des méthodes ensemblistes qui consiste à utiliser différents classifieurs (qui ne classent pas de la même manière) pour obtenir de meilleurs résultats.\n",
    "\n",
    "Dans la partie précédente, nous avons déterminé les hyperparamètres qui améliorent la performance globale de chaque algorithme de classification. Nous allons maintenant créer deux méta-classifieurs :\n",
    "\n",
    "* un méta-modèle normal qui conserve les hyperparamètres par défaut et effectue un vote entre les classifieurs,\n",
    "* un méta-modèle optimisé qui utilise les hyperparamètres optimisés en fonction des résultats précédents."
   ]
  },
  {
   "cell_type": "markdown",
   "metadata": {},
   "source": [
    "#### 2.a) Meta_modèle sans optimisation"
   ]
  },
  {
   "cell_type": "code",
   "execution_count": 120,
   "metadata": {},
   "outputs": [
    {
     "name": "stdout",
     "output_type": "stream",
     "text": [
      "Précision de meta_classifieur: 60.0%\n"
     ]
    }
   ],
   "source": [
    "# Individual models \n",
    "KNC=KNeighborsClassifier()\n",
    "DTC=DecisionTreeClassifier()\n",
    "RFC=RandomForestClassifier()\n",
    "LG=LogisticRegression()\n",
    "SGDC=SGDClassifier()\n",
    "M=MultinomialNB()\n",
    "SC=SVC()\n",
    "\n",
    "# Build meta model\n",
    "meta_model = SklearnClassifier(VotingClassifier(estimators=[('k1',KNC),('k2',DTC),('k3',RFC),('k4',LG),('k5',SGDC),('k6',M),('k7',SC)],voting=\"hard\"))\n",
    "meta_model.train(training_n3)\n",
    "accuracy = nltk.classify.accuracy(meta_model, testing)*100\n",
    "accuracy = (round(accuracy,3))\n",
    "print(\"Précision de meta_classifieur: {}\".format(accuracy)+\"%\")"
   ]
  },
  {
   "cell_type": "markdown",
   "metadata": {},
   "source": [
    "#### 2.b) Meta_Modèle avec optimisation"
   ]
  },
  {
   "cell_type": "code",
   "execution_count": 123,
   "metadata": {},
   "outputs": [
    {
     "name": "stdout",
     "output_type": "stream",
     "text": [
      "Précision de meta_classifieur optimisé: 60.0%\n"
     ]
    },
    {
     "name": "stderr",
     "output_type": "stream",
     "text": [
      "/home/morgane/.local/lib/python3.10/site-packages/sklearn/linear_model/_stochastic_gradient.py:702: ConvergenceWarning: Maximum number of iteration reached before convergence. Consider increasing max_iter to improve the fit.\n",
      "  warnings.warn(\n"
     ]
    }
   ],
   "source": [
    "# Optimized individual models \n",
    "KNC=KNeighborsClassifier(n_neighbors=12)\n",
    "DTC=DecisionTreeClassifier()\n",
    "RFC=RandomForestClassifier(n_estimators=100)\n",
    "LG=LogisticRegression(solver='newton-cg')\n",
    "SGDC=SGDClassifier(max_iter = 1)\n",
    "M=MultinomialNB(alpha=100)\n",
    "SC=SVC(kernel = 'linear')\n",
    "\n",
    "# Build meta model\n",
    "meta_model2 = SklearnClassifier(VotingClassifier(estimators=[('k1',KNC),('k2',DTC),('k3',RFC),('k4',LG),('k5',SGDC),('k6',M),('k7',SC)],voting=\"hard\"))\n",
    "meta_model2.train(training_n2)\n",
    "accuracy2 = nltk.classify.accuracy(meta_model2, testing)*100\n",
    "accuracy2 = (round(accuracy2,3))\n",
    "print(\"Précision de meta_classifieur optimisé: {}\".format(accuracy2)+\"%\")"
   ]
  },
  {
   "cell_type": "markdown",
   "metadata": {},
   "source": [
    "#### 2.c) Diagramme de comparaison"
   ]
  },
  {
   "cell_type": "code",
   "execution_count": 129,
   "metadata": {},
   "outputs": [
    {
     "data": {
      "image/png": "[encoded data removed]",
      "text/plain": [
       "<Figure size 640x480 with 1 Axes>"
      ]
     },
     "metadata": {},
     "output_type": "display_data"
    }
   ],
   "source": [
    "fig = plt.figure()\n",
    "\n",
    "x = ['meta_classifieur','meta_classifieur_optimisé']\n",
    "height = [accuracy,accuracy2]\n",
    "plt.bar(x, height, color='green' )\n",
    "plt.show()"
   ]
  },
  {
   "cell_type": "markdown",
   "metadata": {},
   "source": [
    "### 3) Test de l'algorithme d'apprentissage\n",
    "\n",
    "#### 3.a) Prédiction du dataset testing"
   ]
  },
  {
   "cell_type": "markdown",
   "metadata": {},
   "source": [
    "Nous allons à présent tester l'algorithme sur le jeu de données testing (différents de la partie d'apprentissage)"
   ]
  },
  {
   "cell_type": "code",
   "execution_count": 130,
   "metadata": {},
   "outputs": [],
   "source": [
    "#dezip\n",
    "txt_features, labels = zip(*testing)\n",
    "\n",
    "prediction = meta_model2.classify_many(txt_features)"
   ]
  },
  {
   "cell_type": "markdown",
   "metadata": {},
   "source": [
    "### 4) Explication des résultats\n",
    "\n",
    "#### 4.a) Matrice de confusion"
   ]
  },
  {
   "cell_type": "markdown",
   "metadata": {},
   "source": [
    "##### Explanation of the results table\n",
    "print(\"precision = How accurate the positive predictions are\")\n",
    "print(\"TP/(TP+FP)\\n\")\n",
    "\n",
    "print(\"recall = Coverage of truly positive observations\")\n",
    "print(\"TP/(TP+FN)\\n\")\n",
    "\n",
    "print(\"F1_score = Hybrid indicator used for non-balanced classes\")\n",
    "print(\"2TP/(2TP+FP+FN)\\n\")\n",
    "\n",
    "# affichage des résultats\n",
    "erreur= round((100-accuracy),3)\n",
    "print(\"The error rate is: {}\".format(error)+\" %\\n\")\n",
    "print(classification_report(labels, prediction))\n",
    "\n",
    "pd.DataFrame(\n",
    "    confusion_matrix(labels, prediction),\n",
    "    index = [['Actually', 'Actually'], ['disliked', 'Liked']],\n",
    "    columns = [['Predicted', 'Predicted'], ['disliked', 'Liked']])"
   ]
  },
  {
   "cell_type": "markdown",
   "metadata": {},
   "source": [
    "#### Courbe ROC"
   ]
  },
  {
   "cell_type": "markdown",
   "metadata": {},
   "source": [
    "La courbe ROC représente le taux de True Positives en fonction de taux de False Positives et obtenue en faisant varier le seuil. \n",
    "\n",
    "cf: https://stanford.edu/~shervine/l/fr/teaching/cs-229/pense-bete-machine-learning-petites-astuces\n",
    "\n",
    "tuto traçage de la courbe: https://datamize.wordpress.com/2015/01/24/how-to-plot-a-roc-curve-in-scikit-learn/\n",
    "\n",
    "Ces indicateurs sont résumés dans le tableau suivant :\n",
    "\n",
    "\n",
    "|        Indicatieur          |       Formule         |       Equivalent      |\n",
    "|-----------------------------|-----------------------|-----------------------|\n",
    "|   True Positive Rate TPR    |    $(TP)/(TP+FN)$     |   Recall, sensitivity |\n",
    "|   False Positive Rate FPR   |    $(FP)/(TN+FP)$     |      1-specificity    |\n",
    "\n"
   ]
  },
  {
   "cell_type": "code",
   "execution_count": 132,
   "metadata": {},
   "outputs": [
    {
     "data": {
      "image/png": "[encoded data removed]",
      "text/plain": [
       "<Figure size 640x480 with 1 Axes>"
      ]
     },
     "metadata": {},
     "output_type": "display_data"
    }
   ],
   "source": [
    "# Importation bibliothèques\n",
    "from sklearn.metrics import roc_curve, auc\n",
    "import matplotlib.pyplot as plt\n",
    "import random\n",
    "\n",
    "labelsTAB = np.asarray(labels)\n",
    "\n",
    "# Calculate FPR & TPR\n",
    "false_positive_rate, true_positive_rate, thresholds = roc_curve(labelsTAB, prediction)\n",
    "roc_auc = auc(false_positive_rate, true_positive_rate)\n",
    "\n",
    "# Display curbes\n",
    "plt.title('Courbe ROC')\n",
    "plt.plot(false_positive_rate, true_positive_rate, 'b',\n",
    "label='AUC = %0.1f'% roc_auc)\n",
    "plt.legend(loc='lower right')\n",
    "plt.plot([0,1],[0,1],'r--')\n",
    "plt.xlim([0,1])\n",
    "plt.ylim([0,1])\n",
    "plt.ylabel('True Positive Rate')\n",
    "plt.xlabel('False Positive Rate')\n",
    "plt.show()"
   ]
  },
  {
   "cell_type": "markdown",
   "metadata": {},
   "source": [
    "## C. Conclusion"
   ]
  },
  {
   "attachments": {},
   "cell_type": "markdown",
   "metadata": {},
   "source": [
    "Ce classifieur présente des lacunes pour deux raisons :\n",
    "\n",
    "* La matrice de confusion montre une mauvaise distribution des échantillons de test de formation (le programme a du mal à reconnaître les dislikes).\n",
    "* La courbe ROC a une aire nulle, ce qui signifie que notre classifieur ne peut pas vraiment classer les descriptions (il ne se trompe pas tout le temps --> aire négative, il classe parfaitement --> aire positive).\n",
    "\n",
    "\n",
    "Cela est principalement dû au fait que les likes et les dislikes de l'utilisateur sont générés aléatoirement, donc ne sont pas cohérents. Cependant, si nous faisons en sorte que notre utilisateur like beaucoup plus que dislike, notre classifieur aura de bien meilleures performances."
   ]
  }
 ],
 "metadata": {
  "kernelspec": {
   "display_name": "Python 3",
   "language": "python",
   "name": "python3"
  },
  "language_info": {
   "codemirror_mode": {
    "name": "ipython",
    "version": 3
   },
   "file_extension": ".py",
   "mimetype": "text/x-python",
   "name": "python",
   "nbconvert_exporter": "python",
   "pygments_lexer": "ipython3",
   "version": "3.10.6"
  },
  "vscode": {
   "interpreter": {
    "hash": "916dbcbb3f70747c44a77c7bcd40155683ae19c65e1c03b4aa3499c5328201f1"
   }
  }
 },
 "nbformat": 4,
 "nbformat_minor": 4
}
